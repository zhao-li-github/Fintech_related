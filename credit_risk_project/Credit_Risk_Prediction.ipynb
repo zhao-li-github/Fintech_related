{
  "nbformat": 4,
  "nbformat_minor": 0,
  "metadata": {
    "colab": {
      "name": "Credit_Risk_Prediction.ipynb",
      "provenance": [],
      "collapsed_sections": [],
      "toc_visible": true
    },
    "kernelspec": {
      "name": "python3",
      "display_name": "Python 3"
    },
    "language_info": {
      "name": "python"
    }
  },
  "cells": [
    {
      "cell_type": "markdown",
      "source": [
        "The purpose of this notebook is to explore the German credit dataset and build a supervised machine learning model to predict whether a person has a good or bad credit, based on features including age, gender, housing status, career status, bank accounts information, and loan information (duration and purpose). \n",
        "<br> The dataset is from Kaggle: https://www.kaggle.com/code/bhanwarsaini/credit-risk-assessment/data which was originally from [NCI](https://archive.ics.uci.edu/ml/datasets/Statlog+%28German+Credit+Data%29)."
      ],
      "metadata": {
        "id": "fFIlAfeeoB_8"
      }
    },
    {
      "cell_type": "markdown",
      "source": [
        "### 1. Importing Data and Libraries"
      ],
      "metadata": {
        "id": "t8-FXGLFX_gk"
      }
    },
    {
      "cell_type": "markdown",
      "source": [
        "First import pandas library and upload the dataset."
      ],
      "metadata": {
        "id": "f9b_QyCt7yNE"
      }
    },
    {
      "cell_type": "code",
      "source": [
        "import pandas as pd\n",
        "import numpy as np\n",
        "from google.colab import files \n",
        "uploaded = files.upload()"
      ],
      "metadata": {
        "colab": {
          "resources": {
            "http://localhost:8080/nbextensions/google.colab/files.js": {
              "data": "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",
              "ok": true,
              "headers": [
                [
                  "content-type",
                  "application/javascript"
                ]
              ],
              "status": 200,
              "status_text": ""
            }
          },
          "base_uri": "https://localhost:8080/",
          "height": 73
        },
        "id": "IzK7DolT6b9J",
        "outputId": "d8a96139-5c46-4b62-8eec-77c94c48a351"
      },
      "execution_count": null,
      "outputs": [
        {
          "output_type": "display_data",
          "data": {
            "text/plain": [
              "<IPython.core.display.HTML object>"
            ],
            "text/html": [
              "\n",
              "     <input type=\"file\" id=\"files-3a5cb00a-3c60-41e6-b60e-a65ca2992176\" name=\"files[]\" multiple disabled\n",
              "        style=\"border:none\" />\n",
              "     <output id=\"result-3a5cb00a-3c60-41e6-b60e-a65ca2992176\">\n",
              "      Upload widget is only available when the cell has been executed in the\n",
              "      current browser session. Please rerun this cell to enable.\n",
              "      </output>\n",
              "      <script src=\"/nbextensions/google.colab/files.js\"></script> "
            ]
          },
          "metadata": {}
        },
        {
          "output_type": "stream",
          "name": "stdout",
          "text": [
            "Saving german_credit_data.csv to german_credit_data.csv\n"
          ]
        }
      ]
    },
    {
      "cell_type": "code",
      "source": [
        "import matplotlib.pyplot as plt\n",
        "import matplotlib.patches as mpatches\n",
        "import seaborn as sns\n",
        "\n",
        "from sklearn.preprocessing import MinMaxScaler\n",
        "from sklearn.model_selection import train_test_split, GridSearchCV, StratifiedKFold, cross_val_score\n",
        "from sklearn.metrics import fbeta_score, accuracy_score, roc_curve, auc, roc_auc_score, confusion_matrix, precision_score, recall_score, log_loss\n",
        "from sklearn.linear_model import LogisticRegression\n",
        "from sklearn.ensemble import RandomForestClassifier, GradientBoostingClassifier, AdaBoostClassifier\n",
        "from sklearn.svm import SVC\n",
        "from sklearn.neighbors import KNeighborsClassifier\n",
        "from sklearn.naive_bayes import GaussianNB\n",
        "from xgboost import XGBClassifier\n",
        "import lightgbm as lgb\n",
        "from imblearn.over_sampling import RandomOverSampler, SMOTE"
      ],
      "metadata": {
        "id": "_MVIE-6m4ZdA"
      },
      "execution_count": null,
      "outputs": []
    },
    {
      "cell_type": "code",
      "source": [
        "df = pd.read_csv('german_credit_data.csv')\n",
        "df.head()"
      ],
      "metadata": {
        "colab": {
          "base_uri": "https://localhost:8080/",
          "height": 267
        },
        "id": "23dRU2IROTzH",
        "outputId": "0b68e2b9-a28e-456e-a9c9-6a2bbf66109c"
      },
      "execution_count": null,
      "outputs": [
        {
          "output_type": "execute_result",
          "data": {
            "text/plain": [
              "   Unnamed: 0  Age     Sex  Job Housing Saving accounts Checking account  \\\n",
              "0           0   67    male    2     own             NaN           little   \n",
              "1           1   22  female    2     own          little         moderate   \n",
              "2           2   49    male    1     own          little              NaN   \n",
              "3           3   45    male    2    free          little           little   \n",
              "4           4   53    male    2    free          little           little   \n",
              "\n",
              "   Credit amount  Duration              Purpose  Risk  \n",
              "0           1169         6             radio/TV  good  \n",
              "1           5951        48             radio/TV   bad  \n",
              "2           2096        12            education  good  \n",
              "3           7882        42  furniture/equipment  good  \n",
              "4           4870        24                  car   bad  "
            ],
            "text/html": [
              "\n",
              "  <div id=\"df-c33afca4-7a45-45dd-b65a-8f87b4cdf4b6\">\n",
              "    <div class=\"colab-df-container\">\n",
              "      <div>\n",
              "<style scoped>\n",
              "    .dataframe tbody tr th:only-of-type {\n",
              "        vertical-align: middle;\n",
              "    }\n",
              "\n",
              "    .dataframe tbody tr th {\n",
              "        vertical-align: top;\n",
              "    }\n",
              "\n",
              "    .dataframe thead th {\n",
              "        text-align: right;\n",
              "    }\n",
              "</style>\n",
              "<table border=\"1\" class=\"dataframe\">\n",
              "  <thead>\n",
              "    <tr style=\"text-align: right;\">\n",
              "      <th></th>\n",
              "      <th>Unnamed: 0</th>\n",
              "      <th>Age</th>\n",
              "      <th>Sex</th>\n",
              "      <th>Job</th>\n",
              "      <th>Housing</th>\n",
              "      <th>Saving accounts</th>\n",
              "      <th>Checking account</th>\n",
              "      <th>Credit amount</th>\n",
              "      <th>Duration</th>\n",
              "      <th>Purpose</th>\n",
              "      <th>Risk</th>\n",
              "    </tr>\n",
              "  </thead>\n",
              "  <tbody>\n",
              "    <tr>\n",
              "      <th>0</th>\n",
              "      <td>0</td>\n",
              "      <td>67</td>\n",
              "      <td>male</td>\n",
              "      <td>2</td>\n",
              "      <td>own</td>\n",
              "      <td>NaN</td>\n",
              "      <td>little</td>\n",
              "      <td>1169</td>\n",
              "      <td>6</td>\n",
              "      <td>radio/TV</td>\n",
              "      <td>good</td>\n",
              "    </tr>\n",
              "    <tr>\n",
              "      <th>1</th>\n",
              "      <td>1</td>\n",
              "      <td>22</td>\n",
              "      <td>female</td>\n",
              "      <td>2</td>\n",
              "      <td>own</td>\n",
              "      <td>little</td>\n",
              "      <td>moderate</td>\n",
              "      <td>5951</td>\n",
              "      <td>48</td>\n",
              "      <td>radio/TV</td>\n",
              "      <td>bad</td>\n",
              "    </tr>\n",
              "    <tr>\n",
              "      <th>2</th>\n",
              "      <td>2</td>\n",
              "      <td>49</td>\n",
              "      <td>male</td>\n",
              "      <td>1</td>\n",
              "      <td>own</td>\n",
              "      <td>little</td>\n",
              "      <td>NaN</td>\n",
              "      <td>2096</td>\n",
              "      <td>12</td>\n",
              "      <td>education</td>\n",
              "      <td>good</td>\n",
              "    </tr>\n",
              "    <tr>\n",
              "      <th>3</th>\n",
              "      <td>3</td>\n",
              "      <td>45</td>\n",
              "      <td>male</td>\n",
              "      <td>2</td>\n",
              "      <td>free</td>\n",
              "      <td>little</td>\n",
              "      <td>little</td>\n",
              "      <td>7882</td>\n",
              "      <td>42</td>\n",
              "      <td>furniture/equipment</td>\n",
              "      <td>good</td>\n",
              "    </tr>\n",
              "    <tr>\n",
              "      <th>4</th>\n",
              "      <td>4</td>\n",
              "      <td>53</td>\n",
              "      <td>male</td>\n",
              "      <td>2</td>\n",
              "      <td>free</td>\n",
              "      <td>little</td>\n",
              "      <td>little</td>\n",
              "      <td>4870</td>\n",
              "      <td>24</td>\n",
              "      <td>car</td>\n",
              "      <td>bad</td>\n",
              "    </tr>\n",
              "  </tbody>\n",
              "</table>\n",
              "</div>\n",
              "      <button class=\"colab-df-convert\" onclick=\"convertToInteractive('df-c33afca4-7a45-45dd-b65a-8f87b4cdf4b6')\"\n",
              "              title=\"Convert this dataframe to an interactive table.\"\n",
              "              style=\"display:none;\">\n",
              "        \n",
              "  <svg xmlns=\"http://www.w3.org/2000/svg\" height=\"24px\"viewBox=\"0 0 24 24\"\n",
              "       width=\"24px\">\n",
              "    <path d=\"M0 0h24v24H0V0z\" fill=\"none\"/>\n",
              "    <path d=\"M18.56 5.44l.94 2.06.94-2.06 2.06-.94-2.06-.94-.94-2.06-.94 2.06-2.06.94zm-11 1L8.5 8.5l.94-2.06 2.06-.94-2.06-.94L8.5 2.5l-.94 2.06-2.06.94zm10 10l.94 2.06.94-2.06 2.06-.94-2.06-.94-.94-2.06-.94 2.06-2.06.94z\"/><path d=\"M17.41 7.96l-1.37-1.37c-.4-.4-.92-.59-1.43-.59-.52 0-1.04.2-1.43.59L10.3 9.45l-7.72 7.72c-.78.78-.78 2.05 0 2.83L4 21.41c.39.39.9.59 1.41.59.51 0 1.02-.2 1.41-.59l7.78-7.78 2.81-2.81c.8-.78.8-2.07 0-2.86zM5.41 20L4 18.59l7.72-7.72 1.47 1.35L5.41 20z\"/>\n",
              "  </svg>\n",
              "      </button>\n",
              "      \n",
              "  <style>\n",
              "    .colab-df-container {\n",
              "      display:flex;\n",
              "      flex-wrap:wrap;\n",
              "      gap: 12px;\n",
              "    }\n",
              "\n",
              "    .colab-df-convert {\n",
              "      background-color: #E8F0FE;\n",
              "      border: none;\n",
              "      border-radius: 50%;\n",
              "      cursor: pointer;\n",
              "      display: none;\n",
              "      fill: #1967D2;\n",
              "      height: 32px;\n",
              "      padding: 0 0 0 0;\n",
              "      width: 32px;\n",
              "    }\n",
              "\n",
              "    .colab-df-convert:hover {\n",
              "      background-color: #E2EBFA;\n",
              "      box-shadow: 0px 1px 2px rgba(60, 64, 67, 0.3), 0px 1px 3px 1px rgba(60, 64, 67, 0.15);\n",
              "      fill: #174EA6;\n",
              "    }\n",
              "\n",
              "    [theme=dark] .colab-df-convert {\n",
              "      background-color: #3B4455;\n",
              "      fill: #D2E3FC;\n",
              "    }\n",
              "\n",
              "    [theme=dark] .colab-df-convert:hover {\n",
              "      background-color: #434B5C;\n",
              "      box-shadow: 0px 1px 3px 1px rgba(0, 0, 0, 0.15);\n",
              "      filter: drop-shadow(0px 1px 2px rgba(0, 0, 0, 0.3));\n",
              "      fill: #FFFFFF;\n",
              "    }\n",
              "  </style>\n",
              "\n",
              "      <script>\n",
              "        const buttonEl =\n",
              "          document.querySelector('#df-c33afca4-7a45-45dd-b65a-8f87b4cdf4b6 button.colab-df-convert');\n",
              "        buttonEl.style.display =\n",
              "          google.colab.kernel.accessAllowed ? 'block' : 'none';\n",
              "\n",
              "        async function convertToInteractive(key) {\n",
              "          const element = document.querySelector('#df-c33afca4-7a45-45dd-b65a-8f87b4cdf4b6');\n",
              "          const dataTable =\n",
              "            await google.colab.kernel.invokeFunction('convertToInteractive',\n",
              "                                                     [key], {});\n",
              "          if (!dataTable) return;\n",
              "\n",
              "          const docLinkHtml = 'Like what you see? Visit the ' +\n",
              "            '<a target=\"_blank\" href=https://colab.research.google.com/notebooks/data_table.ipynb>data table notebook</a>'\n",
              "            + ' to learn more about interactive tables.';\n",
              "          element.innerHTML = '';\n",
              "          dataTable['output_type'] = 'display_data';\n",
              "          await google.colab.output.renderOutput(dataTable, element);\n",
              "          const docLink = document.createElement('div');\n",
              "          docLink.innerHTML = docLinkHtml;\n",
              "          element.appendChild(docLink);\n",
              "        }\n",
              "      </script>\n",
              "    </div>\n",
              "  </div>\n",
              "  "
            ]
          },
          "metadata": {},
          "execution_count": 4
        }
      ]
    },
    {
      "cell_type": "markdown",
      "source": [
        "From original dataset:\n",
        "- Age (numeric)\n",
        "- Sex (text: male, female)\n",
        "- Job (numeric: 0 - unskilled and non-resident, 1 - unskilled and resident, 2 - skilled, 3 - highly skilled)\n",
        "- Housing (text: own, rent, or free)\n",
        "- Saving accounts (text - little, moderate, quite rich, rich)\n",
        "- Checking account (numeric, in DM - Deutsch Mark)\n",
        "- Credit amount (numeric, in DM)\n",
        "- Duration (numeric, in month)\n",
        "- Purpose (text: car, furniture/equipment, radio/TV, domestic appliances, repairs, education, business, vacation/others)"
      ],
      "metadata": {
        "id": "3nbjbhwKFhBd"
      }
    },
    {
      "cell_type": "markdown",
      "source": [
        "First, get some basic information about this dataset:"
      ],
      "metadata": {
        "id": "A9uJqjow8otc"
      }
    },
    {
      "cell_type": "code",
      "source": [
        "df.describe()"
      ],
      "metadata": {
        "colab": {
          "base_uri": "https://localhost:8080/",
          "height": 300
        },
        "id": "ZBEcr-tSPP8b",
        "outputId": "bb4e0815-23ee-47ae-f72c-f3c79d860faf"
      },
      "execution_count": null,
      "outputs": [
        {
          "output_type": "execute_result",
          "data": {
            "text/plain": [
              "        Unnamed: 0          Age          Job  Credit amount     Duration\n",
              "count  1000.000000  1000.000000  1000.000000    1000.000000  1000.000000\n",
              "mean    499.500000    35.546000     1.904000    3271.258000    20.903000\n",
              "std     288.819436    11.375469     0.653614    2822.736876    12.058814\n",
              "min       0.000000    19.000000     0.000000     250.000000     4.000000\n",
              "25%     249.750000    27.000000     2.000000    1365.500000    12.000000\n",
              "50%     499.500000    33.000000     2.000000    2319.500000    18.000000\n",
              "75%     749.250000    42.000000     2.000000    3972.250000    24.000000\n",
              "max     999.000000    75.000000     3.000000   18424.000000    72.000000"
            ],
            "text/html": [
              "\n",
              "  <div id=\"df-c0d86a89-e33d-4216-a0ac-54a79197792e\">\n",
              "    <div class=\"colab-df-container\">\n",
              "      <div>\n",
              "<style scoped>\n",
              "    .dataframe tbody tr th:only-of-type {\n",
              "        vertical-align: middle;\n",
              "    }\n",
              "\n",
              "    .dataframe tbody tr th {\n",
              "        vertical-align: top;\n",
              "    }\n",
              "\n",
              "    .dataframe thead th {\n",
              "        text-align: right;\n",
              "    }\n",
              "</style>\n",
              "<table border=\"1\" class=\"dataframe\">\n",
              "  <thead>\n",
              "    <tr style=\"text-align: right;\">\n",
              "      <th></th>\n",
              "      <th>Unnamed: 0</th>\n",
              "      <th>Age</th>\n",
              "      <th>Job</th>\n",
              "      <th>Credit amount</th>\n",
              "      <th>Duration</th>\n",
              "    </tr>\n",
              "  </thead>\n",
              "  <tbody>\n",
              "    <tr>\n",
              "      <th>count</th>\n",
              "      <td>1000.000000</td>\n",
              "      <td>1000.000000</td>\n",
              "      <td>1000.000000</td>\n",
              "      <td>1000.000000</td>\n",
              "      <td>1000.000000</td>\n",
              "    </tr>\n",
              "    <tr>\n",
              "      <th>mean</th>\n",
              "      <td>499.500000</td>\n",
              "      <td>35.546000</td>\n",
              "      <td>1.904000</td>\n",
              "      <td>3271.258000</td>\n",
              "      <td>20.903000</td>\n",
              "    </tr>\n",
              "    <tr>\n",
              "      <th>std</th>\n",
              "      <td>288.819436</td>\n",
              "      <td>11.375469</td>\n",
              "      <td>0.653614</td>\n",
              "      <td>2822.736876</td>\n",
              "      <td>12.058814</td>\n",
              "    </tr>\n",
              "    <tr>\n",
              "      <th>min</th>\n",
              "      <td>0.000000</td>\n",
              "      <td>19.000000</td>\n",
              "      <td>0.000000</td>\n",
              "      <td>250.000000</td>\n",
              "      <td>4.000000</td>\n",
              "    </tr>\n",
              "    <tr>\n",
              "      <th>25%</th>\n",
              "      <td>249.750000</td>\n",
              "      <td>27.000000</td>\n",
              "      <td>2.000000</td>\n",
              "      <td>1365.500000</td>\n",
              "      <td>12.000000</td>\n",
              "    </tr>\n",
              "    <tr>\n",
              "      <th>50%</th>\n",
              "      <td>499.500000</td>\n",
              "      <td>33.000000</td>\n",
              "      <td>2.000000</td>\n",
              "      <td>2319.500000</td>\n",
              "      <td>18.000000</td>\n",
              "    </tr>\n",
              "    <tr>\n",
              "      <th>75%</th>\n",
              "      <td>749.250000</td>\n",
              "      <td>42.000000</td>\n",
              "      <td>2.000000</td>\n",
              "      <td>3972.250000</td>\n",
              "      <td>24.000000</td>\n",
              "    </tr>\n",
              "    <tr>\n",
              "      <th>max</th>\n",
              "      <td>999.000000</td>\n",
              "      <td>75.000000</td>\n",
              "      <td>3.000000</td>\n",
              "      <td>18424.000000</td>\n",
              "      <td>72.000000</td>\n",
              "    </tr>\n",
              "  </tbody>\n",
              "</table>\n",
              "</div>\n",
              "      <button class=\"colab-df-convert\" onclick=\"convertToInteractive('df-c0d86a89-e33d-4216-a0ac-54a79197792e')\"\n",
              "              title=\"Convert this dataframe to an interactive table.\"\n",
              "              style=\"display:none;\">\n",
              "        \n",
              "  <svg xmlns=\"http://www.w3.org/2000/svg\" height=\"24px\"viewBox=\"0 0 24 24\"\n",
              "       width=\"24px\">\n",
              "    <path d=\"M0 0h24v24H0V0z\" fill=\"none\"/>\n",
              "    <path d=\"M18.56 5.44l.94 2.06.94-2.06 2.06-.94-2.06-.94-.94-2.06-.94 2.06-2.06.94zm-11 1L8.5 8.5l.94-2.06 2.06-.94-2.06-.94L8.5 2.5l-.94 2.06-2.06.94zm10 10l.94 2.06.94-2.06 2.06-.94-2.06-.94-.94-2.06-.94 2.06-2.06.94z\"/><path d=\"M17.41 7.96l-1.37-1.37c-.4-.4-.92-.59-1.43-.59-.52 0-1.04.2-1.43.59L10.3 9.45l-7.72 7.72c-.78.78-.78 2.05 0 2.83L4 21.41c.39.39.9.59 1.41.59.51 0 1.02-.2 1.41-.59l7.78-7.78 2.81-2.81c.8-.78.8-2.07 0-2.86zM5.41 20L4 18.59l7.72-7.72 1.47 1.35L5.41 20z\"/>\n",
              "  </svg>\n",
              "      </button>\n",
              "      \n",
              "  <style>\n",
              "    .colab-df-container {\n",
              "      display:flex;\n",
              "      flex-wrap:wrap;\n",
              "      gap: 12px;\n",
              "    }\n",
              "\n",
              "    .colab-df-convert {\n",
              "      background-color: #E8F0FE;\n",
              "      border: none;\n",
              "      border-radius: 50%;\n",
              "      cursor: pointer;\n",
              "      display: none;\n",
              "      fill: #1967D2;\n",
              "      height: 32px;\n",
              "      padding: 0 0 0 0;\n",
              "      width: 32px;\n",
              "    }\n",
              "\n",
              "    .colab-df-convert:hover {\n",
              "      background-color: #E2EBFA;\n",
              "      box-shadow: 0px 1px 2px rgba(60, 64, 67, 0.3), 0px 1px 3px 1px rgba(60, 64, 67, 0.15);\n",
              "      fill: #174EA6;\n",
              "    }\n",
              "\n",
              "    [theme=dark] .colab-df-convert {\n",
              "      background-color: #3B4455;\n",
              "      fill: #D2E3FC;\n",
              "    }\n",
              "\n",
              "    [theme=dark] .colab-df-convert:hover {\n",
              "      background-color: #434B5C;\n",
              "      box-shadow: 0px 1px 3px 1px rgba(0, 0, 0, 0.15);\n",
              "      filter: drop-shadow(0px 1px 2px rgba(0, 0, 0, 0.3));\n",
              "      fill: #FFFFFF;\n",
              "    }\n",
              "  </style>\n",
              "\n",
              "      <script>\n",
              "        const buttonEl =\n",
              "          document.querySelector('#df-c0d86a89-e33d-4216-a0ac-54a79197792e button.colab-df-convert');\n",
              "        buttonEl.style.display =\n",
              "          google.colab.kernel.accessAllowed ? 'block' : 'none';\n",
              "\n",
              "        async function convertToInteractive(key) {\n",
              "          const element = document.querySelector('#df-c0d86a89-e33d-4216-a0ac-54a79197792e');\n",
              "          const dataTable =\n",
              "            await google.colab.kernel.invokeFunction('convertToInteractive',\n",
              "                                                     [key], {});\n",
              "          if (!dataTable) return;\n",
              "\n",
              "          const docLinkHtml = 'Like what you see? Visit the ' +\n",
              "            '<a target=\"_blank\" href=https://colab.research.google.com/notebooks/data_table.ipynb>data table notebook</a>'\n",
              "            + ' to learn more about interactive tables.';\n",
              "          element.innerHTML = '';\n",
              "          dataTable['output_type'] = 'display_data';\n",
              "          await google.colab.output.renderOutput(dataTable, element);\n",
              "          const docLink = document.createElement('div');\n",
              "          docLink.innerHTML = docLinkHtml;\n",
              "          element.appendChild(docLink);\n",
              "        }\n",
              "      </script>\n",
              "    </div>\n",
              "  </div>\n",
              "  "
            ]
          },
          "metadata": {},
          "execution_count": 5
        }
      ]
    },
    {
      "cell_type": "code",
      "source": [
        "df.info()"
      ],
      "metadata": {
        "colab": {
          "base_uri": "https://localhost:8080/"
        },
        "id": "KYSLLVFCGusR",
        "outputId": "42c32949-1ac7-4795-e6ef-13e898af0618"
      },
      "execution_count": null,
      "outputs": [
        {
          "output_type": "stream",
          "name": "stdout",
          "text": [
            "<class 'pandas.core.frame.DataFrame'>\n",
            "RangeIndex: 1000 entries, 0 to 999\n",
            "Data columns (total 11 columns):\n",
            " #   Column            Non-Null Count  Dtype \n",
            "---  ------            --------------  ----- \n",
            " 0   Unnamed: 0        1000 non-null   int64 \n",
            " 1   Age               1000 non-null   int64 \n",
            " 2   Sex               1000 non-null   object\n",
            " 3   Job               1000 non-null   int64 \n",
            " 4   Housing           1000 non-null   object\n",
            " 5   Saving accounts   817 non-null    object\n",
            " 6   Checking account  606 non-null    object\n",
            " 7   Credit amount     1000 non-null   int64 \n",
            " 8   Duration          1000 non-null   int64 \n",
            " 9   Purpose           1000 non-null   object\n",
            " 10  Risk              1000 non-null   object\n",
            "dtypes: int64(5), object(6)\n",
            "memory usage: 86.1+ KB\n"
          ]
        }
      ]
    },
    {
      "cell_type": "markdown",
      "source": [
        "So \"Saving accounts\" and \"Checking account\" have missing values. "
      ],
      "metadata": {
        "id": "9MhExhOakzR4"
      }
    },
    {
      "cell_type": "code",
      "source": [
        "df.shape"
      ],
      "metadata": {
        "colab": {
          "base_uri": "https://localhost:8080/"
        },
        "id": "qxzkS66OGuTq",
        "outputId": "5f9a0687-3713-4c99-df5d-3e6b0b7df1bb"
      },
      "execution_count": null,
      "outputs": [
        {
          "output_type": "execute_result",
          "data": {
            "text/plain": [
              "(1000, 11)"
            ]
          },
          "metadata": {},
          "execution_count": 7
        }
      ]
    },
    {
      "cell_type": "code",
      "source": [
        "# Total number of records (persons)\n",
        "n = df.shape[0]\n",
        "\n",
        "# Number of people who has good credit\n",
        "n_good = df[df['Risk']=='good'].shape[0]\n",
        "\n",
        "# Number of people who has bad credit\n",
        "n_bad = df[df['Risk']=='bad'].shape[0]\n",
        "\n",
        "# Percentage of bad credit\n",
        "Pr_bad = round(n_bad/n*100,2)\n",
        "\n",
        "# Print the results\n",
        "print(\"Total number of Records: {}\".format(n))\n",
        "print(\"Number of People with good credit: {}\".format(n_good))\n",
        "print(\"Number of People with bad credit: {}\".format(n_bad))\n",
        "print(\"Percentage of bad credit: {}%\".format(Pr_bad))"
      ],
      "metadata": {
        "colab": {
          "base_uri": "https://localhost:8080/"
        },
        "id": "N3mKwPpamj1P",
        "outputId": "a4c50c33-6496-408e-c9c3-5b7e0945eab5"
      },
      "execution_count": null,
      "outputs": [
        {
          "output_type": "stream",
          "name": "stdout",
          "text": [
            "Total number of Records: 1000\n",
            "Number of People with good credit: 700\n",
            "Number of People with bad credit: 300\n",
            "Percentage of bad credit: 30.0%\n"
          ]
        }
      ]
    },
    {
      "cell_type": "markdown",
      "source": [
        "There are 300 poeple with bad credit in all 1000 records in this dataset, which is 30%. So this dataset is imbalanced. \n",
        "*   In addition to accuracy, other metrics such as F-score (take beta = 1 to weigh precision and recall the same) and AUC should be considered when evaluating the supervised model.\n",
        "*   In some algorithms (such as LightGBM), tell the model that the dataset is umbalanced.\n",
        "*   The dataset will be resampled in a way that the minority class (bad credit) will be oversampled to 50% of the entire dataset."
      ],
      "metadata": {
        "id": "G2HvfxpvxXL-"
      }
    },
    {
      "cell_type": "markdown",
      "source": [
        "### 2. Visualizing Data\n",
        "Since the main task of this project is to build a ML model for predicting whether a person has a good or bad credit, I will focus on visualizing relevant information in this session. "
      ],
      "metadata": {
        "id": "7V_i0vyxVFD0"
      }
    },
    {
      "cell_type": "code",
      "source": [
        "# number of unique values in each column\n",
        "df.nunique()"
      ],
      "metadata": {
        "colab": {
          "base_uri": "https://localhost:8080/"
        },
        "id": "9BqPRqNqhWhD",
        "outputId": "4fff9a8b-8ca6-4f3a-f92b-3cf4ba06ed18"
      },
      "execution_count": null,
      "outputs": [
        {
          "output_type": "execute_result",
          "data": {
            "text/plain": [
              "Unnamed: 0          1000\n",
              "Age                   53\n",
              "Sex                    2\n",
              "Job                    4\n",
              "Housing                3\n",
              "Saving accounts        4\n",
              "Checking account       3\n",
              "Credit amount        921\n",
              "Duration              33\n",
              "Purpose                8\n",
              "Risk                   2\n",
              "dtype: int64"
            ]
          },
          "metadata": {},
          "execution_count": 9
        }
      ]
    },
    {
      "cell_type": "markdown",
      "source": [
        "#### 2.1 For categorical features"
      ],
      "metadata": {
        "id": "Sa2PyNUJFsJL"
      }
    },
    {
      "cell_type": "code",
      "source": [
        "# map \"good\" and \"bad\" risk into \"0\" and \"1\" for percentage calculations and visualizations\n",
        "df['Risk'] = df['Risk'].map({'good':0, 'bad':1})"
      ],
      "metadata": {
        "id": "Fdio17JUH_jp"
      },
      "execution_count": null,
      "outputs": []
    },
    {
      "cell_type": "code",
      "source": [
        "def vis_categorical(df, feature, xtick_rotate=0):\n",
        "    \"\"\"\n",
        "    Visualization code to display \n",
        "    (left) count plot of good/bad credit in each category of the feature\n",
        "    (right) percentage of bad credit in each category of the feature\n",
        "    \n",
        "    inputs:\n",
        "      - df: dataframe\n",
        "      - feature: the categorical feature to be visualize\n",
        "      - xtick_rotate: whether to rotate xtick labels (default 0: not rotate; 1: rotate)\n",
        "    \"\"\"\n",
        "\n",
        "    # calculate percentage\n",
        "    Pr_risk = df[[feature, 'Risk']].groupby([feature], as_index = False).mean()\n",
        "    Pr_risk['Risk'] = round(Pr_risk['Risk']*100, 2)\n",
        "  \n",
        "    # Create figure\n",
        "    fig, axes = plt.subplots(1, 2, figsize = (12,5))\n",
        "    fig.subplots_adjust(wspace=0.35, hspace=0.25)\n",
        "\n",
        "    # Aesthetics\n",
        "    bar_width = 0.1\n",
        "    \n",
        "    # subplot 1: original counts\n",
        "    ax1 = sns.countplot(df[feature], hue=df['Risk'], ax=axes[0])\n",
        "    ax1.set_title(\"Number of Good and Bad credit people for Each {}\".format(feature), fontdict={'fontsize':12})\n",
        "    if xtick_rotate == 1:\n",
        "      ax1.set_xticklabels(ax1.get_xticklabels(), rotation=40, ha=\"right\")\n",
        "\n",
        "    # subplot 2: percentage of bad credits\n",
        "    ax2 = sns.barplot(x=feature, y=\"Risk\", data=Pr_risk, ax=axes[1])\n",
        "    ax2.set_ylabel(\"Percentage of Bad credit\")\n",
        "    ax2.set_title(\"Percentage of Bad credit for Each {}\".format(feature), fontdict={'fontsize':12})\n",
        "    for idx, row in Pr_risk.iterrows():\n",
        "      ax2.text(row.name, row.Risk, row.Risk, color='black', ha=\"center\")\n",
        "    if xtick_rotate == 1:\n",
        "      ax2.set_xticklabels(ax2.get_xticklabels(), rotation=40, ha=\"right\")\n",
        "    plt.show()"
      ],
      "metadata": {
        "id": "QUOpRTw_k_Ro"
      },
      "execution_count": null,
      "outputs": []
    },
    {
      "cell_type": "code",
      "source": [
        "vis_categorical(df, 'Sex')"
      ],
      "metadata": {
        "colab": {
          "base_uri": "https://localhost:8080/",
          "height": 405
        },
        "id": "yX1kk90SKfA0",
        "outputId": "c662e0f1-f91c-4c20-d4b4-487752d1ad7c"
      },
      "execution_count": null,
      "outputs": [
        {
          "output_type": "stream",
          "name": "stderr",
          "text": [
            "/usr/local/lib/python3.7/dist-packages/seaborn/_decorators.py:43: FutureWarning: Pass the following variable as a keyword arg: x. From version 0.12, the only valid positional argument will be `data`, and passing other arguments without an explicit keyword will result in an error or misinterpretation.\n",
            "  FutureWarning\n"
          ]
        },
        {
          "output_type": "display_data",
          "data": {
            "text/plain": [
              "<Figure size 864x360 with 2 Axes>"
            ],
            "image/png": "[encoded data removed]"
          },
          "metadata": {
            "needs_background": "light"
          }
        }
      ]
    },
    {
      "cell_type": "code",
      "source": [
        "vis_categorical(df, 'Job')"
      ],
      "metadata": {
        "colab": {
          "base_uri": "https://localhost:8080/",
          "height": 405
        },
        "id": "BeCUminrKkrp",
        "outputId": "a166af18-d4db-479f-ecf4-58e4aee92bf2"
      },
      "execution_count": null,
      "outputs": [
        {
          "output_type": "stream",
          "name": "stderr",
          "text": [
            "/usr/local/lib/python3.7/dist-packages/seaborn/_decorators.py:43: FutureWarning: Pass the following variable as a keyword arg: x. From version 0.12, the only valid positional argument will be `data`, and passing other arguments without an explicit keyword will result in an error or misinterpretation.\n",
            "  FutureWarning\n"
          ]
        },
        {
          "output_type": "display_data",
          "data": {
            "text/plain": [
              "<Figure size 864x360 with 2 Axes>"
            ],
            "image/png": "[encoded data removed]"
          },
          "metadata": {
            "needs_background": "light"
          }
        }
      ]
    },
    {
      "cell_type": "markdown",
      "source": [
        "It's clear that in this dataset, male records have a slightly lower percentage of \"bad\" credit than female records. All job types have similar percentage of \"bad\" credit. "
      ],
      "metadata": {
        "id": "ktJbuoDdKjmg"
      }
    },
    {
      "cell_type": "code",
      "source": [
        "vis_categorical(df, 'Housing')"
      ],
      "metadata": {
        "colab": {
          "base_uri": "https://localhost:8080/",
          "height": 405
        },
        "id": "X1a-l8TkKyDF",
        "outputId": "021a0786-74d8-472d-d787-638b89f7d96d"
      },
      "execution_count": null,
      "outputs": [
        {
          "output_type": "stream",
          "name": "stderr",
          "text": [
            "/usr/local/lib/python3.7/dist-packages/seaborn/_decorators.py:43: FutureWarning: Pass the following variable as a keyword arg: x. From version 0.12, the only valid positional argument will be `data`, and passing other arguments without an explicit keyword will result in an error or misinterpretation.\n",
            "  FutureWarning\n"
          ]
        },
        {
          "output_type": "display_data",
          "data": {
            "text/plain": [
              "<Figure size 864x360 with 2 Axes>"
            ],
            "image/png": "[encoded data removed]"
          },
          "metadata": {
            "needs_background": "light"
          }
        }
      ]
    },
    {
      "cell_type": "markdown",
      "source": [
        "People who \"own\" their house have the lowest percentage of \"bad\" credit (26%), much lower than people who \"rent\" or \"free\" in housing status (~40%)."
      ],
      "metadata": {
        "id": "Qvx-ADAtKzqm"
      }
    },
    {
      "cell_type": "code",
      "source": [
        "vis_categorical(df, 'Saving accounts')\n",
        "vis_categorical(df, 'Checking account')"
      ],
      "metadata": {
        "colab": {
          "base_uri": "https://localhost:8080/",
          "height": 774
        },
        "id": "l1FKisThLBVQ",
        "outputId": "84337dc4-4af6-400d-977a-8f68f0aef04a"
      },
      "execution_count": null,
      "outputs": [
        {
          "output_type": "stream",
          "name": "stderr",
          "text": [
            "/usr/local/lib/python3.7/dist-packages/seaborn/_decorators.py:43: FutureWarning: Pass the following variable as a keyword arg: x. From version 0.12, the only valid positional argument will be `data`, and passing other arguments without an explicit keyword will result in an error or misinterpretation.\n",
            "  FutureWarning\n"
          ]
        },
        {
          "output_type": "display_data",
          "data": {
            "text/plain": [
              "<Figure size 864x360 with 2 Axes>"
            ],
            "image/png": "[encoded data removed]"
          },
          "metadata": {
            "needs_background": "light"
          }
        },
        {
          "output_type": "stream",
          "name": "stderr",
          "text": [
            "/usr/local/lib/python3.7/dist-packages/seaborn/_decorators.py:43: FutureWarning: Pass the following variable as a keyword arg: x. From version 0.12, the only valid positional argument will be `data`, and passing other arguments without an explicit keyword will result in an error or misinterpretation.\n",
            "  FutureWarning\n"
          ]
        },
        {
          "output_type": "display_data",
          "data": {
            "text/plain": [
              "<Figure size 864x360 with 2 Axes>"
            ],
            "image/png": "[encoded data removed]"
          },
          "metadata": {
            "needs_background": "light"
          }
        }
      ]
    },
    {
      "cell_type": "markdown",
      "source": [
        "Very clear that people who have high savings and checking accounts (\"rich\" and \"quite rich\") have the lowest percentage of \"bad\" credit."
      ],
      "metadata": {
        "id": "SExDDBGZLDSg"
      }
    },
    {
      "cell_type": "code",
      "source": [
        "vis_categorical(df, 'Purpose', 1)"
      ],
      "metadata": {
        "colab": {
          "base_uri": "https://localhost:8080/",
          "height": 468
        },
        "id": "SpUQr0h5uQZZ",
        "outputId": "75229d08-ec2d-46c0-c3ad-5711960b7e98"
      },
      "execution_count": null,
      "outputs": [
        {
          "output_type": "stream",
          "name": "stderr",
          "text": [
            "/usr/local/lib/python3.7/dist-packages/seaborn/_decorators.py:43: FutureWarning: Pass the following variable as a keyword arg: x. From version 0.12, the only valid positional argument will be `data`, and passing other arguments without an explicit keyword will result in an error or misinterpretation.\n",
            "  FutureWarning\n"
          ]
        },
        {
          "output_type": "display_data",
          "data": {
            "text/plain": [
              "<Figure size 864x360 with 2 Axes>"
            ],
            "image/png": "[encoded data removed]"
          },
          "metadata": {
            "needs_background": "light"
          }
        }
      ]
    },
    {
      "cell_type": "markdown",
      "source": [
        "It's also interesting to see that when the \"purpose\" is \"radio/TV\", the percentage of \"bad\" credit is the lowest (22%), and when the \"purpose\" is \"vacation/others\" or \"education\", the percentage of \"bad\" credit increases to around 40%. However, keep in mind that there are not many of records with \"vacation/others\" and \"education\". "
      ],
      "metadata": {
        "id": "VCRqJJ-wLPrx"
      }
    },
    {
      "cell_type": "markdown",
      "source": [
        "#### 2.2 Numerical features"
      ],
      "metadata": {
        "id": "q2WxHF2M8F37"
      }
    },
    {
      "cell_type": "code",
      "source": [
        "# calculate the percentage of bad credit at different age\n",
        "Pr_risk_age = df[['Age', 'Risk']].groupby(['Age'], as_index = False).mean()\n",
        "Pr_risk_age['Risk'] = round(Pr_risk_age['Risk']*100, 1)"
      ],
      "metadata": {
        "id": "fwz4ERmF_iYK"
      },
      "execution_count": null,
      "outputs": []
    },
    {
      "cell_type": "code",
      "source": [
        "fig, axes = plt.subplots(1, 2, figsize = (16,6))\n",
        "fig.subplots_adjust(wspace=0.35, hspace=0.25)\n",
        "\n",
        "ax1 = axes[0]\n",
        "ax1.hist(df['Age'], bins=30, alpha=0.5, ec='w', label='overall')\n",
        "ax1.hist(df[df['Risk']==0]['Age'], bins=30,alpha=0.5, ec='w', label='good')\n",
        "ax1.hist(df[df['Risk']==1]['Age'], bins=30,alpha=0.4, ec='w', label='bad')\n",
        "ax1.set_xlabel('Age', fontsize=16)\n",
        "ax1.set_ylabel('Num of customers', fontsize=16)\n",
        "ax1.set_title('Age distribution of customers', fontsize=16)\n",
        "ax1.legend(loc='best',fontsize=12)\n",
        "\n",
        "ax2 = axes[1]\n",
        "ax2.plot(Pr_risk_age['Age'], Pr_risk_age['Risk'])\n",
        "ax2.set_title('Percentage with bad credit over age', fontsize=16)\n",
        "ax2.set_xlabel('Age', fontsize=16)\n",
        "ax2.set_ylabel('Percentage', fontsize=16)\n",
        "ax2.set_ylim(0, 100)\n",
        "\n",
        "plt.show()"
      ],
      "metadata": {
        "id": "CBGT_BjOvjoP",
        "colab": {
          "base_uri": "https://localhost:8080/",
          "height": 411
        },
        "outputId": "46e07334-7231-4794-80e6-acd799a0e887"
      },
      "execution_count": null,
      "outputs": [
        {
          "output_type": "display_data",
          "data": {
            "text/plain": [
              "<Figure size 1152x432 with 2 Axes>"
            ],
            "image/png": "[encoded data removed]"
          },
          "metadata": {
            "needs_background": "light"
          }
        }
      ]
    },
    {
      "cell_type": "markdown",
      "source": [
        "Although there are some zig-zag (due to the small data size), overall speaking, the percentage of bad credit decreases over age, which agrees with my intuition that when people get more mature, they are more likely to be responsible for their finance and tend to have better credit. "
      ],
      "metadata": {
        "id": "qedRiCgrAJjr"
      }
    },
    {
      "cell_type": "code",
      "source": [
        "# calculate the percentage of bad credit at different loan duration\n",
        "Pr_risk_duration = df[['Duration', 'Risk']].groupby(['Duration'], as_index = False).mean()\n",
        "Pr_risk_duration['Risk'] = round(Pr_risk_duration['Risk']*100, 1)"
      ],
      "metadata": {
        "id": "OymqM3kZAazm"
      },
      "execution_count": null,
      "outputs": []
    },
    {
      "cell_type": "code",
      "source": [
        "fig, axes = plt.subplots(1, 2, figsize = (16,6))\n",
        "fig.subplots_adjust(wspace=0.35, hspace=0.25)\n",
        "\n",
        "ax1 = axes[0]\n",
        "ax1.hist(df['Duration'], bins=33, alpha=0.5, ec='w', label='overall')\n",
        "ax1.hist(df[df['Risk']==0]['Duration'], bins=33,alpha=0.5, ec='w', label='good')\n",
        "ax1.hist(df[df['Risk']==1]['Duration'], bins=33,alpha=0.4, ec='w', label='bad')\n",
        "ax1.set_xlabel('Duration', fontsize=16)\n",
        "ax1.set_ylabel('Num of customers', fontsize=16)\n",
        "ax1.set_title('Duration distribution of customers', fontsize=16)\n",
        "ax1.legend(loc='best',fontsize=12)\n",
        "\n",
        "ax2 = axes[1]\n",
        "ax2.plot(Pr_risk_duration['Duration'], Pr_risk_duration['Risk'])\n",
        "ax2.set_title('Percentage with bad credit over duration', fontsize=16)\n",
        "ax2.set_xlabel('Duration', fontsize=16)\n",
        "ax2.set_ylabel('Percentage', fontsize=16)\n",
        "ax2.set_ylim(0, 100)\n",
        "\n",
        "plt.show()"
      ],
      "metadata": {
        "colab": {
          "base_uri": "https://localhost:8080/",
          "height": 403
        },
        "id": "hXPtIBKXSPJT",
        "outputId": "c3aff76a-bb5d-49ed-aba5-7699468ed079"
      },
      "execution_count": null,
      "outputs": [
        {
          "output_type": "display_data",
          "data": {
            "text/plain": [
              "<Figure size 1152x432 with 2 Axes>"
            ],
            "image/png": "[encoded data removed]"
          },
          "metadata": {
            "needs_background": "light"
          }
        }
      ]
    },
    {
      "cell_type": "markdown",
      "source": [
        "Interestingly, it seems that the percentage of bad credit increases with the increasing duration."
      ],
      "metadata": {
        "id": "wabn01MPfFFl"
      }
    },
    {
      "cell_type": "code",
      "source": [
        "plt.figure(num=None, figsize=(8, 6), dpi=80)\n",
        "plt.hist(df['Credit amount'], bins=30, alpha=0.5, ec='w', label='overall')\n",
        "plt.hist(df[df['Risk']==0]['Credit amount'], bins=30,alpha=0.5, ec='w', label='good')\n",
        "plt.hist(df[df['Risk']==1]['Credit amount'], bins=30,alpha=0.4, ec='w', label='bad')\n",
        "plt.xlabel('Credit amunt', fontsize=16)\n",
        "plt.ylabel('Num of customers', fontsize=16)\n",
        "plt.title('Credit amount distribution of customers', fontsize=16)\n",
        "plt.legend(loc='best',fontsize=12)\n",
        "plt.show()"
      ],
      "metadata": {
        "id": "MRpXef9YuQpY",
        "colab": {
          "base_uri": "https://localhost:8080/",
          "height": 456
        },
        "outputId": "0fc84f50-67ad-4fd6-ef0c-78867bc64e83"
      },
      "execution_count": null,
      "outputs": [
        {
          "output_type": "display_data",
          "data": {
            "text/plain": [
              "<Figure size 640x480 with 1 Axes>"
            ],
            "image/png": "[encoded data removed]"
          },
          "metadata": {
            "needs_background": "light"
          }
        }
      ]
    },
    {
      "cell_type": "markdown",
      "source": [
        "#### 2.3 Correlation diagram"
      ],
      "metadata": {
        "id": "V0y9c0mBF-5c"
      }
    },
    {
      "cell_type": "code",
      "source": [
        "df.drop(['Unnamed: 0'], axis=1, inplace=True)"
      ],
      "metadata": {
        "id": "hFZk-S9lCmaP"
      },
      "execution_count": null,
      "outputs": []
    },
    {
      "cell_type": "code",
      "source": [
        "df.head()"
      ],
      "metadata": {
        "colab": {
          "base_uri": "https://localhost:8080/",
          "height": 250
        },
        "id": "pst5VeEvC0R1",
        "outputId": "ff413678-7517-4b0e-cae9-501dd5d441d5"
      },
      "execution_count": null,
      "outputs": [
        {
          "output_type": "execute_result",
          "data": {
            "text/plain": [
              "   Age     Sex  Job Housing Saving accounts Checking account  Credit amount  \\\n",
              "0   67    male    2     own             NaN           little           1169   \n",
              "1   22  female    2     own          little         moderate           5951   \n",
              "2   49    male    1     own          little              NaN           2096   \n",
              "3   45    male    2    free          little           little           7882   \n",
              "4   53    male    2    free          little           little           4870   \n",
              "\n",
              "   Duration              Purpose  Risk  \n",
              "0         6             radio/TV     0  \n",
              "1        48             radio/TV     1  \n",
              "2        12            education     0  \n",
              "3        42  furniture/equipment     0  \n",
              "4        24                  car     1  "
            ],
            "text/html": [
              "\n",
              "  <div id=\"df-aa6557c0-c5e9-4c77-9211-002be9fb10c8\">\n",
              "    <div class=\"colab-df-container\">\n",
              "      <div>\n",
              "<style scoped>\n",
              "    .dataframe tbody tr th:only-of-type {\n",
              "        vertical-align: middle;\n",
              "    }\n",
              "\n",
              "    .dataframe tbody tr th {\n",
              "        vertical-align: top;\n",
              "    }\n",
              "\n",
              "    .dataframe thead th {\n",
              "        text-align: right;\n",
              "    }\n",
              "</style>\n",
              "<table border=\"1\" class=\"dataframe\">\n",
              "  <thead>\n",
              "    <tr style=\"text-align: right;\">\n",
              "      <th></th>\n",
              "      <th>Age</th>\n",
              "      <th>Sex</th>\n",
              "      <th>Job</th>\n",
              "      <th>Housing</th>\n",
              "      <th>Saving accounts</th>\n",
              "      <th>Checking account</th>\n",
              "      <th>Credit amount</th>\n",
              "      <th>Duration</th>\n",
              "      <th>Purpose</th>\n",
              "      <th>Risk</th>\n",
              "    </tr>\n",
              "  </thead>\n",
              "  <tbody>\n",
              "    <tr>\n",
              "      <th>0</th>\n",
              "      <td>67</td>\n",
              "      <td>male</td>\n",
              "      <td>2</td>\n",
              "      <td>own</td>\n",
              "      <td>NaN</td>\n",
              "      <td>little</td>\n",
              "      <td>1169</td>\n",
              "      <td>6</td>\n",
              "      <td>radio/TV</td>\n",
              "      <td>0</td>\n",
              "    </tr>\n",
              "    <tr>\n",
              "      <th>1</th>\n",
              "      <td>22</td>\n",
              "      <td>female</td>\n",
              "      <td>2</td>\n",
              "      <td>own</td>\n",
              "      <td>little</td>\n",
              "      <td>moderate</td>\n",
              "      <td>5951</td>\n",
              "      <td>48</td>\n",
              "      <td>radio/TV</td>\n",
              "      <td>1</td>\n",
              "    </tr>\n",
              "    <tr>\n",
              "      <th>2</th>\n",
              "      <td>49</td>\n",
              "      <td>male</td>\n",
              "      <td>1</td>\n",
              "      <td>own</td>\n",
              "      <td>little</td>\n",
              "      <td>NaN</td>\n",
              "      <td>2096</td>\n",
              "      <td>12</td>\n",
              "      <td>education</td>\n",
              "      <td>0</td>\n",
              "    </tr>\n",
              "    <tr>\n",
              "      <th>3</th>\n",
              "      <td>45</td>\n",
              "      <td>male</td>\n",
              "      <td>2</td>\n",
              "      <td>free</td>\n",
              "      <td>little</td>\n",
              "      <td>little</td>\n",
              "      <td>7882</td>\n",
              "      <td>42</td>\n",
              "      <td>furniture/equipment</td>\n",
              "      <td>0</td>\n",
              "    </tr>\n",
              "    <tr>\n",
              "      <th>4</th>\n",
              "      <td>53</td>\n",
              "      <td>male</td>\n",
              "      <td>2</td>\n",
              "      <td>free</td>\n",
              "      <td>little</td>\n",
              "      <td>little</td>\n",
              "      <td>4870</td>\n",
              "      <td>24</td>\n",
              "      <td>car</td>\n",
              "      <td>1</td>\n",
              "    </tr>\n",
              "  </tbody>\n",
              "</table>\n",
              "</div>\n",
              "      <button class=\"colab-df-convert\" onclick=\"convertToInteractive('df-aa6557c0-c5e9-4c77-9211-002be9fb10c8')\"\n",
              "              title=\"Convert this dataframe to an interactive table.\"\n",
              "              style=\"display:none;\">\n",
              "        \n",
              "  <svg xmlns=\"http://www.w3.org/2000/svg\" height=\"24px\"viewBox=\"0 0 24 24\"\n",
              "       width=\"24px\">\n",
              "    <path d=\"M0 0h24v24H0V0z\" fill=\"none\"/>\n",
              "    <path d=\"M18.56 5.44l.94 2.06.94-2.06 2.06-.94-2.06-.94-.94-2.06-.94 2.06-2.06.94zm-11 1L8.5 8.5l.94-2.06 2.06-.94-2.06-.94L8.5 2.5l-.94 2.06-2.06.94zm10 10l.94 2.06.94-2.06 2.06-.94-2.06-.94-.94-2.06-.94 2.06-2.06.94z\"/><path d=\"M17.41 7.96l-1.37-1.37c-.4-.4-.92-.59-1.43-.59-.52 0-1.04.2-1.43.59L10.3 9.45l-7.72 7.72c-.78.78-.78 2.05 0 2.83L4 21.41c.39.39.9.59 1.41.59.51 0 1.02-.2 1.41-.59l7.78-7.78 2.81-2.81c.8-.78.8-2.07 0-2.86zM5.41 20L4 18.59l7.72-7.72 1.47 1.35L5.41 20z\"/>\n",
              "  </svg>\n",
              "      </button>\n",
              "      \n",
              "  <style>\n",
              "    .colab-df-container {\n",
              "      display:flex;\n",
              "      flex-wrap:wrap;\n",
              "      gap: 12px;\n",
              "    }\n",
              "\n",
              "    .colab-df-convert {\n",
              "      background-color: #E8F0FE;\n",
              "      border: none;\n",
              "      border-radius: 50%;\n",
              "      cursor: pointer;\n",
              "      display: none;\n",
              "      fill: #1967D2;\n",
              "      height: 32px;\n",
              "      padding: 0 0 0 0;\n",
              "      width: 32px;\n",
              "    }\n",
              "\n",
              "    .colab-df-convert:hover {\n",
              "      background-color: #E2EBFA;\n",
              "      box-shadow: 0px 1px 2px rgba(60, 64, 67, 0.3), 0px 1px 3px 1px rgba(60, 64, 67, 0.15);\n",
              "      fill: #174EA6;\n",
              "    }\n",
              "\n",
              "    [theme=dark] .colab-df-convert {\n",
              "      background-color: #3B4455;\n",
              "      fill: #D2E3FC;\n",
              "    }\n",
              "\n",
              "    [theme=dark] .colab-df-convert:hover {\n",
              "      background-color: #434B5C;\n",
              "      box-shadow: 0px 1px 3px 1px rgba(0, 0, 0, 0.15);\n",
              "      filter: drop-shadow(0px 1px 2px rgba(0, 0, 0, 0.3));\n",
              "      fill: #FFFFFF;\n",
              "    }\n",
              "  </style>\n",
              "\n",
              "      <script>\n",
              "        const buttonEl =\n",
              "          document.querySelector('#df-aa6557c0-c5e9-4c77-9211-002be9fb10c8 button.colab-df-convert');\n",
              "        buttonEl.style.display =\n",
              "          google.colab.kernel.accessAllowed ? 'block' : 'none';\n",
              "\n",
              "        async function convertToInteractive(key) {\n",
              "          const element = document.querySelector('#df-aa6557c0-c5e9-4c77-9211-002be9fb10c8');\n",
              "          const dataTable =\n",
              "            await google.colab.kernel.invokeFunction('convertToInteractive',\n",
              "                                                     [key], {});\n",
              "          if (!dataTable) return;\n",
              "\n",
              "          const docLinkHtml = 'Like what you see? Visit the ' +\n",
              "            '<a target=\"_blank\" href=https://colab.research.google.com/notebooks/data_table.ipynb>data table notebook</a>'\n",
              "            + ' to learn more about interactive tables.';\n",
              "          element.innerHTML = '';\n",
              "          dataTable['output_type'] = 'display_data';\n",
              "          await google.colab.output.renderOutput(dataTable, element);\n",
              "          const docLink = document.createElement('div');\n",
              "          docLink.innerHTML = docLinkHtml;\n",
              "          element.appendChild(docLink);\n",
              "        }\n",
              "      </script>\n",
              "    </div>\n",
              "  </div>\n",
              "  "
            ]
          },
          "metadata": {},
          "execution_count": 22
        }
      ]
    },
    {
      "cell_type": "code",
      "source": [
        "plt.figure(figsize=(14,12))\n",
        "#sns.heatmap(df.astype(float).corr(),linewidths=0.1,vmax=1.0, \n",
        "            #square=True,  linecolor='white', annot=True)\n",
        "sns.heatmap(df.corr(),linewidths=0.1,vmax=1.0, \n",
        "            square=True,  linecolor='white', annot=True)\n",
        "plt.show()"
      ],
      "metadata": {
        "colab": {
          "base_uri": "https://localhost:8080/",
          "height": 691
        },
        "id": "J4j5CVJQGEg-",
        "outputId": "ef2fac01-78bc-4a2e-e42e-dafa43736600"
      },
      "execution_count": null,
      "outputs": [
        {
          "output_type": "display_data",
          "data": {
            "text/plain": [
              "<Figure size 1008x864 with 2 Axes>"
            ],
            "image/png": "[encoded data removed]"
          },
          "metadata": {
            "needs_background": "light"
          }
        }
      ]
    },
    {
      "cell_type": "markdown",
      "source": [
        "### 3. Building A LightGBM Model While Missing Values Exist"
      ],
      "metadata": {
        "id": "_xyoZ-Dt_ZeA"
      }
    },
    {
      "cell_type": "markdown",
      "source": [
        "#### 3.1 Checking missing data and spliting features and target label"
      ],
      "metadata": {
        "id": "prrcDirgQcP_"
      }
    },
    {
      "cell_type": "code",
      "source": [
        "df.info()"
      ],
      "metadata": {
        "colab": {
          "base_uri": "https://localhost:8080/"
        },
        "id": "h6fwtzTDqmBQ",
        "outputId": "c2a51eab-f906-4899-aed9-f1eb1c31140a"
      },
      "execution_count": null,
      "outputs": [
        {
          "output_type": "stream",
          "name": "stdout",
          "text": [
            "<class 'pandas.core.frame.DataFrame'>\n",
            "RangeIndex: 1000 entries, 0 to 999\n",
            "Data columns (total 10 columns):\n",
            " #   Column            Non-Null Count  Dtype \n",
            "---  ------            --------------  ----- \n",
            " 0   Age               1000 non-null   int64 \n",
            " 1   Sex               1000 non-null   object\n",
            " 2   Job               1000 non-null   int64 \n",
            " 3   Housing           1000 non-null   object\n",
            " 4   Saving accounts   817 non-null    object\n",
            " 5   Checking account  606 non-null    object\n",
            " 6   Credit amount     1000 non-null   int64 \n",
            " 7   Duration          1000 non-null   int64 \n",
            " 8   Purpose           1000 non-null   object\n",
            " 9   Risk              1000 non-null   int64 \n",
            "dtypes: int64(5), object(5)\n",
            "memory usage: 78.2+ KB\n"
          ]
        }
      ]
    },
    {
      "cell_type": "code",
      "source": [
        "df.isnull().sum(axis=0)"
      ],
      "metadata": {
        "colab": {
          "base_uri": "https://localhost:8080/"
        },
        "id": "iz-jcXFoqjUR",
        "outputId": "d0c24c1f-51c5-4dba-9560-00456105647d"
      },
      "execution_count": null,
      "outputs": [
        {
          "output_type": "execute_result",
          "data": {
            "text/plain": [
              "Age                   0\n",
              "Sex                   0\n",
              "Job                   0\n",
              "Housing               0\n",
              "Saving accounts     183\n",
              "Checking account    394\n",
              "Credit amount         0\n",
              "Duration              0\n",
              "Purpose               0\n",
              "Risk                  0\n",
              "dtype: int64"
            ]
          },
          "metadata": {},
          "execution_count": 26
        }
      ]
    },
    {
      "cell_type": "markdown",
      "source": [
        "From the above code, we found that there are missing values in the following 2 columns: \n",
        "*   \"Saving accounts\"\n",
        "*   \"Checking account\"\n",
        "\n",
        "<br> \"Saving accounts\" and \"Checking account\" are columns with categorical variables. \n",
        "<br>\n",
        "<br> There are a few ways to deal with these missing values:\n",
        "*   Given the size of our dataset and the fact that it's very easy to introduce bias, dropping these columns or rows with missing values is not practical.\n",
        "*   Because I will do one-hot encoding for the categorical variables, the missing values will just be treated as all \"0\" in the encoded features.\n",
        "*   Imputing them with ”mean\", \"median\" or \"mode\" (most frequent) value of the corresponding column, or a certain constant value (easy and fast, but will probably introduce inaccuracy).\n",
        "*   Some ML algorithms, such as XGBoost or LightGBM, can deal with missing data.\n",
        "*   Advanced imputation techniques that uses ML algorithms to impute missing values, these techniques include knn and MICE (Multiple Imputation by Chained Equations); however, they're not suitable in this project because they only work for numerical missing values.\n",
        "\n",
        "So in the following, I will \n",
        "1.   do feature engineering for columns without missing values\n",
        "2.   build a ML model using LightGBM to see how accurate it is without one-hot encoding (LightGBM can deal with it as well) and with missing values\n",
        "3.   perform one-hot encoding for all categorical features\n",
        "4.   build and evaluate ML models using 9 commonly used supervised learning algorithms\n",
        "5.   fill out missing values in \"Checking account\" and \"Saving accounts\" with constant \"missing\", re-do feature engineering, over-sample the minority class using SMOTE technique, then re-train the ML models in 4"
      ],
      "metadata": {
        "id": "DEmGio1OESTl"
      }
    },
    {
      "cell_type": "markdown",
      "source": [
        "Now let's split the data into features and target label."
      ],
      "metadata": {
        "id": "16kaOWAzMN5P"
      }
    },
    {
      "cell_type": "code",
      "source": [
        "target = df['Risk']"
      ],
      "metadata": {
        "id": "TSUjsRI6PoE_"
      },
      "execution_count": null,
      "outputs": []
    },
    {
      "cell_type": "code",
      "source": [
        "features_raw = df.drop(['Risk'], axis=1)"
      ],
      "metadata": {
        "id": "TfkYuCBvMF-t"
      },
      "execution_count": null,
      "outputs": []
    },
    {
      "cell_type": "code",
      "source": [
        "features_raw.head()"
      ],
      "metadata": {
        "colab": {
          "base_uri": "https://localhost:8080/",
          "height": 206
        },
        "id": "V2awKSnVPrqJ",
        "outputId": "8ecc1360-5eda-4a8d-b755-65158416f522"
      },
      "execution_count": null,
      "outputs": [
        {
          "output_type": "execute_result",
          "data": {
            "text/plain": [
              "   Age     Sex  Job Housing Saving accounts Checking account  Credit amount  \\\n",
              "0   67    male    2     own             NaN           little           1169   \n",
              "1   22  female    2     own          little         moderate           5951   \n",
              "2   49    male    1     own          little              NaN           2096   \n",
              "3   45    male    2    free          little           little           7882   \n",
              "4   53    male    2    free          little           little           4870   \n",
              "\n",
              "   Duration              Purpose  \n",
              "0         6             radio/TV  \n",
              "1        48             radio/TV  \n",
              "2        12            education  \n",
              "3        42  furniture/equipment  \n",
              "4        24                  car  "
            ],
            "text/html": [
              "\n",
              "  <div id=\"df-a0429dd0-ae16-4fe0-8fb9-b3056f605122\">\n",
              "    <div class=\"colab-df-container\">\n",
              "      <div>\n",
              "<style scoped>\n",
              "    .dataframe tbody tr th:only-of-type {\n",
              "        vertical-align: middle;\n",
              "    }\n",
              "\n",
              "    .dataframe tbody tr th {\n",
              "        vertical-align: top;\n",
              "    }\n",
              "\n",
              "    .dataframe thead th {\n",
              "        text-align: right;\n",
              "    }\n",
              "</style>\n",
              "<table border=\"1\" class=\"dataframe\">\n",
              "  <thead>\n",
              "    <tr style=\"text-align: right;\">\n",
              "      <th></th>\n",
              "      <th>Age</th>\n",
              "      <th>Sex</th>\n",
              "      <th>Job</th>\n",
              "      <th>Housing</th>\n",
              "      <th>Saving accounts</th>\n",
              "      <th>Checking account</th>\n",
              "      <th>Credit amount</th>\n",
              "      <th>Duration</th>\n",
              "      <th>Purpose</th>\n",
              "    </tr>\n",
              "  </thead>\n",
              "  <tbody>\n",
              "    <tr>\n",
              "      <th>0</th>\n",
              "      <td>67</td>\n",
              "      <td>male</td>\n",
              "      <td>2</td>\n",
              "      <td>own</td>\n",
              "      <td>NaN</td>\n",
              "      <td>little</td>\n",
              "      <td>1169</td>\n",
              "      <td>6</td>\n",
              "      <td>radio/TV</td>\n",
              "    </tr>\n",
              "    <tr>\n",
              "      <th>1</th>\n",
              "      <td>22</td>\n",
              "      <td>female</td>\n",
              "      <td>2</td>\n",
              "      <td>own</td>\n",
              "      <td>little</td>\n",
              "      <td>moderate</td>\n",
              "      <td>5951</td>\n",
              "      <td>48</td>\n",
              "      <td>radio/TV</td>\n",
              "    </tr>\n",
              "    <tr>\n",
              "      <th>2</th>\n",
              "      <td>49</td>\n",
              "      <td>male</td>\n",
              "      <td>1</td>\n",
              "      <td>own</td>\n",
              "      <td>little</td>\n",
              "      <td>NaN</td>\n",
              "      <td>2096</td>\n",
              "      <td>12</td>\n",
              "      <td>education</td>\n",
              "    </tr>\n",
              "    <tr>\n",
              "      <th>3</th>\n",
              "      <td>45</td>\n",
              "      <td>male</td>\n",
              "      <td>2</td>\n",
              "      <td>free</td>\n",
              "      <td>little</td>\n",
              "      <td>little</td>\n",
              "      <td>7882</td>\n",
              "      <td>42</td>\n",
              "      <td>furniture/equipment</td>\n",
              "    </tr>\n",
              "    <tr>\n",
              "      <th>4</th>\n",
              "      <td>53</td>\n",
              "      <td>male</td>\n",
              "      <td>2</td>\n",
              "      <td>free</td>\n",
              "      <td>little</td>\n",
              "      <td>little</td>\n",
              "      <td>4870</td>\n",
              "      <td>24</td>\n",
              "      <td>car</td>\n",
              "    </tr>\n",
              "  </tbody>\n",
              "</table>\n",
              "</div>\n",
              "      <button class=\"colab-df-convert\" onclick=\"convertToInteractive('df-a0429dd0-ae16-4fe0-8fb9-b3056f605122')\"\n",
              "              title=\"Convert this dataframe to an interactive table.\"\n",
              "              style=\"display:none;\">\n",
              "        \n",
              "  <svg xmlns=\"http://www.w3.org/2000/svg\" height=\"24px\"viewBox=\"0 0 24 24\"\n",
              "       width=\"24px\">\n",
              "    <path d=\"M0 0h24v24H0V0z\" fill=\"none\"/>\n",
              "    <path d=\"M18.56 5.44l.94 2.06.94-2.06 2.06-.94-2.06-.94-.94-2.06-.94 2.06-2.06.94zm-11 1L8.5 8.5l.94-2.06 2.06-.94-2.06-.94L8.5 2.5l-.94 2.06-2.06.94zm10 10l.94 2.06.94-2.06 2.06-.94-2.06-.94-.94-2.06-.94 2.06-2.06.94z\"/><path d=\"M17.41 7.96l-1.37-1.37c-.4-.4-.92-.59-1.43-.59-.52 0-1.04.2-1.43.59L10.3 9.45l-7.72 7.72c-.78.78-.78 2.05 0 2.83L4 21.41c.39.39.9.59 1.41.59.51 0 1.02-.2 1.41-.59l7.78-7.78 2.81-2.81c.8-.78.8-2.07 0-2.86zM5.41 20L4 18.59l7.72-7.72 1.47 1.35L5.41 20z\"/>\n",
              "  </svg>\n",
              "      </button>\n",
              "      \n",
              "  <style>\n",
              "    .colab-df-container {\n",
              "      display:flex;\n",
              "      flex-wrap:wrap;\n",
              "      gap: 12px;\n",
              "    }\n",
              "\n",
              "    .colab-df-convert {\n",
              "      background-color: #E8F0FE;\n",
              "      border: none;\n",
              "      border-radius: 50%;\n",
              "      cursor: pointer;\n",
              "      display: none;\n",
              "      fill: #1967D2;\n",
              "      height: 32px;\n",
              "      padding: 0 0 0 0;\n",
              "      width: 32px;\n",
              "    }\n",
              "\n",
              "    .colab-df-convert:hover {\n",
              "      background-color: #E2EBFA;\n",
              "      box-shadow: 0px 1px 2px rgba(60, 64, 67, 0.3), 0px 1px 3px 1px rgba(60, 64, 67, 0.15);\n",
              "      fill: #174EA6;\n",
              "    }\n",
              "\n",
              "    [theme=dark] .colab-df-convert {\n",
              "      background-color: #3B4455;\n",
              "      fill: #D2E3FC;\n",
              "    }\n",
              "\n",
              "    [theme=dark] .colab-df-convert:hover {\n",
              "      background-color: #434B5C;\n",
              "      box-shadow: 0px 1px 3px 1px rgba(0, 0, 0, 0.15);\n",
              "      filter: drop-shadow(0px 1px 2px rgba(0, 0, 0, 0.3));\n",
              "      fill: #FFFFFF;\n",
              "    }\n",
              "  </style>\n",
              "\n",
              "      <script>\n",
              "        const buttonEl =\n",
              "          document.querySelector('#df-a0429dd0-ae16-4fe0-8fb9-b3056f605122 button.colab-df-convert');\n",
              "        buttonEl.style.display =\n",
              "          google.colab.kernel.accessAllowed ? 'block' : 'none';\n",
              "\n",
              "        async function convertToInteractive(key) {\n",
              "          const element = document.querySelector('#df-a0429dd0-ae16-4fe0-8fb9-b3056f605122');\n",
              "          const dataTable =\n",
              "            await google.colab.kernel.invokeFunction('convertToInteractive',\n",
              "                                                     [key], {});\n",
              "          if (!dataTable) return;\n",
              "\n",
              "          const docLinkHtml = 'Like what you see? Visit the ' +\n",
              "            '<a target=\"_blank\" href=https://colab.research.google.com/notebooks/data_table.ipynb>data table notebook</a>'\n",
              "            + ' to learn more about interactive tables.';\n",
              "          element.innerHTML = '';\n",
              "          dataTable['output_type'] = 'display_data';\n",
              "          await google.colab.output.renderOutput(dataTable, element);\n",
              "          const docLink = document.createElement('div');\n",
              "          docLink.innerHTML = docLinkHtml;\n",
              "          element.appendChild(docLink);\n",
              "        }\n",
              "      </script>\n",
              "    </div>\n",
              "  </div>\n",
              "  "
            ]
          },
          "metadata": {},
          "execution_count": 29
        }
      ]
    },
    {
      "cell_type": "markdown",
      "source": [
        "There are 3 numerical features (age, credit amount, and duration), and 6 categorical features (sex, job, housing, saving accounts, checking account, purpose)."
      ],
      "metadata": {
        "id": "lOI7McanP5CO"
      }
    },
    {
      "cell_type": "code",
      "source": [
        "df['Purpose'].value_counts()"
      ],
      "metadata": {
        "colab": {
          "base_uri": "https://localhost:8080/"
        },
        "id": "WSc_dTz3YSce",
        "outputId": "b67c1915-34c0-43e9-c713-546056af5c0a"
      },
      "execution_count": null,
      "outputs": [
        {
          "output_type": "execute_result",
          "data": {
            "text/plain": [
              "car                    337\n",
              "radio/TV               280\n",
              "furniture/equipment    181\n",
              "business                97\n",
              "education               59\n",
              "repairs                 22\n",
              "domestic appliances     12\n",
              "vacation/others         12\n",
              "Name: Purpose, dtype: int64"
            ]
          },
          "metadata": {},
          "execution_count": 30
        }
      ]
    },
    {
      "cell_type": "code",
      "source": [
        "# mapping text categorical features into int values\n",
        "features_raw['Housing'] = features_raw['Housing'].map({'free':1, 'rent':2, 'own': 3})\n",
        "features_raw['Sex'] = features_raw['Sex'].map({'female':0, 'male':1})\n",
        "features_raw['Saving accounts'] = features_raw['Saving accounts'].map({'little':1, 'moderate':2, 'quite rich': 3, 'rich': 4})\n",
        "features_raw['Checking account'] = features_raw['Checking account'].map({'little':1, 'moderate':2, 'quite rich': 3, 'rich': 4})\n",
        "features_raw['Purpose'] = features_raw['Purpose'].map({'radio/TV':1, 'education':2, 'furniture/equipment': 3, 'car': 4, 'business':5, 'domestic appliances':6, 'repairs': 7, 'vacation/others': 8})"
      ],
      "metadata": {
        "id": "r3e2QfB7Vn3J"
      },
      "execution_count": null,
      "outputs": []
    },
    {
      "cell_type": "markdown",
      "source": [
        "#### 3.2 Building a LightGBM model when missing values exist"
      ],
      "metadata": {
        "id": "fUeXkf_0ZXLU"
      }
    },
    {
      "cell_type": "markdown",
      "source": [
        "Split training set and testing set"
      ],
      "metadata": {
        "id": "2udHmRxHg4fB"
      }
    },
    {
      "cell_type": "code",
      "source": [
        "# Split the 'features' and 'target' data into training and testing sets\n",
        "X_train, X_test, y_train, y_test = train_test_split(features_raw, \n",
        "                                                    target,\n",
        "                                                    test_size = 0.2, \n",
        "                                                    random_state = 0)\n",
        "\n",
        "# Show the results of the split\n",
        "print(\"Training set has {} samples.\".format(X_train.shape[0]))\n",
        "print(\"Testing set has {} samples.\".format(X_test.shape[0]))"
      ],
      "metadata": {
        "colab": {
          "base_uri": "https://localhost:8080/"
        },
        "id": "puJs84cQTA_w",
        "outputId": "4c92961b-b2ec-4e72-809c-34b820ff30cc"
      },
      "execution_count": null,
      "outputs": [
        {
          "output_type": "stream",
          "name": "stdout",
          "text": [
            "Training set has 800 samples.\n",
            "Testing set has 200 samples.\n"
          ]
        }
      ]
    },
    {
      "cell_type": "markdown",
      "source": [
        "Build LightGBM model (with cross validation)"
      ],
      "metadata": {
        "id": "nAA7BJ9ZZahJ"
      }
    },
    {
      "cell_type": "code",
      "source": [
        "def lgbcv(X_train, y_train, params, n_fold=5):\n",
        "  \"\"\"\n",
        "    Incorporate cross-validation (CV) into the lgb model\n",
        "    \n",
        "    inputs:\n",
        "      - X_train: features for training\n",
        "      - y_train: labels for training\n",
        "      - params: parameters for booster\n",
        "      - n_fold: Number of folds in CV\n",
        "    \"\"\"\n",
        "\n",
        "  train_data = lgb.Dataset(X_train, label=y_train, categorical_feature=[\"Sex\", \"Job\", \"Housing\", \"Saving accounts\", \"Checking account\", \"Purpose\"])\n",
        "  model_cv = lgb.cv(params, nfold=n_fold, train_set=train_data, categorical_feature=[\"Sex\", \"Job\", \"Housing\", \"Saving accounts\", \"Checking account\", \"Purpose\"])\n",
        "  return model_cv"
      ],
      "metadata": {
        "id": "PKmjZzjJTA3Y"
      },
      "execution_count": null,
      "outputs": []
    },
    {
      "cell_type": "code",
      "source": [
        "def eval_cv(X_train, y_train, n_leaves, max_depth, learning_rate, bagging_fraction):\n",
        "  \"\"\"\n",
        "    Implement and evaluate performance of cross-validation (CV) to find the optimal parameters\n",
        "    \n",
        "    inputs:\n",
        "      - X_train: features for training\n",
        "      - y_train: labels for training\n",
        "    Lists of parameters to be tuned:\n",
        "      - n_leaves: max number of leaves in one tree\n",
        "      - max_depth: limit the max depth for tree model. This is used to deal with over-fitting when #data is small. Tree still grows leaf-wise\n",
        "      - learning_rate: shrinkage rate\n",
        "      - bagging_fraction: randomly select a subset of features on each iteration (tree) w/o resampling\n",
        "    \"\"\"\n",
        "\n",
        "  metric_result = 0\n",
        "  para_result = {}\n",
        "\n",
        "  for i in n_leaves:\n",
        "    for j in max_depth:\n",
        "      for k in learning_rate:\n",
        "        for m in bagging_fraction:\n",
        "\n",
        "          parameters = {'objective': 'binary',\n",
        "              'metric': 'auc',\n",
        "              'is_unbalance': 'true',\n",
        "              'num_leaves': i,\n",
        "              'max_depth': j,\n",
        "              'feature_fraction': 0.8,\n",
        "              'bagging_fraction': m, \n",
        "              'bagging_freq': 20,\n",
        "              'learning_rate': k,\n",
        "              'verbose': 5}\n",
        "          model = lgbcv(X_train, y_train, params=parameters)\n",
        "\n",
        "          if max(model['auc-mean']) > metric_result:\n",
        "            metric_result = max(model['auc-mean'])\n",
        "            para_result['n_leaves'] = i\n",
        "            para_result['max_depth'] = j\n",
        "            para_result['learning_rate'] = k\n",
        "            para_result['bagging_fraction'] = m\n",
        "  return metric_result, para_result"
      ],
      "metadata": {
        "id": "WMv82sKtTREF"
      },
      "execution_count": null,
      "outputs": []
    },
    {
      "cell_type": "code",
      "source": [
        "n_leaves = [2, 4, 8, 12, 16]\n",
        "max_depth = [2, 3, 4] # lower max_depth eliminate overfitting\n",
        "learning_rate = [0.01, 0.05, 0.1]\n",
        "bagging_fraction = [0.2, 0.4, 0.6, 0.8]\n",
        "\n",
        "# optimized AUC result and corresponding parameters:\n",
        "r_auc, r_para = eval_cv(X_train, y_train, n_leaves, max_depth, learning_rate, bagging_fraction)\n",
        "print(r_auc, r_para)"
      ],
      "metadata": {
        "colab": {
          "base_uri": "https://localhost:8080/"
        },
        "id": "NV_heJBDTQ8e",
        "outputId": "1b2a8d15-1237-483b-e242-b1901587c299"
      },
      "execution_count": null,
      "outputs": [
        {
          "output_type": "stream",
          "name": "stdout",
          "text": [
            "0.7661989795918368 {'n_leaves': 8, 'max_depth': 3, 'learning_rate': 0.1, 'bagging_fraction': 0.8}\n"
          ]
        }
      ]
    },
    {
      "cell_type": "code",
      "source": [
        "parameters = {'objective': 'binary',\n",
        "              'metric': 'auc',\n",
        "              'is_unbalance': 'true',\n",
        "              'num_leaves': r_para['n_leaves'],\n",
        "              'max_depth': r_para['max_depth'],\n",
        "              'feature_fraction': 0.8,\n",
        "              'bagging_fraction': r_para['bagging_fraction'], \n",
        "              'bagging_freq': 20,\n",
        "              'learning_rate': r_para['learning_rate'],\n",
        "              'verbose': 5}\n",
        "\n",
        "train_data = lgb.Dataset(X_train, label=y_train)\n",
        "\n",
        "model_lgb = lgb.train(parameters, \n",
        "                      train_data,\n",
        "                      num_boost_round = 500)"
      ],
      "metadata": {
        "id": "czkQ_x20TQ3d"
      },
      "execution_count": null,
      "outputs": []
    },
    {
      "cell_type": "code",
      "source": [
        "y_train_pred = model_lgb.predict(X_train)\n",
        "y_test_pred = model_lgb.predict(X_test)\n",
        "print(\"AUC Train: {:.4f}\\nAUC Test: {:.4f}\".format(roc_auc_score(y_train, y_train_pred),\n",
        "                                                   roc_auc_score(y_test, y_test_pred)))"
      ],
      "metadata": {
        "colab": {
          "base_uri": "https://localhost:8080/"
        },
        "id": "cAvQVqNMpyLX",
        "outputId": "56943948-9ac4-4987-cf5b-841d4539d842"
      },
      "execution_count": null,
      "outputs": [
        {
          "output_type": "stream",
          "name": "stdout",
          "text": [
            "AUC Train: 0.9836\n",
            "AUC Test: 0.7379\n"
          ]
        }
      ]
    },
    {
      "cell_type": "code",
      "source": [
        "fpr, tpr, threshold = roc_curve(y_test, y_test_pred)\n",
        "roc_auc = auc(fpr, tpr)\n",
        "\n",
        "plt.title('Receiver Operating Characteristic')\n",
        "plt.plot(fpr, tpr, 'b', label = 'AUC = %0.4f' % roc_auc)\n",
        "plt.legend(loc = 'lower right')\n",
        "plt.plot([0, 1], [0, 1],'r--')\n",
        "plt.xlim([0, 1])\n",
        "plt.ylim([0, 1])\n",
        "plt.ylabel('True Positive Rate')\n",
        "plt.xlabel('False Positive Rate')\n",
        "plt.show()"
      ],
      "metadata": {
        "colab": {
          "base_uri": "https://localhost:8080/",
          "height": 295
        },
        "id": "Vn53k_CbpyFp",
        "outputId": "1840279a-183d-4569-8d87-874b9b7d4ef5"
      },
      "execution_count": null,
      "outputs": [
        {
          "output_type": "display_data",
          "data": {
            "text/plain": [
              "<Figure size 432x288 with 1 Axes>"
            ],
            "image/png": "[encoded data removed]"
          },
          "metadata": {
            "needs_background": "light"
          }
        }
      ]
    },
    {
      "cell_type": "code",
      "source": [
        "# convert into binary values:\n",
        "for i in range(len(y_test_pred)):\n",
        "  if y_test_pred[i] > 0.95:\n",
        "    y_test_pred[i] = 1\n",
        "  else:\n",
        "    y_test_pred[i] = 0\n",
        "  \n",
        "print(\"Accuracy score on testing data: {:.4f}\".format(accuracy_score(y_test, y_test_pred)))\n",
        "print(\"F-score on testing data: {:.4f} (beta=1)\".format(fbeta_score(y_test, y_test_pred, beta = 1)))\n",
        "print(\"Precision on testing data: {:.4f}\".format(precision_score(y_test, y_test_pred)))\n",
        "print(\"Recall on testing data: {:.4f}\".format(recall_score(y_test, y_test_pred)))"
      ],
      "metadata": {
        "colab": {
          "base_uri": "https://localhost:8080/"
        },
        "id": "QsRkD7XEpx9k",
        "outputId": "4ad43024-56ce-4d0c-a2c2-9605fbf7178d"
      },
      "execution_count": null,
      "outputs": [
        {
          "output_type": "stream",
          "name": "stdout",
          "text": [
            "Accuracy score on testing data: 0.7300\n",
            "F-score on testing data: 0.1290 (beta=1)\n",
            "Precision on testing data: 1.0000\n",
            "Recall on testing data: 0.0690\n"
          ]
        }
      ]
    },
    {
      "cell_type": "code",
      "source": [
        "# Create confusion matrix\n",
        "cm = confusion_matrix(y_test, y_test_pred)\n",
        "\n",
        "# Plot confusion matrix as a heat map\n",
        "# https://scikit-learn.org/stable/modules/generated/sklearn.metrics.confusion_matrix.html\n",
        "# In binary classification, the count of true negatives is C_00, false negatives is C_10, true positives is C_11 and false positives is C_01.\n",
        "cm_matrix = pd.DataFrame(data=[[cm[1,1],cm[0,1]], [cm[1,0],cm[0,0]]], columns=['Actual Positive:1', 'Actual Negative:0'], \n",
        "                                 index=['Predict Positive:1', 'Predict Negative:0'])\n",
        "\n",
        "sns.heatmap(cm_matrix, annot=True, fmt='d', cmap='YlGnBu', annot_kws={\"fontsize\":20})"
      ],
      "metadata": {
        "colab": {
          "base_uri": "https://localhost:8080/",
          "height": 284
        },
        "id": "DDSpJHB3qDQW",
        "outputId": "1b523171-f550-45b3-afca-adcd79ac5679"
      },
      "execution_count": null,
      "outputs": [
        {
          "output_type": "execute_result",
          "data": {
            "text/plain": [
              "<matplotlib.axes._subplots.AxesSubplot at 0x7f5e77be9610>"
            ]
          },
          "metadata": {},
          "execution_count": 40
        },
        {
          "output_type": "display_data",
          "data": {
            "text/plain": [
              "<Figure size 432x288 with 2 Axes>"
            ],
            "image/png": "[encoded data removed]"
          },
          "metadata": {
            "needs_background": "light"
          }
        }
      ]
    },
    {
      "cell_type": "markdown",
      "source": [
        "The model performed very badly: despite it has a reasonable accuracy for the testing set (0.73), it only caught 4 positive records out of 58 positive records in the testing set."
      ],
      "metadata": {
        "id": "vxz5QWNUsfji"
      }
    },
    {
      "cell_type": "markdown",
      "source": [
        "### 4. Preparing Data for Modeling"
      ],
      "metadata": {
        "id": "CjBAuJP5cQFv"
      }
    },
    {
      "cell_type": "markdown",
      "source": [
        "#### 4.1 Encoding categorical data"
      ],
      "metadata": {
        "id": "-SnZCF7TQjuq"
      }
    },
    {
      "cell_type": "code",
      "source": [
        "features_raw2 = df.drop(columns=['Risk'], axis=1)"
      ],
      "metadata": {
        "id": "z9QPo3E5V9FU"
      },
      "execution_count": null,
      "outputs": []
    },
    {
      "cell_type": "code",
      "source": [
        "features_raw2.head()"
      ],
      "metadata": {
        "colab": {
          "base_uri": "https://localhost:8080/",
          "height": 206
        },
        "id": "4U0s1wXuh6uZ",
        "outputId": "771ca0f9-c560-4b22-941e-c6b671740fe1"
      },
      "execution_count": null,
      "outputs": [
        {
          "output_type": "execute_result",
          "data": {
            "text/plain": [
              "   Age     Sex  Job Housing Saving accounts Checking account  Credit amount  \\\n",
              "0   67    male    2     own             NaN           little           1169   \n",
              "1   22  female    2     own          little         moderate           5951   \n",
              "2   49    male    1     own          little              NaN           2096   \n",
              "3   45    male    2    free          little           little           7882   \n",
              "4   53    male    2    free          little           little           4870   \n",
              "\n",
              "   Duration              Purpose  \n",
              "0         6             radio/TV  \n",
              "1        48             radio/TV  \n",
              "2        12            education  \n",
              "3        42  furniture/equipment  \n",
              "4        24                  car  "
            ],
            "text/html": [
              "\n",
              "  <div id=\"df-c6e1ad67-557f-491f-a58a-c43c2bc1069f\">\n",
              "    <div class=\"colab-df-container\">\n",
              "      <div>\n",
              "<style scoped>\n",
              "    .dataframe tbody tr th:only-of-type {\n",
              "        vertical-align: middle;\n",
              "    }\n",
              "\n",
              "    .dataframe tbody tr th {\n",
              "        vertical-align: top;\n",
              "    }\n",
              "\n",
              "    .dataframe thead th {\n",
              "        text-align: right;\n",
              "    }\n",
              "</style>\n",
              "<table border=\"1\" class=\"dataframe\">\n",
              "  <thead>\n",
              "    <tr style=\"text-align: right;\">\n",
              "      <th></th>\n",
              "      <th>Age</th>\n",
              "      <th>Sex</th>\n",
              "      <th>Job</th>\n",
              "      <th>Housing</th>\n",
              "      <th>Saving accounts</th>\n",
              "      <th>Checking account</th>\n",
              "      <th>Credit amount</th>\n",
              "      <th>Duration</th>\n",
              "      <th>Purpose</th>\n",
              "    </tr>\n",
              "  </thead>\n",
              "  <tbody>\n",
              "    <tr>\n",
              "      <th>0</th>\n",
              "      <td>67</td>\n",
              "      <td>male</td>\n",
              "      <td>2</td>\n",
              "      <td>own</td>\n",
              "      <td>NaN</td>\n",
              "      <td>little</td>\n",
              "      <td>1169</td>\n",
              "      <td>6</td>\n",
              "      <td>radio/TV</td>\n",
              "    </tr>\n",
              "    <tr>\n",
              "      <th>1</th>\n",
              "      <td>22</td>\n",
              "      <td>female</td>\n",
              "      <td>2</td>\n",
              "      <td>own</td>\n",
              "      <td>little</td>\n",
              "      <td>moderate</td>\n",
              "      <td>5951</td>\n",
              "      <td>48</td>\n",
              "      <td>radio/TV</td>\n",
              "    </tr>\n",
              "    <tr>\n",
              "      <th>2</th>\n",
              "      <td>49</td>\n",
              "      <td>male</td>\n",
              "      <td>1</td>\n",
              "      <td>own</td>\n",
              "      <td>little</td>\n",
              "      <td>NaN</td>\n",
              "      <td>2096</td>\n",
              "      <td>12</td>\n",
              "      <td>education</td>\n",
              "    </tr>\n",
              "    <tr>\n",
              "      <th>3</th>\n",
              "      <td>45</td>\n",
              "      <td>male</td>\n",
              "      <td>2</td>\n",
              "      <td>free</td>\n",
              "      <td>little</td>\n",
              "      <td>little</td>\n",
              "      <td>7882</td>\n",
              "      <td>42</td>\n",
              "      <td>furniture/equipment</td>\n",
              "    </tr>\n",
              "    <tr>\n",
              "      <th>4</th>\n",
              "      <td>53</td>\n",
              "      <td>male</td>\n",
              "      <td>2</td>\n",
              "      <td>free</td>\n",
              "      <td>little</td>\n",
              "      <td>little</td>\n",
              "      <td>4870</td>\n",
              "      <td>24</td>\n",
              "      <td>car</td>\n",
              "    </tr>\n",
              "  </tbody>\n",
              "</table>\n",
              "</div>\n",
              "      <button class=\"colab-df-convert\" onclick=\"convertToInteractive('df-c6e1ad67-557f-491f-a58a-c43c2bc1069f')\"\n",
              "              title=\"Convert this dataframe to an interactive table.\"\n",
              "              style=\"display:none;\">\n",
              "        \n",
              "  <svg xmlns=\"http://www.w3.org/2000/svg\" height=\"24px\"viewBox=\"0 0 24 24\"\n",
              "       width=\"24px\">\n",
              "    <path d=\"M0 0h24v24H0V0z\" fill=\"none\"/>\n",
              "    <path d=\"M18.56 5.44l.94 2.06.94-2.06 2.06-.94-2.06-.94-.94-2.06-.94 2.06-2.06.94zm-11 1L8.5 8.5l.94-2.06 2.06-.94-2.06-.94L8.5 2.5l-.94 2.06-2.06.94zm10 10l.94 2.06.94-2.06 2.06-.94-2.06-.94-.94-2.06-.94 2.06-2.06.94z\"/><path d=\"M17.41 7.96l-1.37-1.37c-.4-.4-.92-.59-1.43-.59-.52 0-1.04.2-1.43.59L10.3 9.45l-7.72 7.72c-.78.78-.78 2.05 0 2.83L4 21.41c.39.39.9.59 1.41.59.51 0 1.02-.2 1.41-.59l7.78-7.78 2.81-2.81c.8-.78.8-2.07 0-2.86zM5.41 20L4 18.59l7.72-7.72 1.47 1.35L5.41 20z\"/>\n",
              "  </svg>\n",
              "      </button>\n",
              "      \n",
              "  <style>\n",
              "    .colab-df-container {\n",
              "      display:flex;\n",
              "      flex-wrap:wrap;\n",
              "      gap: 12px;\n",
              "    }\n",
              "\n",
              "    .colab-df-convert {\n",
              "      background-color: #E8F0FE;\n",
              "      border: none;\n",
              "      border-radius: 50%;\n",
              "      cursor: pointer;\n",
              "      display: none;\n",
              "      fill: #1967D2;\n",
              "      height: 32px;\n",
              "      padding: 0 0 0 0;\n",
              "      width: 32px;\n",
              "    }\n",
              "\n",
              "    .colab-df-convert:hover {\n",
              "      background-color: #E2EBFA;\n",
              "      box-shadow: 0px 1px 2px rgba(60, 64, 67, 0.3), 0px 1px 3px 1px rgba(60, 64, 67, 0.15);\n",
              "      fill: #174EA6;\n",
              "    }\n",
              "\n",
              "    [theme=dark] .colab-df-convert {\n",
              "      background-color: #3B4455;\n",
              "      fill: #D2E3FC;\n",
              "    }\n",
              "\n",
              "    [theme=dark] .colab-df-convert:hover {\n",
              "      background-color: #434B5C;\n",
              "      box-shadow: 0px 1px 3px 1px rgba(0, 0, 0, 0.15);\n",
              "      filter: drop-shadow(0px 1px 2px rgba(0, 0, 0, 0.3));\n",
              "      fill: #FFFFFF;\n",
              "    }\n",
              "  </style>\n",
              "\n",
              "      <script>\n",
              "        const buttonEl =\n",
              "          document.querySelector('#df-c6e1ad67-557f-491f-a58a-c43c2bc1069f button.colab-df-convert');\n",
              "        buttonEl.style.display =\n",
              "          google.colab.kernel.accessAllowed ? 'block' : 'none';\n",
              "\n",
              "        async function convertToInteractive(key) {\n",
              "          const element = document.querySelector('#df-c6e1ad67-557f-491f-a58a-c43c2bc1069f');\n",
              "          const dataTable =\n",
              "            await google.colab.kernel.invokeFunction('convertToInteractive',\n",
              "                                                     [key], {});\n",
              "          if (!dataTable) return;\n",
              "\n",
              "          const docLinkHtml = 'Like what you see? Visit the ' +\n",
              "            '<a target=\"_blank\" href=https://colab.research.google.com/notebooks/data_table.ipynb>data table notebook</a>'\n",
              "            + ' to learn more about interactive tables.';\n",
              "          element.innerHTML = '';\n",
              "          dataTable['output_type'] = 'display_data';\n",
              "          await google.colab.output.renderOutput(dataTable, element);\n",
              "          const docLink = document.createElement('div');\n",
              "          docLink.innerHTML = docLinkHtml;\n",
              "          element.appendChild(docLink);\n",
              "        }\n",
              "      </script>\n",
              "    </div>\n",
              "  </div>\n",
              "  "
            ]
          },
          "metadata": {},
          "execution_count": 42
        }
      ]
    },
    {
      "cell_type": "code",
      "source": [
        "features_raw2 = features_raw2.merge(pd.get_dummies(data=features_raw2, columns=['Sex', 'Job', 'Housing', 'Saving accounts', 'Checking account', 'Purpose']))\n",
        "features_raw2.head()"
      ],
      "metadata": {
        "colab": {
          "base_uri": "https://localhost:8080/",
          "height": 317
        },
        "id": "Nq7sLGWdV8_I",
        "outputId": "e1b6f741-92ee-4ef8-9b3d-2598768c4789"
      },
      "execution_count": null,
      "outputs": [
        {
          "output_type": "execute_result",
          "data": {
            "text/plain": [
              "   Age     Sex  Job Housing Saving accounts Checking account  Credit amount  \\\n",
              "0   67    male    2     own             NaN           little           1169   \n",
              "1   22  female    2     own          little         moderate           5951   \n",
              "2   49    male    1     own          little              NaN           2096   \n",
              "3   45    male    2    free          little           little           7882   \n",
              "4   53    male    2    free          little           little           4870   \n",
              "\n",
              "   Duration              Purpose  Sex_female  ...  Checking account_moderate  \\\n",
              "0         6             radio/TV           0  ...                          0   \n",
              "1        48             radio/TV           1  ...                          1   \n",
              "2        12            education           0  ...                          0   \n",
              "3        42  furniture/equipment           0  ...                          0   \n",
              "4        24                  car           0  ...                          0   \n",
              "\n",
              "   Checking account_rich  Purpose_business  Purpose_car  \\\n",
              "0                      0                 0            0   \n",
              "1                      0                 0            0   \n",
              "2                      0                 0            0   \n",
              "3                      0                 0            0   \n",
              "4                      0                 0            1   \n",
              "\n",
              "   Purpose_domestic appliances  Purpose_education  \\\n",
              "0                            0                  0   \n",
              "1                            0                  0   \n",
              "2                            0                  1   \n",
              "3                            0                  0   \n",
              "4                            0                  0   \n",
              "\n",
              "   Purpose_furniture/equipment  Purpose_radio/TV  Purpose_repairs  \\\n",
              "0                            0                 1                0   \n",
              "1                            0                 1                0   \n",
              "2                            0                 0                0   \n",
              "3                            1                 0                0   \n",
              "4                            0                 0                0   \n",
              "\n",
              "   Purpose_vacation/others  \n",
              "0                        0  \n",
              "1                        0  \n",
              "2                        0  \n",
              "3                        0  \n",
              "4                        0  \n",
              "\n",
              "[5 rows x 33 columns]"
            ],
            "text/html": [
              "\n",
              "  <div id=\"df-079a86f8-08ae-46a0-a475-33a5b2d52120\">\n",
              "    <div class=\"colab-df-container\">\n",
              "      <div>\n",
              "<style scoped>\n",
              "    .dataframe tbody tr th:only-of-type {\n",
              "        vertical-align: middle;\n",
              "    }\n",
              "\n",
              "    .dataframe tbody tr th {\n",
              "        vertical-align: top;\n",
              "    }\n",
              "\n",
              "    .dataframe thead th {\n",
              "        text-align: right;\n",
              "    }\n",
              "</style>\n",
              "<table border=\"1\" class=\"dataframe\">\n",
              "  <thead>\n",
              "    <tr style=\"text-align: right;\">\n",
              "      <th></th>\n",
              "      <th>Age</th>\n",
              "      <th>Sex</th>\n",
              "      <th>Job</th>\n",
              "      <th>Housing</th>\n",
              "      <th>Saving accounts</th>\n",
              "      <th>Checking account</th>\n",
              "      <th>Credit amount</th>\n",
              "      <th>Duration</th>\n",
              "      <th>Purpose</th>\n",
              "      <th>Sex_female</th>\n",
              "      <th>...</th>\n",
              "      <th>Checking account_moderate</th>\n",
              "      <th>Checking account_rich</th>\n",
              "      <th>Purpose_business</th>\n",
              "      <th>Purpose_car</th>\n",
              "      <th>Purpose_domestic appliances</th>\n",
              "      <th>Purpose_education</th>\n",
              "      <th>Purpose_furniture/equipment</th>\n",
              "      <th>Purpose_radio/TV</th>\n",
              "      <th>Purpose_repairs</th>\n",
              "      <th>Purpose_vacation/others</th>\n",
              "    </tr>\n",
              "  </thead>\n",
              "  <tbody>\n",
              "    <tr>\n",
              "      <th>0</th>\n",
              "      <td>67</td>\n",
              "      <td>male</td>\n",
              "      <td>2</td>\n",
              "      <td>own</td>\n",
              "      <td>NaN</td>\n",
              "      <td>little</td>\n",
              "      <td>1169</td>\n",
              "      <td>6</td>\n",
              "      <td>radio/TV</td>\n",
              "      <td>0</td>\n",
              "      <td>...</td>\n",
              "      <td>0</td>\n",
              "      <td>0</td>\n",
              "      <td>0</td>\n",
              "      <td>0</td>\n",
              "      <td>0</td>\n",
              "      <td>0</td>\n",
              "      <td>0</td>\n",
              "      <td>1</td>\n",
              "      <td>0</td>\n",
              "      <td>0</td>\n",
              "    </tr>\n",
              "    <tr>\n",
              "      <th>1</th>\n",
              "      <td>22</td>\n",
              "      <td>female</td>\n",
              "      <td>2</td>\n",
              "      <td>own</td>\n",
              "      <td>little</td>\n",
              "      <td>moderate</td>\n",
              "      <td>5951</td>\n",
              "      <td>48</td>\n",
              "      <td>radio/TV</td>\n",
              "      <td>1</td>\n",
              "      <td>...</td>\n",
              "      <td>1</td>\n",
              "      <td>0</td>\n",
              "      <td>0</td>\n",
              "      <td>0</td>\n",
              "      <td>0</td>\n",
              "      <td>0</td>\n",
              "      <td>0</td>\n",
              "      <td>1</td>\n",
              "      <td>0</td>\n",
              "      <td>0</td>\n",
              "    </tr>\n",
              "    <tr>\n",
              "      <th>2</th>\n",
              "      <td>49</td>\n",
              "      <td>male</td>\n",
              "      <td>1</td>\n",
              "      <td>own</td>\n",
              "      <td>little</td>\n",
              "      <td>NaN</td>\n",
              "      <td>2096</td>\n",
              "      <td>12</td>\n",
              "      <td>education</td>\n",
              "      <td>0</td>\n",
              "      <td>...</td>\n",
              "      <td>0</td>\n",
              "      <td>0</td>\n",
              "      <td>0</td>\n",
              "      <td>0</td>\n",
              "      <td>0</td>\n",
              "      <td>1</td>\n",
              "      <td>0</td>\n",
              "      <td>0</td>\n",
              "      <td>0</td>\n",
              "      <td>0</td>\n",
              "    </tr>\n",
              "    <tr>\n",
              "      <th>3</th>\n",
              "      <td>45</td>\n",
              "      <td>male</td>\n",
              "      <td>2</td>\n",
              "      <td>free</td>\n",
              "      <td>little</td>\n",
              "      <td>little</td>\n",
              "      <td>7882</td>\n",
              "      <td>42</td>\n",
              "      <td>furniture/equipment</td>\n",
              "      <td>0</td>\n",
              "      <td>...</td>\n",
              "      <td>0</td>\n",
              "      <td>0</td>\n",
              "      <td>0</td>\n",
              "      <td>0</td>\n",
              "      <td>0</td>\n",
              "      <td>0</td>\n",
              "      <td>1</td>\n",
              "      <td>0</td>\n",
              "      <td>0</td>\n",
              "      <td>0</td>\n",
              "    </tr>\n",
              "    <tr>\n",
              "      <th>4</th>\n",
              "      <td>53</td>\n",
              "      <td>male</td>\n",
              "      <td>2</td>\n",
              "      <td>free</td>\n",
              "      <td>little</td>\n",
              "      <td>little</td>\n",
              "      <td>4870</td>\n",
              "      <td>24</td>\n",
              "      <td>car</td>\n",
              "      <td>0</td>\n",
              "      <td>...</td>\n",
              "      <td>0</td>\n",
              "      <td>0</td>\n",
              "      <td>0</td>\n",
              "      <td>1</td>\n",
              "      <td>0</td>\n",
              "      <td>0</td>\n",
              "      <td>0</td>\n",
              "      <td>0</td>\n",
              "      <td>0</td>\n",
              "      <td>0</td>\n",
              "    </tr>\n",
              "  </tbody>\n",
              "</table>\n",
              "<p>5 rows × 33 columns</p>\n",
              "</div>\n",
              "      <button class=\"colab-df-convert\" onclick=\"convertToInteractive('df-079a86f8-08ae-46a0-a475-33a5b2d52120')\"\n",
              "              title=\"Convert this dataframe to an interactive table.\"\n",
              "              style=\"display:none;\">\n",
              "        \n",
              "  <svg xmlns=\"http://www.w3.org/2000/svg\" height=\"24px\"viewBox=\"0 0 24 24\"\n",
              "       width=\"24px\">\n",
              "    <path d=\"M0 0h24v24H0V0z\" fill=\"none\"/>\n",
              "    <path d=\"M18.56 5.44l.94 2.06.94-2.06 2.06-.94-2.06-.94-.94-2.06-.94 2.06-2.06.94zm-11 1L8.5 8.5l.94-2.06 2.06-.94-2.06-.94L8.5 2.5l-.94 2.06-2.06.94zm10 10l.94 2.06.94-2.06 2.06-.94-2.06-.94-.94-2.06-.94 2.06-2.06.94z\"/><path d=\"M17.41 7.96l-1.37-1.37c-.4-.4-.92-.59-1.43-.59-.52 0-1.04.2-1.43.59L10.3 9.45l-7.72 7.72c-.78.78-.78 2.05 0 2.83L4 21.41c.39.39.9.59 1.41.59.51 0 1.02-.2 1.41-.59l7.78-7.78 2.81-2.81c.8-.78.8-2.07 0-2.86zM5.41 20L4 18.59l7.72-7.72 1.47 1.35L5.41 20z\"/>\n",
              "  </svg>\n",
              "      </button>\n",
              "      \n",
              "  <style>\n",
              "    .colab-df-container {\n",
              "      display:flex;\n",
              "      flex-wrap:wrap;\n",
              "      gap: 12px;\n",
              "    }\n",
              "\n",
              "    .colab-df-convert {\n",
              "      background-color: #E8F0FE;\n",
              "      border: none;\n",
              "      border-radius: 50%;\n",
              "      cursor: pointer;\n",
              "      display: none;\n",
              "      fill: #1967D2;\n",
              "      height: 32px;\n",
              "      padding: 0 0 0 0;\n",
              "      width: 32px;\n",
              "    }\n",
              "\n",
              "    .colab-df-convert:hover {\n",
              "      background-color: #E2EBFA;\n",
              "      box-shadow: 0px 1px 2px rgba(60, 64, 67, 0.3), 0px 1px 3px 1px rgba(60, 64, 67, 0.15);\n",
              "      fill: #174EA6;\n",
              "    }\n",
              "\n",
              "    [theme=dark] .colab-df-convert {\n",
              "      background-color: #3B4455;\n",
              "      fill: #D2E3FC;\n",
              "    }\n",
              "\n",
              "    [theme=dark] .colab-df-convert:hover {\n",
              "      background-color: #434B5C;\n",
              "      box-shadow: 0px 1px 3px 1px rgba(0, 0, 0, 0.15);\n",
              "      filter: drop-shadow(0px 1px 2px rgba(0, 0, 0, 0.3));\n",
              "      fill: #FFFFFF;\n",
              "    }\n",
              "  </style>\n",
              "\n",
              "      <script>\n",
              "        const buttonEl =\n",
              "          document.querySelector('#df-079a86f8-08ae-46a0-a475-33a5b2d52120 button.colab-df-convert');\n",
              "        buttonEl.style.display =\n",
              "          google.colab.kernel.accessAllowed ? 'block' : 'none';\n",
              "\n",
              "        async function convertToInteractive(key) {\n",
              "          const element = document.querySelector('#df-079a86f8-08ae-46a0-a475-33a5b2d52120');\n",
              "          const dataTable =\n",
              "            await google.colab.kernel.invokeFunction('convertToInteractive',\n",
              "                                                     [key], {});\n",
              "          if (!dataTable) return;\n",
              "\n",
              "          const docLinkHtml = 'Like what you see? Visit the ' +\n",
              "            '<a target=\"_blank\" href=https://colab.research.google.com/notebooks/data_table.ipynb>data table notebook</a>'\n",
              "            + ' to learn more about interactive tables.';\n",
              "          element.innerHTML = '';\n",
              "          dataTable['output_type'] = 'display_data';\n",
              "          await google.colab.output.renderOutput(dataTable, element);\n",
              "          const docLink = document.createElement('div');\n",
              "          docLink.innerHTML = docLinkHtml;\n",
              "          element.appendChild(docLink);\n",
              "        }\n",
              "      </script>\n",
              "    </div>\n",
              "  </div>\n",
              "  "
            ]
          },
          "metadata": {},
          "execution_count": 43
        }
      ]
    },
    {
      "cell_type": "code",
      "source": [
        "features_encoded = features_raw2.drop(columns=['Sex', 'Job', 'Housing', 'Saving accounts', 'Checking account', 'Purpose'], axis=1)\n",
        "features_encoded.head()"
      ],
      "metadata": {
        "colab": {
          "base_uri": "https://localhost:8080/",
          "height": 317
        },
        "id": "IndIueCc3B8E",
        "outputId": "6c93274a-ca49-4fc6-98bc-c3142bbdd05b"
      },
      "execution_count": null,
      "outputs": [
        {
          "output_type": "execute_result",
          "data": {
            "text/plain": [
              "   Age  Credit amount  Duration  Sex_female  Sex_male  Job_0  Job_1  Job_2  \\\n",
              "0   67           1169         6           0         1      0      0      1   \n",
              "1   22           5951        48           1         0      0      0      1   \n",
              "2   49           2096        12           0         1      0      1      0   \n",
              "3   45           7882        42           0         1      0      0      1   \n",
              "4   53           4870        24           0         1      0      0      1   \n",
              "\n",
              "   Job_3  Housing_free  ...  Checking account_moderate  Checking account_rich  \\\n",
              "0      0             0  ...                          0                      0   \n",
              "1      0             0  ...                          1                      0   \n",
              "2      0             0  ...                          0                      0   \n",
              "3      0             1  ...                          0                      0   \n",
              "4      0             1  ...                          0                      0   \n",
              "\n",
              "   Purpose_business  Purpose_car  Purpose_domestic appliances  \\\n",
              "0                 0            0                            0   \n",
              "1                 0            0                            0   \n",
              "2                 0            0                            0   \n",
              "3                 0            0                            0   \n",
              "4                 0            1                            0   \n",
              "\n",
              "   Purpose_education  Purpose_furniture/equipment  Purpose_radio/TV  \\\n",
              "0                  0                            0                 1   \n",
              "1                  0                            0                 1   \n",
              "2                  1                            0                 0   \n",
              "3                  0                            1                 0   \n",
              "4                  0                            0                 0   \n",
              "\n",
              "   Purpose_repairs  Purpose_vacation/others  \n",
              "0                0                        0  \n",
              "1                0                        0  \n",
              "2                0                        0  \n",
              "3                0                        0  \n",
              "4                0                        0  \n",
              "\n",
              "[5 rows x 27 columns]"
            ],
            "text/html": [
              "\n",
              "  <div id=\"df-fe69bd81-5fbc-4f2c-af2c-2a67ee763e83\">\n",
              "    <div class=\"colab-df-container\">\n",
              "      <div>\n",
              "<style scoped>\n",
              "    .dataframe tbody tr th:only-of-type {\n",
              "        vertical-align: middle;\n",
              "    }\n",
              "\n",
              "    .dataframe tbody tr th {\n",
              "        vertical-align: top;\n",
              "    }\n",
              "\n",
              "    .dataframe thead th {\n",
              "        text-align: right;\n",
              "    }\n",
              "</style>\n",
              "<table border=\"1\" class=\"dataframe\">\n",
              "  <thead>\n",
              "    <tr style=\"text-align: right;\">\n",
              "      <th></th>\n",
              "      <th>Age</th>\n",
              "      <th>Credit amount</th>\n",
              "      <th>Duration</th>\n",
              "      <th>Sex_female</th>\n",
              "      <th>Sex_male</th>\n",
              "      <th>Job_0</th>\n",
              "      <th>Job_1</th>\n",
              "      <th>Job_2</th>\n",
              "      <th>Job_3</th>\n",
              "      <th>Housing_free</th>\n",
              "      <th>...</th>\n",
              "      <th>Checking account_moderate</th>\n",
              "      <th>Checking account_rich</th>\n",
              "      <th>Purpose_business</th>\n",
              "      <th>Purpose_car</th>\n",
              "      <th>Purpose_domestic appliances</th>\n",
              "      <th>Purpose_education</th>\n",
              "      <th>Purpose_furniture/equipment</th>\n",
              "      <th>Purpose_radio/TV</th>\n",
              "      <th>Purpose_repairs</th>\n",
              "      <th>Purpose_vacation/others</th>\n",
              "    </tr>\n",
              "  </thead>\n",
              "  <tbody>\n",
              "    <tr>\n",
              "      <th>0</th>\n",
              "      <td>67</td>\n",
              "      <td>1169</td>\n",
              "      <td>6</td>\n",
              "      <td>0</td>\n",
              "      <td>1</td>\n",
              "      <td>0</td>\n",
              "      <td>0</td>\n",
              "      <td>1</td>\n",
              "      <td>0</td>\n",
              "      <td>0</td>\n",
              "      <td>...</td>\n",
              "      <td>0</td>\n",
              "      <td>0</td>\n",
              "      <td>0</td>\n",
              "      <td>0</td>\n",
              "      <td>0</td>\n",
              "      <td>0</td>\n",
              "      <td>0</td>\n",
              "      <td>1</td>\n",
              "      <td>0</td>\n",
              "      <td>0</td>\n",
              "    </tr>\n",
              "    <tr>\n",
              "      <th>1</th>\n",
              "      <td>22</td>\n",
              "      <td>5951</td>\n",
              "      <td>48</td>\n",
              "      <td>1</td>\n",
              "      <td>0</td>\n",
              "      <td>0</td>\n",
              "      <td>0</td>\n",
              "      <td>1</td>\n",
              "      <td>0</td>\n",
              "      <td>0</td>\n",
              "      <td>...</td>\n",
              "      <td>1</td>\n",
              "      <td>0</td>\n",
              "      <td>0</td>\n",
              "      <td>0</td>\n",
              "      <td>0</td>\n",
              "      <td>0</td>\n",
              "      <td>0</td>\n",
              "      <td>1</td>\n",
              "      <td>0</td>\n",
              "      <td>0</td>\n",
              "    </tr>\n",
              "    <tr>\n",
              "      <th>2</th>\n",
              "      <td>49</td>\n",
              "      <td>2096</td>\n",
              "      <td>12</td>\n",
              "      <td>0</td>\n",
              "      <td>1</td>\n",
              "      <td>0</td>\n",
              "      <td>1</td>\n",
              "      <td>0</td>\n",
              "      <td>0</td>\n",
              "      <td>0</td>\n",
              "      <td>...</td>\n",
              "      <td>0</td>\n",
              "      <td>0</td>\n",
              "      <td>0</td>\n",
              "      <td>0</td>\n",
              "      <td>0</td>\n",
              "      <td>1</td>\n",
              "      <td>0</td>\n",
              "      <td>0</td>\n",
              "      <td>0</td>\n",
              "      <td>0</td>\n",
              "    </tr>\n",
              "    <tr>\n",
              "      <th>3</th>\n",
              "      <td>45</td>\n",
              "      <td>7882</td>\n",
              "      <td>42</td>\n",
              "      <td>0</td>\n",
              "      <td>1</td>\n",
              "      <td>0</td>\n",
              "      <td>0</td>\n",
              "      <td>1</td>\n",
              "      <td>0</td>\n",
              "      <td>1</td>\n",
              "      <td>...</td>\n",
              "      <td>0</td>\n",
              "      <td>0</td>\n",
              "      <td>0</td>\n",
              "      <td>0</td>\n",
              "      <td>0</td>\n",
              "      <td>0</td>\n",
              "      <td>1</td>\n",
              "      <td>0</td>\n",
              "      <td>0</td>\n",
              "      <td>0</td>\n",
              "    </tr>\n",
              "    <tr>\n",
              "      <th>4</th>\n",
              "      <td>53</td>\n",
              "      <td>4870</td>\n",
              "      <td>24</td>\n",
              "      <td>0</td>\n",
              "      <td>1</td>\n",
              "      <td>0</td>\n",
              "      <td>0</td>\n",
              "      <td>1</td>\n",
              "      <td>0</td>\n",
              "      <td>1</td>\n",
              "      <td>...</td>\n",
              "      <td>0</td>\n",
              "      <td>0</td>\n",
              "      <td>0</td>\n",
              "      <td>1</td>\n",
              "      <td>0</td>\n",
              "      <td>0</td>\n",
              "      <td>0</td>\n",
              "      <td>0</td>\n",
              "      <td>0</td>\n",
              "      <td>0</td>\n",
              "    </tr>\n",
              "  </tbody>\n",
              "</table>\n",
              "<p>5 rows × 27 columns</p>\n",
              "</div>\n",
              "      <button class=\"colab-df-convert\" onclick=\"convertToInteractive('df-fe69bd81-5fbc-4f2c-af2c-2a67ee763e83')\"\n",
              "              title=\"Convert this dataframe to an interactive table.\"\n",
              "              style=\"display:none;\">\n",
              "        \n",
              "  <svg xmlns=\"http://www.w3.org/2000/svg\" height=\"24px\"viewBox=\"0 0 24 24\"\n",
              "       width=\"24px\">\n",
              "    <path d=\"M0 0h24v24H0V0z\" fill=\"none\"/>\n",
              "    <path d=\"M18.56 5.44l.94 2.06.94-2.06 2.06-.94-2.06-.94-.94-2.06-.94 2.06-2.06.94zm-11 1L8.5 8.5l.94-2.06 2.06-.94-2.06-.94L8.5 2.5l-.94 2.06-2.06.94zm10 10l.94 2.06.94-2.06 2.06-.94-2.06-.94-.94-2.06-.94 2.06-2.06.94z\"/><path d=\"M17.41 7.96l-1.37-1.37c-.4-.4-.92-.59-1.43-.59-.52 0-1.04.2-1.43.59L10.3 9.45l-7.72 7.72c-.78.78-.78 2.05 0 2.83L4 21.41c.39.39.9.59 1.41.59.51 0 1.02-.2 1.41-.59l7.78-7.78 2.81-2.81c.8-.78.8-2.07 0-2.86zM5.41 20L4 18.59l7.72-7.72 1.47 1.35L5.41 20z\"/>\n",
              "  </svg>\n",
              "      </button>\n",
              "      \n",
              "  <style>\n",
              "    .colab-df-container {\n",
              "      display:flex;\n",
              "      flex-wrap:wrap;\n",
              "      gap: 12px;\n",
              "    }\n",
              "\n",
              "    .colab-df-convert {\n",
              "      background-color: #E8F0FE;\n",
              "      border: none;\n",
              "      border-radius: 50%;\n",
              "      cursor: pointer;\n",
              "      display: none;\n",
              "      fill: #1967D2;\n",
              "      height: 32px;\n",
              "      padding: 0 0 0 0;\n",
              "      width: 32px;\n",
              "    }\n",
              "\n",
              "    .colab-df-convert:hover {\n",
              "      background-color: #E2EBFA;\n",
              "      box-shadow: 0px 1px 2px rgba(60, 64, 67, 0.3), 0px 1px 3px 1px rgba(60, 64, 67, 0.15);\n",
              "      fill: #174EA6;\n",
              "    }\n",
              "\n",
              "    [theme=dark] .colab-df-convert {\n",
              "      background-color: #3B4455;\n",
              "      fill: #D2E3FC;\n",
              "    }\n",
              "\n",
              "    [theme=dark] .colab-df-convert:hover {\n",
              "      background-color: #434B5C;\n",
              "      box-shadow: 0px 1px 3px 1px rgba(0, 0, 0, 0.15);\n",
              "      filter: drop-shadow(0px 1px 2px rgba(0, 0, 0, 0.3));\n",
              "      fill: #FFFFFF;\n",
              "    }\n",
              "  </style>\n",
              "\n",
              "      <script>\n",
              "        const buttonEl =\n",
              "          document.querySelector('#df-fe69bd81-5fbc-4f2c-af2c-2a67ee763e83 button.colab-df-convert');\n",
              "        buttonEl.style.display =\n",
              "          google.colab.kernel.accessAllowed ? 'block' : 'none';\n",
              "\n",
              "        async function convertToInteractive(key) {\n",
              "          const element = document.querySelector('#df-fe69bd81-5fbc-4f2c-af2c-2a67ee763e83');\n",
              "          const dataTable =\n",
              "            await google.colab.kernel.invokeFunction('convertToInteractive',\n",
              "                                                     [key], {});\n",
              "          if (!dataTable) return;\n",
              "\n",
              "          const docLinkHtml = 'Like what you see? Visit the ' +\n",
              "            '<a target=\"_blank\" href=https://colab.research.google.com/notebooks/data_table.ipynb>data table notebook</a>'\n",
              "            + ' to learn more about interactive tables.';\n",
              "          element.innerHTML = '';\n",
              "          dataTable['output_type'] = 'display_data';\n",
              "          await google.colab.output.renderOutput(dataTable, element);\n",
              "          const docLink = document.createElement('div');\n",
              "          docLink.innerHTML = docLinkHtml;\n",
              "          element.appendChild(docLink);\n",
              "        }\n",
              "      </script>\n",
              "    </div>\n",
              "  </div>\n",
              "  "
            ]
          },
          "metadata": {},
          "execution_count": 44
        }
      ]
    },
    {
      "cell_type": "code",
      "source": [
        "features_encoded.loc[0]"
      ],
      "metadata": {
        "colab": {
          "base_uri": "https://localhost:8080/"
        },
        "id": "RxxWkEdI3Bxr",
        "outputId": "d4681e87-5e7d-48bf-98c7-97d5fbf07ba2"
      },
      "execution_count": null,
      "outputs": [
        {
          "output_type": "execute_result",
          "data": {
            "text/plain": [
              "Age                              67\n",
              "Credit amount                  1169\n",
              "Duration                          6\n",
              "Sex_female                        0\n",
              "Sex_male                          1\n",
              "Job_0                             0\n",
              "Job_1                             0\n",
              "Job_2                             1\n",
              "Job_3                             0\n",
              "Housing_free                      0\n",
              "Housing_own                       1\n",
              "Housing_rent                      0\n",
              "Saving accounts_little            0\n",
              "Saving accounts_moderate          0\n",
              "Saving accounts_quite rich        0\n",
              "Saving accounts_rich              0\n",
              "Checking account_little           1\n",
              "Checking account_moderate         0\n",
              "Checking account_rich             0\n",
              "Purpose_business                  0\n",
              "Purpose_car                       0\n",
              "Purpose_domestic appliances       0\n",
              "Purpose_education                 0\n",
              "Purpose_furniture/equipment       0\n",
              "Purpose_radio/TV                  1\n",
              "Purpose_repairs                   0\n",
              "Purpose_vacation/others           0\n",
              "Name: 0, dtype: int64"
            ]
          },
          "metadata": {},
          "execution_count": 45
        }
      ]
    },
    {
      "cell_type": "markdown",
      "source": [
        "We can see that through one-hot encoding, the missing value in the \"Saving accounts\" of the first record is gone (it just becomes 0 for all 4 newly generated columns of \"Saving accounts\")."
      ],
      "metadata": {
        "id": "dZ46BH84jgTy"
      }
    },
    {
      "cell_type": "markdown",
      "source": [
        "#### 4.2 Normalizing Numerical Features\n",
        "Normalization ensures that each feature is treated equally when applying supervised learners. This is especially important for the current dataset because the scale for each numerical column varies a lot."
      ],
      "metadata": {
        "id": "5i5wy_xdY-3c"
      }
    },
    {
      "cell_type": "code",
      "source": [
        "features_encoded.head()"
      ],
      "metadata": {
        "colab": {
          "base_uri": "https://localhost:8080/",
          "height": 317
        },
        "id": "y0uWgnyfj0bW",
        "outputId": "9a99569f-9e0d-45a1-de81-ec95f8f470ca"
      },
      "execution_count": null,
      "outputs": [
        {
          "output_type": "execute_result",
          "data": {
            "text/plain": [
              "   Age  Credit amount  Duration  Sex_female  Sex_male  Job_0  Job_1  Job_2  \\\n",
              "0   67           1169         6           0         1      0      0      1   \n",
              "1   22           5951        48           1         0      0      0      1   \n",
              "2   49           2096        12           0         1      0      1      0   \n",
              "3   45           7882        42           0         1      0      0      1   \n",
              "4   53           4870        24           0         1      0      0      1   \n",
              "\n",
              "   Job_3  Housing_free  ...  Checking account_moderate  Checking account_rich  \\\n",
              "0      0             0  ...                          0                      0   \n",
              "1      0             0  ...                          1                      0   \n",
              "2      0             0  ...                          0                      0   \n",
              "3      0             1  ...                          0                      0   \n",
              "4      0             1  ...                          0                      0   \n",
              "\n",
              "   Purpose_business  Purpose_car  Purpose_domestic appliances  \\\n",
              "0                 0            0                            0   \n",
              "1                 0            0                            0   \n",
              "2                 0            0                            0   \n",
              "3                 0            0                            0   \n",
              "4                 0            1                            0   \n",
              "\n",
              "   Purpose_education  Purpose_furniture/equipment  Purpose_radio/TV  \\\n",
              "0                  0                            0                 1   \n",
              "1                  0                            0                 1   \n",
              "2                  1                            0                 0   \n",
              "3                  0                            1                 0   \n",
              "4                  0                            0                 0   \n",
              "\n",
              "   Purpose_repairs  Purpose_vacation/others  \n",
              "0                0                        0  \n",
              "1                0                        0  \n",
              "2                0                        0  \n",
              "3                0                        0  \n",
              "4                0                        0  \n",
              "\n",
              "[5 rows x 27 columns]"
            ],
            "text/html": [
              "\n",
              "  <div id=\"df-6d9fc38e-e3d1-4c72-8de3-e56d03a47c6d\">\n",
              "    <div class=\"colab-df-container\">\n",
              "      <div>\n",
              "<style scoped>\n",
              "    .dataframe tbody tr th:only-of-type {\n",
              "        vertical-align: middle;\n",
              "    }\n",
              "\n",
              "    .dataframe tbody tr th {\n",
              "        vertical-align: top;\n",
              "    }\n",
              "\n",
              "    .dataframe thead th {\n",
              "        text-align: right;\n",
              "    }\n",
              "</style>\n",
              "<table border=\"1\" class=\"dataframe\">\n",
              "  <thead>\n",
              "    <tr style=\"text-align: right;\">\n",
              "      <th></th>\n",
              "      <th>Age</th>\n",
              "      <th>Credit amount</th>\n",
              "      <th>Duration</th>\n",
              "      <th>Sex_female</th>\n",
              "      <th>Sex_male</th>\n",
              "      <th>Job_0</th>\n",
              "      <th>Job_1</th>\n",
              "      <th>Job_2</th>\n",
              "      <th>Job_3</th>\n",
              "      <th>Housing_free</th>\n",
              "      <th>...</th>\n",
              "      <th>Checking account_moderate</th>\n",
              "      <th>Checking account_rich</th>\n",
              "      <th>Purpose_business</th>\n",
              "      <th>Purpose_car</th>\n",
              "      <th>Purpose_domestic appliances</th>\n",
              "      <th>Purpose_education</th>\n",
              "      <th>Purpose_furniture/equipment</th>\n",
              "      <th>Purpose_radio/TV</th>\n",
              "      <th>Purpose_repairs</th>\n",
              "      <th>Purpose_vacation/others</th>\n",
              "    </tr>\n",
              "  </thead>\n",
              "  <tbody>\n",
              "    <tr>\n",
              "      <th>0</th>\n",
              "      <td>67</td>\n",
              "      <td>1169</td>\n",
              "      <td>6</td>\n",
              "      <td>0</td>\n",
              "      <td>1</td>\n",
              "      <td>0</td>\n",
              "      <td>0</td>\n",
              "      <td>1</td>\n",
              "      <td>0</td>\n",
              "      <td>0</td>\n",
              "      <td>...</td>\n",
              "      <td>0</td>\n",
              "      <td>0</td>\n",
              "      <td>0</td>\n",
              "      <td>0</td>\n",
              "      <td>0</td>\n",
              "      <td>0</td>\n",
              "      <td>0</td>\n",
              "      <td>1</td>\n",
              "      <td>0</td>\n",
              "      <td>0</td>\n",
              "    </tr>\n",
              "    <tr>\n",
              "      <th>1</th>\n",
              "      <td>22</td>\n",
              "      <td>5951</td>\n",
              "      <td>48</td>\n",
              "      <td>1</td>\n",
              "      <td>0</td>\n",
              "      <td>0</td>\n",
              "      <td>0</td>\n",
              "      <td>1</td>\n",
              "      <td>0</td>\n",
              "      <td>0</td>\n",
              "      <td>...</td>\n",
              "      <td>1</td>\n",
              "      <td>0</td>\n",
              "      <td>0</td>\n",
              "      <td>0</td>\n",
              "      <td>0</td>\n",
              "      <td>0</td>\n",
              "      <td>0</td>\n",
              "      <td>1</td>\n",
              "      <td>0</td>\n",
              "      <td>0</td>\n",
              "    </tr>\n",
              "    <tr>\n",
              "      <th>2</th>\n",
              "      <td>49</td>\n",
              "      <td>2096</td>\n",
              "      <td>12</td>\n",
              "      <td>0</td>\n",
              "      <td>1</td>\n",
              "      <td>0</td>\n",
              "      <td>1</td>\n",
              "      <td>0</td>\n",
              "      <td>0</td>\n",
              "      <td>0</td>\n",
              "      <td>...</td>\n",
              "      <td>0</td>\n",
              "      <td>0</td>\n",
              "      <td>0</td>\n",
              "      <td>0</td>\n",
              "      <td>0</td>\n",
              "      <td>1</td>\n",
              "      <td>0</td>\n",
              "      <td>0</td>\n",
              "      <td>0</td>\n",
              "      <td>0</td>\n",
              "    </tr>\n",
              "    <tr>\n",
              "      <th>3</th>\n",
              "      <td>45</td>\n",
              "      <td>7882</td>\n",
              "      <td>42</td>\n",
              "      <td>0</td>\n",
              "      <td>1</td>\n",
              "      <td>0</td>\n",
              "      <td>0</td>\n",
              "      <td>1</td>\n",
              "      <td>0</td>\n",
              "      <td>1</td>\n",
              "      <td>...</td>\n",
              "      <td>0</td>\n",
              "      <td>0</td>\n",
              "      <td>0</td>\n",
              "      <td>0</td>\n",
              "      <td>0</td>\n",
              "      <td>0</td>\n",
              "      <td>1</td>\n",
              "      <td>0</td>\n",
              "      <td>0</td>\n",
              "      <td>0</td>\n",
              "    </tr>\n",
              "    <tr>\n",
              "      <th>4</th>\n",
              "      <td>53</td>\n",
              "      <td>4870</td>\n",
              "      <td>24</td>\n",
              "      <td>0</td>\n",
              "      <td>1</td>\n",
              "      <td>0</td>\n",
              "      <td>0</td>\n",
              "      <td>1</td>\n",
              "      <td>0</td>\n",
              "      <td>1</td>\n",
              "      <td>...</td>\n",
              "      <td>0</td>\n",
              "      <td>0</td>\n",
              "      <td>0</td>\n",
              "      <td>1</td>\n",
              "      <td>0</td>\n",
              "      <td>0</td>\n",
              "      <td>0</td>\n",
              "      <td>0</td>\n",
              "      <td>0</td>\n",
              "      <td>0</td>\n",
              "    </tr>\n",
              "  </tbody>\n",
              "</table>\n",
              "<p>5 rows × 27 columns</p>\n",
              "</div>\n",
              "      <button class=\"colab-df-convert\" onclick=\"convertToInteractive('df-6d9fc38e-e3d1-4c72-8de3-e56d03a47c6d')\"\n",
              "              title=\"Convert this dataframe to an interactive table.\"\n",
              "              style=\"display:none;\">\n",
              "        \n",
              "  <svg xmlns=\"http://www.w3.org/2000/svg\" height=\"24px\"viewBox=\"0 0 24 24\"\n",
              "       width=\"24px\">\n",
              "    <path d=\"M0 0h24v24H0V0z\" fill=\"none\"/>\n",
              "    <path d=\"M18.56 5.44l.94 2.06.94-2.06 2.06-.94-2.06-.94-.94-2.06-.94 2.06-2.06.94zm-11 1L8.5 8.5l.94-2.06 2.06-.94-2.06-.94L8.5 2.5l-.94 2.06-2.06.94zm10 10l.94 2.06.94-2.06 2.06-.94-2.06-.94-.94-2.06-.94 2.06-2.06.94z\"/><path d=\"M17.41 7.96l-1.37-1.37c-.4-.4-.92-.59-1.43-.59-.52 0-1.04.2-1.43.59L10.3 9.45l-7.72 7.72c-.78.78-.78 2.05 0 2.83L4 21.41c.39.39.9.59 1.41.59.51 0 1.02-.2 1.41-.59l7.78-7.78 2.81-2.81c.8-.78.8-2.07 0-2.86zM5.41 20L4 18.59l7.72-7.72 1.47 1.35L5.41 20z\"/>\n",
              "  </svg>\n",
              "      </button>\n",
              "      \n",
              "  <style>\n",
              "    .colab-df-container {\n",
              "      display:flex;\n",
              "      flex-wrap:wrap;\n",
              "      gap: 12px;\n",
              "    }\n",
              "\n",
              "    .colab-df-convert {\n",
              "      background-color: #E8F0FE;\n",
              "      border: none;\n",
              "      border-radius: 50%;\n",
              "      cursor: pointer;\n",
              "      display: none;\n",
              "      fill: #1967D2;\n",
              "      height: 32px;\n",
              "      padding: 0 0 0 0;\n",
              "      width: 32px;\n",
              "    }\n",
              "\n",
              "    .colab-df-convert:hover {\n",
              "      background-color: #E2EBFA;\n",
              "      box-shadow: 0px 1px 2px rgba(60, 64, 67, 0.3), 0px 1px 3px 1px rgba(60, 64, 67, 0.15);\n",
              "      fill: #174EA6;\n",
              "    }\n",
              "\n",
              "    [theme=dark] .colab-df-convert {\n",
              "      background-color: #3B4455;\n",
              "      fill: #D2E3FC;\n",
              "    }\n",
              "\n",
              "    [theme=dark] .colab-df-convert:hover {\n",
              "      background-color: #434B5C;\n",
              "      box-shadow: 0px 1px 3px 1px rgba(0, 0, 0, 0.15);\n",
              "      filter: drop-shadow(0px 1px 2px rgba(0, 0, 0, 0.3));\n",
              "      fill: #FFFFFF;\n",
              "    }\n",
              "  </style>\n",
              "\n",
              "      <script>\n",
              "        const buttonEl =\n",
              "          document.querySelector('#df-6d9fc38e-e3d1-4c72-8de3-e56d03a47c6d button.colab-df-convert');\n",
              "        buttonEl.style.display =\n",
              "          google.colab.kernel.accessAllowed ? 'block' : 'none';\n",
              "\n",
              "        async function convertToInteractive(key) {\n",
              "          const element = document.querySelector('#df-6d9fc38e-e3d1-4c72-8de3-e56d03a47c6d');\n",
              "          const dataTable =\n",
              "            await google.colab.kernel.invokeFunction('convertToInteractive',\n",
              "                                                     [key], {});\n",
              "          if (!dataTable) return;\n",
              "\n",
              "          const docLinkHtml = 'Like what you see? Visit the ' +\n",
              "            '<a target=\"_blank\" href=https://colab.research.google.com/notebooks/data_table.ipynb>data table notebook</a>'\n",
              "            + ' to learn more about interactive tables.';\n",
              "          element.innerHTML = '';\n",
              "          dataTable['output_type'] = 'display_data';\n",
              "          await google.colab.output.renderOutput(dataTable, element);\n",
              "          const docLink = document.createElement('div');\n",
              "          docLink.innerHTML = docLinkHtml;\n",
              "          element.appendChild(docLink);\n",
              "        }\n",
              "      </script>\n",
              "    </div>\n",
              "  </div>\n",
              "  "
            ]
          },
          "metadata": {},
          "execution_count": 46
        }
      ]
    },
    {
      "cell_type": "code",
      "source": [
        "# Initialize a scaler, then apply it to the numeric features\n",
        "scaler = MinMaxScaler() # default=(0, 1)\n",
        "numerical = ['Age', 'Credit amount', 'Duration']\n",
        "\n",
        "features_normalized = pd.DataFrame(data = features_encoded)\n",
        "features_normalized[numerical] = scaler.fit_transform(features_normalized[numerical])\n",
        "features_normalized.head()"
      ],
      "metadata": {
        "colab": {
          "base_uri": "https://localhost:8080/",
          "height": 317
        },
        "id": "3DbJvR5vWSDJ",
        "outputId": "fb94fc2c-d66e-4921-aaf8-ab2a9040891a"
      },
      "execution_count": null,
      "outputs": [
        {
          "output_type": "execute_result",
          "data": {
            "text/plain": [
              "        Age  Credit amount  Duration  Sex_female  Sex_male  Job_0  Job_1  \\\n",
              "0  0.857143       0.050567  0.029412           0         1      0      0   \n",
              "1  0.053571       0.313690  0.647059           1         0      0      0   \n",
              "2  0.535714       0.101574  0.117647           0         1      0      1   \n",
              "3  0.464286       0.419941  0.558824           0         1      0      0   \n",
              "4  0.607143       0.254209  0.294118           0         1      0      0   \n",
              "\n",
              "   Job_2  Job_3  Housing_free  ...  Checking account_moderate  \\\n",
              "0      1      0             0  ...                          0   \n",
              "1      1      0             0  ...                          1   \n",
              "2      0      0             0  ...                          0   \n",
              "3      1      0             1  ...                          0   \n",
              "4      1      0             1  ...                          0   \n",
              "\n",
              "   Checking account_rich  Purpose_business  Purpose_car  \\\n",
              "0                      0                 0            0   \n",
              "1                      0                 0            0   \n",
              "2                      0                 0            0   \n",
              "3                      0                 0            0   \n",
              "4                      0                 0            1   \n",
              "\n",
              "   Purpose_domestic appliances  Purpose_education  \\\n",
              "0                            0                  0   \n",
              "1                            0                  0   \n",
              "2                            0                  1   \n",
              "3                            0                  0   \n",
              "4                            0                  0   \n",
              "\n",
              "   Purpose_furniture/equipment  Purpose_radio/TV  Purpose_repairs  \\\n",
              "0                            0                 1                0   \n",
              "1                            0                 1                0   \n",
              "2                            0                 0                0   \n",
              "3                            1                 0                0   \n",
              "4                            0                 0                0   \n",
              "\n",
              "   Purpose_vacation/others  \n",
              "0                        0  \n",
              "1                        0  \n",
              "2                        0  \n",
              "3                        0  \n",
              "4                        0  \n",
              "\n",
              "[5 rows x 27 columns]"
            ],
            "text/html": [
              "\n",
              "  <div id=\"df-baf00227-10ed-45a8-affa-c5b7bdc63df6\">\n",
              "    <div class=\"colab-df-container\">\n",
              "      <div>\n",
              "<style scoped>\n",
              "    .dataframe tbody tr th:only-of-type {\n",
              "        vertical-align: middle;\n",
              "    }\n",
              "\n",
              "    .dataframe tbody tr th {\n",
              "        vertical-align: top;\n",
              "    }\n",
              "\n",
              "    .dataframe thead th {\n",
              "        text-align: right;\n",
              "    }\n",
              "</style>\n",
              "<table border=\"1\" class=\"dataframe\">\n",
              "  <thead>\n",
              "    <tr style=\"text-align: right;\">\n",
              "      <th></th>\n",
              "      <th>Age</th>\n",
              "      <th>Credit amount</th>\n",
              "      <th>Duration</th>\n",
              "      <th>Sex_female</th>\n",
              "      <th>Sex_male</th>\n",
              "      <th>Job_0</th>\n",
              "      <th>Job_1</th>\n",
              "      <th>Job_2</th>\n",
              "      <th>Job_3</th>\n",
              "      <th>Housing_free</th>\n",
              "      <th>...</th>\n",
              "      <th>Checking account_moderate</th>\n",
              "      <th>Checking account_rich</th>\n",
              "      <th>Purpose_business</th>\n",
              "      <th>Purpose_car</th>\n",
              "      <th>Purpose_domestic appliances</th>\n",
              "      <th>Purpose_education</th>\n",
              "      <th>Purpose_furniture/equipment</th>\n",
              "      <th>Purpose_radio/TV</th>\n",
              "      <th>Purpose_repairs</th>\n",
              "      <th>Purpose_vacation/others</th>\n",
              "    </tr>\n",
              "  </thead>\n",
              "  <tbody>\n",
              "    <tr>\n",
              "      <th>0</th>\n",
              "      <td>0.857143</td>\n",
              "      <td>0.050567</td>\n",
              "      <td>0.029412</td>\n",
              "      <td>0</td>\n",
              "      <td>1</td>\n",
              "      <td>0</td>\n",
              "      <td>0</td>\n",
              "      <td>1</td>\n",
              "      <td>0</td>\n",
              "      <td>0</td>\n",
              "      <td>...</td>\n",
              "      <td>0</td>\n",
              "      <td>0</td>\n",
              "      <td>0</td>\n",
              "      <td>0</td>\n",
              "      <td>0</td>\n",
              "      <td>0</td>\n",
              "      <td>0</td>\n",
              "      <td>1</td>\n",
              "      <td>0</td>\n",
              "      <td>0</td>\n",
              "    </tr>\n",
              "    <tr>\n",
              "      <th>1</th>\n",
              "      <td>0.053571</td>\n",
              "      <td>0.313690</td>\n",
              "      <td>0.647059</td>\n",
              "      <td>1</td>\n",
              "      <td>0</td>\n",
              "      <td>0</td>\n",
              "      <td>0</td>\n",
              "      <td>1</td>\n",
              "      <td>0</td>\n",
              "      <td>0</td>\n",
              "      <td>...</td>\n",
              "      <td>1</td>\n",
              "      <td>0</td>\n",
              "      <td>0</td>\n",
              "      <td>0</td>\n",
              "      <td>0</td>\n",
              "      <td>0</td>\n",
              "      <td>0</td>\n",
              "      <td>1</td>\n",
              "      <td>0</td>\n",
              "      <td>0</td>\n",
              "    </tr>\n",
              "    <tr>\n",
              "      <th>2</th>\n",
              "      <td>0.535714</td>\n",
              "      <td>0.101574</td>\n",
              "      <td>0.117647</td>\n",
              "      <td>0</td>\n",
              "      <td>1</td>\n",
              "      <td>0</td>\n",
              "      <td>1</td>\n",
              "      <td>0</td>\n",
              "      <td>0</td>\n",
              "      <td>0</td>\n",
              "      <td>...</td>\n",
              "      <td>0</td>\n",
              "      <td>0</td>\n",
              "      <td>0</td>\n",
              "      <td>0</td>\n",
              "      <td>0</td>\n",
              "      <td>1</td>\n",
              "      <td>0</td>\n",
              "      <td>0</td>\n",
              "      <td>0</td>\n",
              "      <td>0</td>\n",
              "    </tr>\n",
              "    <tr>\n",
              "      <th>3</th>\n",
              "      <td>0.464286</td>\n",
              "      <td>0.419941</td>\n",
              "      <td>0.558824</td>\n",
              "      <td>0</td>\n",
              "      <td>1</td>\n",
              "      <td>0</td>\n",
              "      <td>0</td>\n",
              "      <td>1</td>\n",
              "      <td>0</td>\n",
              "      <td>1</td>\n",
              "      <td>...</td>\n",
              "      <td>0</td>\n",
              "      <td>0</td>\n",
              "      <td>0</td>\n",
              "      <td>0</td>\n",
              "      <td>0</td>\n",
              "      <td>0</td>\n",
              "      <td>1</td>\n",
              "      <td>0</td>\n",
              "      <td>0</td>\n",
              "      <td>0</td>\n",
              "    </tr>\n",
              "    <tr>\n",
              "      <th>4</th>\n",
              "      <td>0.607143</td>\n",
              "      <td>0.254209</td>\n",
              "      <td>0.294118</td>\n",
              "      <td>0</td>\n",
              "      <td>1</td>\n",
              "      <td>0</td>\n",
              "      <td>0</td>\n",
              "      <td>1</td>\n",
              "      <td>0</td>\n",
              "      <td>1</td>\n",
              "      <td>...</td>\n",
              "      <td>0</td>\n",
              "      <td>0</td>\n",
              "      <td>0</td>\n",
              "      <td>1</td>\n",
              "      <td>0</td>\n",
              "      <td>0</td>\n",
              "      <td>0</td>\n",
              "      <td>0</td>\n",
              "      <td>0</td>\n",
              "      <td>0</td>\n",
              "    </tr>\n",
              "  </tbody>\n",
              "</table>\n",
              "<p>5 rows × 27 columns</p>\n",
              "</div>\n",
              "      <button class=\"colab-df-convert\" onclick=\"convertToInteractive('df-baf00227-10ed-45a8-affa-c5b7bdc63df6')\"\n",
              "              title=\"Convert this dataframe to an interactive table.\"\n",
              "              style=\"display:none;\">\n",
              "        \n",
              "  <svg xmlns=\"http://www.w3.org/2000/svg\" height=\"24px\"viewBox=\"0 0 24 24\"\n",
              "       width=\"24px\">\n",
              "    <path d=\"M0 0h24v24H0V0z\" fill=\"none\"/>\n",
              "    <path d=\"M18.56 5.44l.94 2.06.94-2.06 2.06-.94-2.06-.94-.94-2.06-.94 2.06-2.06.94zm-11 1L8.5 8.5l.94-2.06 2.06-.94-2.06-.94L8.5 2.5l-.94 2.06-2.06.94zm10 10l.94 2.06.94-2.06 2.06-.94-2.06-.94-.94-2.06-.94 2.06-2.06.94z\"/><path d=\"M17.41 7.96l-1.37-1.37c-.4-.4-.92-.59-1.43-.59-.52 0-1.04.2-1.43.59L10.3 9.45l-7.72 7.72c-.78.78-.78 2.05 0 2.83L4 21.41c.39.39.9.59 1.41.59.51 0 1.02-.2 1.41-.59l7.78-7.78 2.81-2.81c.8-.78.8-2.07 0-2.86zM5.41 20L4 18.59l7.72-7.72 1.47 1.35L5.41 20z\"/>\n",
              "  </svg>\n",
              "      </button>\n",
              "      \n",
              "  <style>\n",
              "    .colab-df-container {\n",
              "      display:flex;\n",
              "      flex-wrap:wrap;\n",
              "      gap: 12px;\n",
              "    }\n",
              "\n",
              "    .colab-df-convert {\n",
              "      background-color: #E8F0FE;\n",
              "      border: none;\n",
              "      border-radius: 50%;\n",
              "      cursor: pointer;\n",
              "      display: none;\n",
              "      fill: #1967D2;\n",
              "      height: 32px;\n",
              "      padding: 0 0 0 0;\n",
              "      width: 32px;\n",
              "    }\n",
              "\n",
              "    .colab-df-convert:hover {\n",
              "      background-color: #E2EBFA;\n",
              "      box-shadow: 0px 1px 2px rgba(60, 64, 67, 0.3), 0px 1px 3px 1px rgba(60, 64, 67, 0.15);\n",
              "      fill: #174EA6;\n",
              "    }\n",
              "\n",
              "    [theme=dark] .colab-df-convert {\n",
              "      background-color: #3B4455;\n",
              "      fill: #D2E3FC;\n",
              "    }\n",
              "\n",
              "    [theme=dark] .colab-df-convert:hover {\n",
              "      background-color: #434B5C;\n",
              "      box-shadow: 0px 1px 3px 1px rgba(0, 0, 0, 0.15);\n",
              "      filter: drop-shadow(0px 1px 2px rgba(0, 0, 0, 0.3));\n",
              "      fill: #FFFFFF;\n",
              "    }\n",
              "  </style>\n",
              "\n",
              "      <script>\n",
              "        const buttonEl =\n",
              "          document.querySelector('#df-baf00227-10ed-45a8-affa-c5b7bdc63df6 button.colab-df-convert');\n",
              "        buttonEl.style.display =\n",
              "          google.colab.kernel.accessAllowed ? 'block' : 'none';\n",
              "\n",
              "        async function convertToInteractive(key) {\n",
              "          const element = document.querySelector('#df-baf00227-10ed-45a8-affa-c5b7bdc63df6');\n",
              "          const dataTable =\n",
              "            await google.colab.kernel.invokeFunction('convertToInteractive',\n",
              "                                                     [key], {});\n",
              "          if (!dataTable) return;\n",
              "\n",
              "          const docLinkHtml = 'Like what you see? Visit the ' +\n",
              "            '<a target=\"_blank\" href=https://colab.research.google.com/notebooks/data_table.ipynb>data table notebook</a>'\n",
              "            + ' to learn more about interactive tables.';\n",
              "          element.innerHTML = '';\n",
              "          dataTable['output_type'] = 'display_data';\n",
              "          await google.colab.output.renderOutput(dataTable, element);\n",
              "          const docLink = document.createElement('div');\n",
              "          docLink.innerHTML = docLinkHtml;\n",
              "          element.appendChild(docLink);\n",
              "        }\n",
              "      </script>\n",
              "    </div>\n",
              "  </div>\n",
              "  "
            ]
          },
          "metadata": {},
          "execution_count": 47
        }
      ]
    },
    {
      "cell_type": "markdown",
      "source": [
        "#### 4.3 Splitting data into training and testing sets\n",
        "We will split the data (both features and their labels) into training and test sets. 80% of the data will be used for training and 20% for testing."
      ],
      "metadata": {
        "id": "39xahL2PdRFy"
      }
    },
    {
      "cell_type": "code",
      "source": [
        "# Split the 'features' and 'target' data into training and testing sets\n",
        "X_train, X_test, y_train, y_test = train_test_split(features_normalized, \n",
        "                                                    target,\n",
        "                                                    test_size = 0.2, \n",
        "                                                    random_state = 0)\n",
        "\n",
        "# Show the results of the split\n",
        "print(\"Training set has {} samples.\".format(X_train.shape[0]))\n",
        "print(\"Testing set has {} samples.\".format(X_test.shape[0]))"
      ],
      "metadata": {
        "colab": {
          "base_uri": "https://localhost:8080/"
        },
        "id": "FCHlF7FTWcim",
        "outputId": "5072a2d8-10aa-45ce-84e3-d091c9b1cfa5"
      },
      "execution_count": null,
      "outputs": [
        {
          "output_type": "stream",
          "name": "stdout",
          "text": [
            "Training set has 800 samples.\n",
            "Testing set has 200 samples.\n"
          ]
        }
      ]
    },
    {
      "cell_type": "markdown",
      "source": [
        "### 5. Training and Evaluating Supervised ML Models"
      ],
      "metadata": {
        "id": "kem5gbWG_O91"
      }
    },
    {
      "cell_type": "markdown",
      "source": [
        "To predict whether a person has a good or bad credit is a supervised learning classification task. I think the three most suitable algorithms are:\n",
        "*   Light Gradient Boosting Machine (lightgbm) \n",
        "*   Logistic Regression\n",
        "*   Naive Bayes\n",
        "*   k-nearest neighbors (knn)\n",
        "*   Support Vector Machine (SVM)\n",
        "*   Random Forest\n",
        "*   Adaboost\n",
        "*   Gradient Boost\n",
        "*   XGBoost\n",
        "\n"
      ],
      "metadata": {
        "id": "Xgv1WrzyXl7i"
      }
    },
    {
      "cell_type": "markdown",
      "source": [
        "#### 5.1 Training the LightGBM model with cross validation"
      ],
      "metadata": {
        "id": "oxJu3DG2czWb"
      }
    },
    {
      "cell_type": "code",
      "source": [
        "def lgbcv2(X_train, y_train, params, n_fold=5):\n",
        "  \"\"\"\n",
        "    Incorporate cross-validation (CV) into the lgb model\n",
        "    \n",
        "    inputs:\n",
        "      - X_train: features for training\n",
        "      - y_train: labels for training\n",
        "      - params: parameters for booster\n",
        "      - n_fold: Number of folds in CV\n",
        "    \"\"\"\n",
        "\n",
        "  train_data = lgb.Dataset(X_train, label=y_train)\n",
        "  model_cv = lgb.cv(params, nfold=n_fold, train_set=train_data)\n",
        "  return model_cv"
      ],
      "metadata": {
        "id": "XCSaQPEwpo_T"
      },
      "execution_count": null,
      "outputs": []
    },
    {
      "cell_type": "code",
      "source": [
        "def eval_cv2(X_train, y_train, n_leaves, max_depth, learning_rate, bagging_fraction):\n",
        "  \"\"\"\n",
        "    Implement and evaluate performance of cross-validation (CV) to find the optimal parameters\n",
        "    \n",
        "    inputs:\n",
        "      - X_train: features for training\n",
        "      - y_train: labels for training\n",
        "    Lists of parameters to be tuned:\n",
        "      - n_leaves: max number of leaves in one tree\n",
        "      - max_depth: limit the max depth for tree model. This is used to deal with over-fitting when #data is small. Tree still grows leaf-wise\n",
        "      - learning_rate: shrinkage rate\n",
        "      - bagging_fraction: randomly select a subset of features on each iteration (tree) w/o resampling\n",
        "    \"\"\"\n",
        "\n",
        "  metric_result = 0\n",
        "  para_result = {}\n",
        "\n",
        "  for i in n_leaves:\n",
        "    for j in max_depth:\n",
        "      for k in learning_rate:\n",
        "        for m in bagging_fraction:\n",
        "\n",
        "          parameters = {'objective': 'binary',\n",
        "              'metric': 'auc',\n",
        "              'is_unbalance': 'true',\n",
        "              'num_leaves': i,\n",
        "              'max_depth': j,\n",
        "              'feature_fraction': 0.8,\n",
        "              'bagging_fraction': m, \n",
        "              'bagging_freq': 20,\n",
        "              'learning_rate': k,\n",
        "              'verbose': 5}\n",
        "          model = lgbcv2(X_train, y_train, params=parameters)\n",
        "\n",
        "          if max(model['auc-mean']) > metric_result:\n",
        "            metric_result = max(model['auc-mean'])\n",
        "            para_result['n_leaves'] = i\n",
        "            para_result['max_depth'] = j\n",
        "            para_result['learning_rate'] = k\n",
        "            para_result['bagging_fraction'] = m\n",
        "  return metric_result, para_result\n"
      ],
      "metadata": {
        "id": "SDzaUU8co0vT"
      },
      "execution_count": null,
      "outputs": []
    },
    {
      "cell_type": "code",
      "source": [
        "n_leaves = [4, 6, 8, 10]\n",
        "max_depth = [2, 3, 4] # lower max_depth eliminate overfitting\n",
        "learning_rate = [0.01, 0.05, 0.1]\n",
        "bagging_fraction = [0.4, 0.6, 0.8]\n",
        "\n",
        "# optimized AUC result and corresponding parameters:\n",
        "r_auc, r_para = eval_cv2(X_train, y_train, n_leaves, max_depth, learning_rate, bagging_fraction)\n",
        "print(r_auc, r_para)"
      ],
      "metadata": {
        "colab": {
          "base_uri": "https://localhost:8080/"
        },
        "id": "_EeI0FmRlswe",
        "outputId": "f89a673a-fa14-49c2-9707-35f4f7c05baf"
      },
      "execution_count": null,
      "outputs": [
        {
          "output_type": "stream",
          "name": "stdout",
          "text": [
            "0.7647219445210517 {'n_leaves': 4, 'max_depth': 3, 'learning_rate': 0.1, 'bagging_fraction': 0.8}\n"
          ]
        }
      ]
    },
    {
      "cell_type": "markdown",
      "source": [
        "Now we can use the tuned parameters to train the training dataset and make predictions on the testing dataset. "
      ],
      "metadata": {
        "id": "PY3pogCxdNy9"
      }
    },
    {
      "cell_type": "code",
      "source": [
        "parameters = {'objective': 'binary',\n",
        "              'metric': 'auc',\n",
        "              'is_unbalance': 'true',\n",
        "              'num_leaves': r_para['n_leaves'],\n",
        "              'max_depth': r_para['max_depth'],\n",
        "              'feature_fraction': 0.8,\n",
        "              'bagging_fraction': r_para['bagging_fraction'], \n",
        "              'bagging_freq': 20,\n",
        "              'learning_rate': r_para['learning_rate'],\n",
        "              'verbose': 5}\n",
        "\n",
        "train_data = lgb.Dataset(X_train, label=y_train)\n",
        "\n",
        "model_lgb = lgb.train(parameters, \n",
        "                      train_data,\n",
        "                      num_boost_round = 500)"
      ],
      "metadata": {
        "id": "bsaP7L71xZ9d"
      },
      "execution_count": null,
      "outputs": []
    },
    {
      "cell_type": "markdown",
      "source": [
        "#### 5.2 Evaluating the LightGBM model"
      ],
      "metadata": {
        "id": "PDoMft0Vg3vi"
      }
    },
    {
      "cell_type": "markdown",
      "source": [
        "Make predictions and calculate AUC score:"
      ],
      "metadata": {
        "id": "sVIkiHWBeVP1"
      }
    },
    {
      "cell_type": "code",
      "source": [
        "y_train_pred = model_lgb.predict(X_train)\n",
        "y_test_pred = model_lgb.predict(X_test)\n",
        "print(\"AUC Train: {:.4f}\\nAUC Test: {:.4f}\".format(roc_auc_score(y_train, y_train_pred),\n",
        "                                                   roc_auc_score(y_test, y_test_pred)))"
      ],
      "metadata": {
        "colab": {
          "base_uri": "https://localhost:8080/"
        },
        "id": "90KwaNnExR8G",
        "outputId": "5ae1b36b-1f53-4b83-c794-23b7f3a54f32"
      },
      "execution_count": null,
      "outputs": [
        {
          "output_type": "stream",
          "name": "stdout",
          "text": [
            "AUC Train: 0.9496\n",
            "AUC Test: 0.7328\n"
          ]
        }
      ]
    },
    {
      "cell_type": "code",
      "source": [
        "fpr, tpr, threshold = roc_curve(y_test, y_test_pred)\n",
        "roc_auc = auc(fpr, tpr)\n",
        "\n",
        "plt.title('Receiver Operating Characteristic')\n",
        "plt.plot(fpr, tpr, 'b', label = 'AUC = %0.4f' % roc_auc)\n",
        "plt.legend(loc = 'lower right')\n",
        "plt.plot([0, 1], [0, 1],'r--')\n",
        "plt.xlim([0, 1])\n",
        "plt.ylim([0, 1])\n",
        "plt.ylabel('True Positive Rate')\n",
        "plt.xlabel('False Positive Rate')\n",
        "plt.show()"
      ],
      "metadata": {
        "colab": {
          "base_uri": "https://localhost:8080/",
          "height": 295
        },
        "id": "HxwqnpqinUlh",
        "outputId": "b3ee8bdb-b5e0-44c7-be15-4a2572f23b94"
      },
      "execution_count": null,
      "outputs": [
        {
          "output_type": "display_data",
          "data": {
            "text/plain": [
              "<Figure size 432x288 with 1 Axes>"
            ],
            "image/png": "[encoded data removed]"
          },
          "metadata": {
            "needs_background": "light"
          }
        }
      ]
    },
    {
      "cell_type": "markdown",
      "source": [
        "Calculate accuracy, F-score (set beta=0.5 to weigh precision higher), precision and recall on testing set:"
      ],
      "metadata": {
        "id": "gTaOU8ifg8Jg"
      }
    },
    {
      "cell_type": "code",
      "source": [
        "# convert into binary values:\n",
        "for i in range(len(y_test_pred)):\n",
        "  if y_test_pred[i] > 0.95:\n",
        "    y_test_pred[i] = 1\n",
        "  else:\n",
        "    y_test_pred[i] = 0\n",
        "  \n",
        "print(\"Accuracy score on testing data: {:.4f}\".format(accuracy_score(y_test, y_test_pred)))\n",
        "print(\"F-score on testing data: {:.4f} (beta=1)\".format(fbeta_score(y_test, y_test_pred, beta = 1)))\n",
        "print(\"Precision on testing data: {:.4f}\".format(precision_score(y_test, y_test_pred)))\n",
        "print(\"Recall on testing data: {:.4f}\".format(recall_score(y_test, y_test_pred)))"
      ],
      "metadata": {
        "colab": {
          "base_uri": "https://localhost:8080/"
        },
        "id": "2-AkuYINhBqv",
        "outputId": "e3fb4a8c-5743-46a9-a8c4-1638e122af35"
      },
      "execution_count": null,
      "outputs": [
        {
          "output_type": "stream",
          "name": "stdout",
          "text": [
            "Accuracy score on testing data: 0.7200\n",
            "F-score on testing data: 0.0667 (beta=1)\n",
            "Precision on testing data: 1.0000\n",
            "Recall on testing data: 0.0345\n"
          ]
        }
      ]
    },
    {
      "cell_type": "markdown",
      "source": [
        "Create confusion matrix:"
      ],
      "metadata": {
        "id": "supbsnmLebn4"
      }
    },
    {
      "cell_type": "code",
      "source": [
        "# Create confusion matrix\n",
        "cm = confusion_matrix(y_test, y_test_pred)\n",
        "\n",
        "# Plot confusion matrix as a heat map\n",
        "# https://scikit-learn.org/stable/modules/generated/sklearn.metrics.confusion_matrix.html\n",
        "# In binary classification, the count of true negatives is C_00, false negatives is C_10, true positives is C_11 and false positives is C_01.\n",
        "cm_matrix = pd.DataFrame(data=[[cm[1,1],cm[0,1]], [cm[1,0],cm[0,0]]], columns=['Actual Positive:1', 'Actual Negative:0'], \n",
        "                                 index=['Predict Positive:1', 'Predict Negative:0'])\n",
        "\n",
        "sns.heatmap(cm_matrix, annot=True, fmt='d', cmap='YlGnBu', annot_kws={\"fontsize\":20})"
      ],
      "metadata": {
        "colab": {
          "base_uri": "https://localhost:8080/",
          "height": 284
        },
        "id": "uEaLi4yRzC8m",
        "outputId": "af4ed9f1-351b-487c-f2ac-bc48698d1655"
      },
      "execution_count": null,
      "outputs": [
        {
          "output_type": "execute_result",
          "data": {
            "text/plain": [
              "<matplotlib.axes._subplots.AxesSubplot at 0x7f5e7528b810>"
            ]
          },
          "metadata": {},
          "execution_count": 56
        },
        {
          "output_type": "display_data",
          "data": {
            "text/plain": [
              "<Figure size 432x288 with 2 Axes>"
            ],
            "image/png": "[encoded data removed]"
          },
          "metadata": {
            "needs_background": "light"
          }
        }
      ]
    },
    {
      "cell_type": "markdown",
      "source": [
        "After a simple \"one-hot\" encoding, the LightGBM model still performed badly: it only caught 2 out of 58 positive records in the testing set. LightGMB is prone to overfit small dataset. "
      ],
      "metadata": {
        "id": "nNXpJfvqMRZr"
      }
    },
    {
      "cell_type": "markdown",
      "source": [
        "#### 5.3 Building and Evaluating other common supervised ML models"
      ],
      "metadata": {
        "id": "sUoM4zQoG86Q"
      }
    },
    {
      "cell_type": "markdown",
      "source": [
        "First, define a few \"utilities\" functions:"
      ],
      "metadata": {
        "id": "cfXAoCs_ojZU"
      }
    },
    {
      "cell_type": "code",
      "source": [
        "def grid_search(model, parameters, X_train, y_train):\n",
        "  \"\"\"\n",
        "    Incorporate grid search to the model to find the best set of hypoparameters\n",
        "    \n",
        "    inputs:\n",
        "      - model: model used in the grid search\n",
        "      - X_train: features for training\n",
        "      - y_train: labels for training\n",
        "      - parameters: parameters for booster\n",
        "  \"\"\"\n",
        "\n",
        "  grid = GridSearchCV(estimator=model,\n",
        "                       param_grid = parameters,\n",
        "                       cv = 2, verbose=0, scoring='f1')\n",
        "  # set verbose = 0 to avoid long print of the result; if we want to see all details, just set it to 2\n",
        "  # scoring methods: https://scikit-learn.org/stable/modules/model_evaluation.html#scoring-parameter\n",
        "\n",
        "\n",
        "  #Fitting the grid \n",
        "  grid.fit(X_train,y_train)\n",
        "\n",
        "  # Best model found using grid search\n",
        "  optimal_model = grid.best_estimator_\n",
        "  print('Best parameters are: \\n', grid.best_params_)\n",
        "\n",
        "  return optimal_model"
      ],
      "metadata": {
        "id": "IrwIP7Mdog8U"
      },
      "execution_count": null,
      "outputs": []
    },
    {
      "cell_type": "code",
      "source": [
        "def check_scores(model, X_train, X_test):\n",
        "  # Making predictions on train and test data\n",
        "  \"\"\"\n",
        "    Make predictions on train and test dataset\n",
        "    \n",
        "    inputs:\n",
        "      - X_train: features for training\n",
        "      - y_train: labels for training\n",
        "    Lists of parameters to be tuned:\n",
        "      - n_leaves: max number of leaves in one tree\n",
        "      - max_depth: limit the max depth for tree model. This is used to deal with over-fitting when #data is small. Tree still grows leaf-wise\n",
        "      - learning_rate: shrinkage rate\n",
        "      - bagging_fraction: randomly select a subset of features on each iteration (tree) w/o resampling\n",
        "  y_train_pred = model.predict(X_train)\n",
        "  y_test_pred = model.predict(X_test)\n",
        "  \"\"\"\n",
        "\n",
        "  train_class_preds = model.predict(X_train)\n",
        "  test_class_preds = model.predict(X_test)\n",
        "\n",
        "  # Get the probabilities on train and test\n",
        "  train_preds = model.predict_proba(X_train)[:,1]\n",
        "  test_preds = model.predict_proba(X_test)[:,1]\n",
        "  \n",
        "  # Calculating accuracy on train and test\n",
        "  train_accuracy = accuracy_score(y_train,train_class_preds)\n",
        "  test_accuracy = accuracy_score(y_test,test_class_preds)\n",
        "\n",
        "  print(\"The accuracy on train dataset is\", train_accuracy)\n",
        "  print(\"The accuracy on test dataset is\", test_accuracy)\n",
        "  \n",
        "  # Get the confusion matrices for train and test\n",
        "  train_cm = confusion_matrix(y_train,train_class_preds)\n",
        "  test_cm = confusion_matrix(y_test,test_class_preds )\n",
        "\n",
        "  print('\\nTrain confusion matrix:')\n",
        "  print( train_cm)\n",
        "  print('\\nTest confusion matrix:')\n",
        "  print(test_cm)\n",
        "\n",
        "  # Get the roc_auc score for train and test dataset\n",
        "  train_auc = roc_auc_score(y_train,train_preds)\n",
        "  test_auc = roc_auc_score(y_test,test_preds)\n",
        "\n",
        "  print('\\nAUC on train data:', train_auc)\n",
        "  print('AUC on test data:', test_auc)\n",
        "  \n",
        "  # Fscore, precision and recall on test data\n",
        "  f1 = fbeta_score(y_test, test_class_preds, beta=1)\n",
        "  precision = precision_score(y_test, test_class_preds)\n",
        "  recall = recall_score(y_test, test_class_preds) \n",
        "  \n",
        "  \n",
        "  #R2 score on train and test data\n",
        "  train_log = log_loss(y_train,train_preds)\n",
        "  test_log = log_loss(y_test, test_preds)\n",
        "\n",
        "  print('\\nTrain log loss:', train_log)\n",
        "  print('Test log loss:', test_log)\n",
        "  print(\"\\nF score is:\",f1 )\n",
        "  print(\"Precision is:\",precision)\n",
        "  print(\"Recall is:\", recall)\n",
        "  return model, train_auc, test_auc, train_accuracy, test_accuracy,f1, precision,recall, train_log, test_log"
      ],
      "metadata": {
        "id": "gzXpEzrAvSIj"
      },
      "execution_count": null,
      "outputs": []
    },
    {
      "cell_type": "code",
      "source": [
        "def check_importance(model, X_train):\n",
        "  \"\"\"\n",
        "    Check importance of features in prediction\n",
        "    \n",
        "    inputs:\n",
        "      - X_train: features for training\n",
        "      - y_train: labels for training\n",
        "    Lists of parameters to be tuned:\n",
        "      - n_leaves: max number of leaves in one tree\n",
        "      - max_depth: limit the max depth for tree model. This is used to deal with over-fitting when #data is small. Tree still grows leaf-wise\n",
        "      - learning_rate: shrinkage rate\n",
        "      - bagging_fraction: randomly select a subset of features on each iteration (tree) w/o resampling\n",
        "  \"\"\"\n",
        "\n",
        "\n",
        "  importances = model.feature_importances_\n",
        "  \n",
        "  #List of columns and their importances\n",
        "  importance_dict = {'Feature' : list(X_train.columns),\n",
        "                    'Feature Importance' : importances}\n",
        "  #Creating a dataframe\n",
        "  importance_df = pd.DataFrame(importance_dict)\n",
        "  \n",
        "  #Rounding it off to 2 digits as we might get exponential numbers\n",
        "  importance_df['Feature Importance'] = round(importance_df['Feature Importance'],2)\n",
        "  return importance_df.sort_values(by=['Feature Importance'],ascending=False)\n",
        "\n",
        "# This gives feature importance\n",
        "def plot_feature_importance(model, X_train):\n",
        "  # PLotting features vs their importance factors\n",
        "  fig = plt.figure(figsize = (15, 8))\n",
        "  \n",
        "  # Extracting importance values\n",
        "  values =check_importance(model, X_train)[check_importance(model, X_train)['Feature Importance']>0]['Feature Importance'].values\n",
        "  \n",
        "  \n",
        "  # Extracting importance features\n",
        "  features = check_importance(model, X_train)[check_importance(model, X_train)['Feature Importance']>0]['Feature'].values\n",
        "\n",
        "  plt.bar(features, values, color ='blue',\n",
        "          width = 0.4)\n",
        "  plt.xticks( rotation='vertical')\n",
        "  plt.show()"
      ],
      "metadata": {
        "id": "zb2QKamLnfX-"
      },
      "execution_count": null,
      "outputs": []
    },
    {
      "cell_type": "markdown",
      "source": [
        "##### 5.3.1 Logistic Regression:"
      ],
      "metadata": {
        "id": "wG6KSdkXhCwy"
      }
    },
    {
      "cell_type": "code",
      "source": [
        "# Parameter grid for Logistic Regression\n",
        "solvers = ['lbfgs']\n",
        "penalty = ['l2']\n",
        "c_values = [200, 100, 10, 1.0, 0.1]\n",
        "lr_parameters = dict(solver=solvers,penalty=penalty,C=c_values)# define grid search\n",
        "\n",
        "#finding the best model\n",
        "lr_optimal_model = grid_search(LogisticRegression(max_iter=5000), lr_parameters, X_train, y_train)"
      ],
      "metadata": {
        "colab": {
          "base_uri": "https://localhost:8080/"
        },
        "id": "1YPIa5VrYN1F",
        "outputId": "aecfdc8a-4b44-4364-f7ea-036f0f5823b4"
      },
      "execution_count": null,
      "outputs": [
        {
          "output_type": "stream",
          "name": "stdout",
          "text": [
            "Best parameters are: \n",
            " {'C': 200, 'penalty': 'l2', 'solver': 'lbfgs'}\n"
          ]
        }
      ]
    },
    {
      "cell_type": "code",
      "source": [
        "lr_model, lr_train_auc, lr_test_auc, lr_train_accuracy, lr_test_accuracy,lr_f1, lr_precision, lr_recall,lr_train_log, lr_test_log = check_scores(lr_optimal_model, X_train, X_test )"
      ],
      "metadata": {
        "colab": {
          "base_uri": "https://localhost:8080/"
        },
        "id": "AH4s5v0qYN9T",
        "outputId": "9d6000fa-cacd-45d9-a718-24d07ae0b999"
      },
      "execution_count": null,
      "outputs": [
        {
          "output_type": "stream",
          "name": "stdout",
          "text": [
            "The accuracy on train dataset is 0.75\n",
            "The accuracy on test dataset is 0.71\n",
            "\n",
            "Train confusion matrix:\n",
            "[[501  57]\n",
            " [143  99]]\n",
            "\n",
            "Test confusion matrix:\n",
            "[[118  24]\n",
            " [ 34  24]]\n",
            "\n",
            "AUC on train data: 0.7784812938771883\n",
            "AUC on test data: 0.7526711996114619\n",
            "\n",
            "AUC on train data (class): 0.6534701857282502\n",
            "AUC on test data: 0.6223895094706168\n",
            "TEST\n",
            "\n",
            "AUC on train data (class): 0.6534701857282502\n",
            "AUC on test data: 0.6223895094706168\n",
            "\n",
            "Train log loss: 8.634751070044572\n",
            "Test log loss: 10.016341106215721\n",
            "\n",
            "F score is: 0.4528301886792453\n",
            "Precision is: 0.5\n",
            "Recall is: 0.41379310344827586\n"
          ]
        }
      ]
    },
    {
      "cell_type": "markdown",
      "source": [
        "##### 5.3.2 Naive Bayes (GaussianNB):"
      ],
      "metadata": {
        "id": "ln2wAIBhtGft"
      }
    },
    {
      "cell_type": "code",
      "source": [
        "# Parameter grid for GaussianNB\n",
        "var_smoothing_lst = [5e-11, 1e-10, 5e-10, 1e-9]\n",
        "gnb_parameters = {'var_smoothing': var_smoothing_lst}\n",
        "print(gnb_parameters)\n",
        "\n",
        "\n",
        "#finding the best model\n",
        "gnb_optimal_model = grid_search(GaussianNB(), gnb_parameters, X_train, y_train)"
      ],
      "metadata": {
        "colab": {
          "base_uri": "https://localhost:8080/"
        },
        "id": "CzSOyRn5tIyt",
        "outputId": "c49ab6dc-3bae-4063-f6b2-8aca6ab3314c"
      },
      "execution_count": null,
      "outputs": [
        {
          "output_type": "stream",
          "name": "stdout",
          "text": [
            "{'var_smoothing': [5e-11, 1e-10, 5e-10, 1e-09]}\n",
            "Best parameters are: \n",
            " {'var_smoothing': 5e-11}\n"
          ]
        }
      ]
    },
    {
      "cell_type": "code",
      "source": [
        "gnb_model, gnb_train_auc, gnb_test_auc, gnb_train_accuracy, gnb_test_accuracy,gnb_f1, gnb_precision, gnb_recall, gnb_train_log, gnb_test_log = check_scores(gnb_optimal_model, X_train, X_test)"
      ],
      "metadata": {
        "colab": {
          "base_uri": "https://localhost:8080/"
        },
        "id": "JWr-3MpIw6s5",
        "outputId": "42266a21-4ac8-4b2f-b822-ca85bd0eb4bb"
      },
      "execution_count": null,
      "outputs": [
        {
          "output_type": "stream",
          "name": "stdout",
          "text": [
            "The accuracy on train dataset is 0.67875\n",
            "The accuracy on test dataset is 0.67\n",
            "\n",
            "Train confusion matrix:\n",
            "[[416 142]\n",
            " [115 127]]\n",
            "\n",
            "Test confusion matrix:\n",
            "[[110  32]\n",
            " [ 34  24]]\n",
            "\n",
            "AUC on train data: 0.6981471607571315\n",
            "AUC on test data: 0.6812773190869353\n",
            "\n",
            "AUC on train data (class): 0.6351565508457004\n",
            "AUC on test data: 0.5942204953861098\n",
            "TEST\n",
            "\n",
            "AUC on train data (class): 0.6351565508457004\n",
            "AUC on test data: 0.5942204953861098\n",
            "\n",
            "Train log loss: 11.095723845408916\n",
            "Test log loss: 11.397924145909355\n",
            "\n",
            "F score is: 0.42105263157894735\n",
            "Precision is: 0.42857142857142855\n",
            "Recall is: 0.41379310344827586\n"
          ]
        }
      ]
    },
    {
      "cell_type": "markdown",
      "source": [
        "##### 5.3.3 knn:"
      ],
      "metadata": {
        "id": "fdfzAv5XyvJA"
      }
    },
    {
      "cell_type": "code",
      "source": [
        "# Parameter grid for knn\n",
        "n_neighbors_lst = [1, 2, 3, 4, 5, 8] \n",
        "weights_lst = ['uniform', 'distance'] \n",
        "knn_parameters = {'n_neighbors': n_neighbors_lst,\n",
        "              'weights': weights_lst}\n",
        "print(knn_parameters)\n",
        "\n",
        "#finding the best model\n",
        "knn_optimal_model = grid_search(KNeighborsClassifier(), knn_parameters, X_train, y_train)"
      ],
      "metadata": {
        "colab": {
          "base_uri": "https://localhost:8080/"
        },
        "id": "kzV0YRBVtObk",
        "outputId": "195d0211-b7e6-475e-c015-ec61bee889c6"
      },
      "execution_count": null,
      "outputs": [
        {
          "output_type": "stream",
          "name": "stdout",
          "text": [
            "{'n_neighbors': [1, 2, 3, 4, 5, 8], 'weights': ['uniform', 'distance']}\n",
            "Best parameters are: \n",
            " {'n_neighbors': 3, 'weights': 'distance'}\n"
          ]
        }
      ]
    },
    {
      "cell_type": "code",
      "source": [
        "knn_model, knn_train_auc, knn_test_auc, knn_train_accuracy, knn_test_accuracy, knn_f1, knn_precision, knn_recall, knn_train_log, knn_test_log = check_scores(knn_optimal_model, X_train, X_test)"
      ],
      "metadata": {
        "colab": {
          "base_uri": "https://localhost:8080/"
        },
        "id": "vEljjZQD0VgX",
        "outputId": "32367635-d0cc-40bb-d8e8-39d3d4c55e6c"
      },
      "execution_count": null,
      "outputs": [
        {
          "output_type": "stream",
          "name": "stdout",
          "text": [
            "The accuracy on train dataset is 1.0\n",
            "The accuracy on test dataset is 0.655\n",
            "\n",
            "Train confusion matrix:\n",
            "[[558   0]\n",
            " [  0 242]]\n",
            "\n",
            "Test confusion matrix:\n",
            "[[110  32]\n",
            " [ 37  21]]\n",
            "\n",
            "AUC on train data: 1.0\n",
            "AUC on test data: 0.6008377853326858\n",
            "\n",
            "AUC on train data (class): 1.0\n",
            "AUC on test data: 0.5683584264205924\n",
            "TEST\n",
            "\n",
            "AUC on train data (class): 1.0\n",
            "AUC on test data: 0.5683584264205924\n",
            "\n",
            "Train log loss: 9.992007221626413e-16\n",
            "Test log loss: 11.916005791833017\n",
            "\n",
            "F score is: 0.37837837837837834\n",
            "Precision is: 0.39622641509433965\n",
            "Recall is: 0.3620689655172414\n"
          ]
        }
      ]
    },
    {
      "cell_type": "markdown",
      "source": [
        "##### 5.3.4 Support Vector Machine (SVM):"
      ],
      "metadata": {
        "id": "_2WRQcgMh3CE"
      }
    },
    {
      "cell_type": "code",
      "source": [
        "# Parameter grid for SVC\n",
        "kernels = ['linear', 'poly', 'rbf'] \n",
        "gammas = ['scale', 'auto', 5]\n",
        "C_values = [0.01, 0.05, 0.1, 1, 10]\n",
        "svc_parameters = {'kernel': kernels,\n",
        "              'gamma': gammas,\n",
        "              'C': C_values}\n",
        "print(svc_parameters)\n",
        "\n",
        "#finding the best model\n",
        "svc_optimal_model = grid_search(SVC(probability=True), svc_parameters, X_train, y_train)"
      ],
      "metadata": {
        "colab": {
          "base_uri": "https://localhost:8080/"
        },
        "id": "LK0X0zcBhwl_",
        "outputId": "21c5d01a-433c-4730-e771-89b8997267f3"
      },
      "execution_count": null,
      "outputs": [
        {
          "output_type": "stream",
          "name": "stdout",
          "text": [
            "{'kernel': ['linear', 'poly', 'rbf'], 'gamma': ['scale', 'auto', 5], 'C': [0.01, 0.05, 0.1, 1, 10]}\n",
            "Best parameters are: \n",
            " {'C': 0.01, 'gamma': 5, 'kernel': 'poly'}\n"
          ]
        }
      ]
    },
    {
      "cell_type": "code",
      "source": [
        "svc_model, svc_train_auc, svc_test_auc, svc_train_accuracy, svc_test_accuracy,svc_f1, svc_precision,svc_recall,svc_train_log, svc_test_log = check_scores(svc_optimal_model, X_train, X_test)"
      ],
      "metadata": {
        "colab": {
          "base_uri": "https://localhost:8080/"
        },
        "id": "Adzue-1DsbcL",
        "outputId": "07861811-c6fc-4b34-9c06-8c44714cddce"
      },
      "execution_count": null,
      "outputs": [
        {
          "output_type": "stream",
          "name": "stdout",
          "text": [
            "The accuracy on train dataset is 0.94\n",
            "The accuracy on test dataset is 0.65\n",
            "\n",
            "Train confusion matrix:\n",
            "[[546  12]\n",
            " [ 36 206]]\n",
            "\n",
            "Test confusion matrix:\n",
            "[[103  39]\n",
            " [ 31  27]]\n",
            "\n",
            "AUC on train data: 0.9665052282354335\n",
            "AUC on test data: 0.622510927634774\n",
            "\n",
            "AUC on train data (class): 0.9148671465387008\n",
            "AUC on test data: 0.5954346770276833\n",
            "TEST\n",
            "\n",
            "AUC on train data (class): 0.9148671465387008\n",
            "AUC on test data: 0.5954346770276833\n",
            "\n",
            "Train log loss: 2.0723385776560947\n",
            "Test log loss: 12.088727659717629\n",
            "\n",
            "F score is: 0.43548387096774194\n",
            "Precision is: 0.4090909090909091\n",
            "Recall is: 0.46551724137931033\n"
          ]
        }
      ]
    },
    {
      "cell_type": "markdown",
      "source": [
        "##### 5.3.5 Random Forest model:"
      ],
      "metadata": {
        "id": "v0eBleiGkvSP"
      }
    },
    {
      "cell_type": "code",
      "source": [
        "# Number of trees\n",
        "n_estimators = [30, 50, 80, 100]\n",
        "\n",
        "# Maximum depth of trees\n",
        "max_depth = [2, 3, 4]\n",
        "\n",
        "# Minimum number of samples required to split a node\n",
        "min_samples_split = [25, 50,100,150]\n",
        "\n",
        "# Minimum number of samples required at each leaf node\n",
        "min_samples_leaf = [30, 40, 50]\n",
        "\n",
        "# Hyperparameter Grid\n",
        "rf_parameters = {'n_estimators' : n_estimators,\n",
        "              'max_depth' : max_depth,\n",
        "              'min_samples_split' : min_samples_split,\n",
        "              'min_samples_leaf' : min_samples_leaf}\n",
        "\n",
        "print(rf_parameters)\n",
        "\n",
        "#finding the best model\n",
        "rf_optimal_model = grid_search(RandomForestClassifier(), rf_parameters, X_train, y_train)"
      ],
      "metadata": {
        "colab": {
          "base_uri": "https://localhost:8080/"
        },
        "id": "vPgiUhrxvSB4",
        "outputId": "3f3329e1-adf8-439d-eb13-eeb7803a5937"
      },
      "execution_count": null,
      "outputs": [
        {
          "output_type": "stream",
          "name": "stdout",
          "text": [
            "{'n_estimators': [30, 50, 80, 100], 'max_depth': [2, 3, 4], 'min_samples_split': [25, 50, 100, 150], 'min_samples_leaf': [30, 40, 50]}\n",
            "Best parameters are: \n",
            " {'max_depth': 4, 'min_samples_leaf': 30, 'min_samples_split': 25, 'n_estimators': 30}\n"
          ]
        }
      ]
    },
    {
      "cell_type": "code",
      "source": [
        "rf_model, rf_train_auc, rf_test_auc, rf_train_accuracy, rf_test_accuracy,rf_f1, rf_precision,rf_recall,rf_train_log, rf_test_log = check_scores(rf_optimal_model, X_train, X_test)"
      ],
      "metadata": {
        "colab": {
          "base_uri": "https://localhost:8080/"
        },
        "id": "dynih-6WvR7S",
        "outputId": "3e995c37-d50d-404d-8e8c-0cb9626c5649"
      },
      "execution_count": null,
      "outputs": [
        {
          "output_type": "stream",
          "name": "stdout",
          "text": [
            "The accuracy on train dataset is 0.7175\n",
            "The accuracy on test dataset is 0.725\n",
            "\n",
            "Train confusion matrix:\n",
            "[[556   2]\n",
            " [224  18]]\n",
            "\n",
            "Test confusion matrix:\n",
            "[[142   0]\n",
            " [ 55   3]]\n",
            "\n",
            "AUC on train data: 0.783357771260997\n",
            "AUC on test data: 0.7234094220495386\n",
            "\n",
            "AUC on train data (class): 0.5353979679492875\n",
            "AUC on test data: 0.5258620689655172\n",
            "TEST\n",
            "\n",
            "AUC on train data (class): 0.5353979679492875\n",
            "AUC on test data: 0.5258620689655172\n",
            "\n",
            "Train log loss: 9.757206330555844\n",
            "Test log loss: 9.498163508600438\n",
            "\n",
            "F score is: 0.09836065573770492\n",
            "Precision is: 1.0\n",
            "Recall is: 0.05172413793103448\n"
          ]
        }
      ]
    },
    {
      "cell_type": "markdown",
      "source": [
        "##### 5.3.6 Adaboost:"
      ],
      "metadata": {
        "id": "Nk6BP3AG8RXT"
      }
    },
    {
      "cell_type": "code",
      "source": [
        "adb_parameters ={\n",
        "    \"n_estimators\":[50,100,200,250],\n",
        "    \"learning_rate\":[0.1,0.2,0.5,1]\n",
        "}\n",
        "\n",
        "print(adb_parameters)\n",
        "\n",
        "adb_optimal_model = grid_search(AdaBoostClassifier(), adb_parameters, X_train, y_train)"
      ],
      "metadata": {
        "colab": {
          "base_uri": "https://localhost:8080/"
        },
        "id": "5wIrj4gN5P9o",
        "outputId": "23310a6e-3abe-4922-af96-993dd41223bd"
      },
      "execution_count": null,
      "outputs": [
        {
          "output_type": "stream",
          "name": "stdout",
          "text": [
            "{'n_estimators': [50, 100, 200, 250], 'learning_rate': [0.1, 0.2, 0.5, 1]}\n",
            "Best parameters are: \n",
            " {'learning_rate': 0.2, 'n_estimators': 250}\n"
          ]
        }
      ]
    },
    {
      "cell_type": "code",
      "source": [
        "adb_model, adb_train_auc, adb_test_auc, adb_train_accuracy, adb_test_accuracy, adb_f1, adb_precision, adb_recall, adb_train_log, adb_test_log = check_scores(adb_optimal_model, X_train, X_test)"
      ],
      "metadata": {
        "colab": {
          "base_uri": "https://localhost:8080/"
        },
        "id": "7skT7qUN7PrE",
        "outputId": "09c03dc2-56e1-4490-91f4-92778cd10cb7"
      },
      "execution_count": null,
      "outputs": [
        {
          "output_type": "stream",
          "name": "stdout",
          "text": [
            "The accuracy on train dataset is 0.785\n",
            "The accuracy on test dataset is 0.75\n",
            "\n",
            "Train confusion matrix:\n",
            "[[513  45]\n",
            " [127 115]]\n",
            "\n",
            "Test confusion matrix:\n",
            "[[127  15]\n",
            " [ 35  23]]\n",
            "\n",
            "AUC on train data: 0.827516366006102\n",
            "AUC on test data: 0.749453618261292\n",
            "\n",
            "AUC on train data (class): 0.6972807251399626\n",
            "AUC on test data: 0.6454589606605149\n",
            "TEST\n",
            "\n",
            "AUC on train data (class): 0.6972807251399626\n",
            "AUC on test data: 0.6454589606605149\n",
            "\n",
            "Train log loss: 7.425881902261244\n",
            "Test log loss: 8.634754068534935\n",
            "\n",
            "F score is: 0.47916666666666674\n",
            "Precision is: 0.6052631578947368\n",
            "Recall is: 0.39655172413793105\n"
          ]
        }
      ]
    },
    {
      "cell_type": "markdown",
      "source": [
        "##### 5.3.7 Gradient boost:"
      ],
      "metadata": {
        "id": "ucrsrZNOg3V6"
      }
    },
    {
      "cell_type": "code",
      "source": [
        "gb_parameters ={\n",
        "    \"n_estimators\":[5,50,100,250],\n",
        "    \"max_depth\":[3,5,7,9],\n",
        "    \"min_samples_split\": [2,3,4],\n",
        "    \"min_samples_leaf\": [2,3,4],\n",
        "    \"learning_rate\":[0.01,0.1,0.5]\n",
        "}\n",
        "\n",
        "print(gb_parameters)\n",
        "\n",
        "gb_optimal_model = grid_search(GradientBoostingClassifier(), gb_parameters, X_train, y_train)"
      ],
      "metadata": {
        "colab": {
          "base_uri": "https://localhost:8080/"
        },
        "id": "sDkDHVUo7FS_",
        "outputId": "47128d06-bf74-400f-dea1-18efffca589d"
      },
      "execution_count": null,
      "outputs": [
        {
          "output_type": "stream",
          "name": "stdout",
          "text": [
            "{'n_estimators': [5, 50, 100, 250], 'max_depth': [3, 5, 7, 9], 'min_samples_split': [2, 3, 4], 'min_samples_leaf': [2, 3, 4], 'learning_rate': [0.01, 0.1, 0.5]}\n",
            "Best parameters are: \n",
            " {'learning_rate': 0.1, 'max_depth': 9, 'min_samples_leaf': 4, 'min_samples_split': 4, 'n_estimators': 50}\n"
          ]
        }
      ]
    },
    {
      "cell_type": "code",
      "source": [
        "gb_model, gb_train_auc, gb_test_auc, gb_train_accuracy, gb_test_accuracy,gb_f1, gb_precision,gb_recall,gb_train_log, gb_test_log = check_scores(gb_optimal_model, X_train, X_test )"
      ],
      "metadata": {
        "colab": {
          "base_uri": "https://localhost:8080/"
        },
        "id": "EvMz-Pfg7FgF",
        "outputId": "4743e143-433f-4e3f-f1ee-dfe26578c850"
      },
      "execution_count": null,
      "outputs": [
        {
          "output_type": "stream",
          "name": "stdout",
          "text": [
            "The accuracy on train dataset is 0.99875\n",
            "The accuracy on test dataset is 0.72\n",
            "\n",
            "Train confusion matrix:\n",
            "[[558   0]\n",
            " [  1 241]]\n",
            "\n",
            "Test confusion matrix:\n",
            "[[118  24]\n",
            " [ 32  26]]\n",
            "\n",
            "AUC on train data: 1.0\n",
            "AUC on test data: 0.6952404079650316\n",
            "\n",
            "AUC on train data (class): 0.9979338842975207\n",
            "AUC on test data: 0.6396308887809616\n",
            "TEST\n",
            "\n",
            "AUC on train data (class): 0.9979338842975207\n",
            "AUC on test data: 0.6396308887809616\n",
            "\n",
            "Train log loss: 0.04317347049363935\n",
            "Test log loss: 9.670953342266616\n",
            "\n",
            "F score is: 0.48148148148148145\n",
            "Precision is: 0.52\n",
            "Recall is: 0.4482758620689655\n"
          ]
        }
      ]
    },
    {
      "cell_type": "markdown",
      "source": [
        "##### 5.3.8 XGBoost:"
      ],
      "metadata": {
        "id": "9HNVLIRvjYuN"
      }
    },
    {
      "cell_type": "code",
      "source": [
        "# Parameter grid for xgboost\n",
        "xgb_parameters ={\n",
        "    \"n_estimators\":[5,10,50,100],\n",
        "    \"max_depth\":[3,5,7],\n",
        "    \"min_samples_split\": [2,3,4],\n",
        "    \"min_samples_leaf\": [2,3,4],\n",
        "    \"learning_rate\":[0.01,0.1,0.5,1]\n",
        "}\n",
        "\n",
        "print(xgb_parameters)\n",
        "#finding the best model\n",
        "xgb_optimal_model = grid_search(XGBClassifier(), xgb_parameters, X_train, y_train)"
      ],
      "metadata": {
        "colab": {
          "base_uri": "https://localhost:8080/"
        },
        "id": "7hEmcy9fcJx-",
        "outputId": "d1abe183-9014-4fad-c28c-34a58ad55b65"
      },
      "execution_count": null,
      "outputs": [
        {
          "output_type": "stream",
          "name": "stdout",
          "text": [
            "{'n_estimators': [5, 10, 50, 100], 'max_depth': [3, 5, 7], 'min_samples_split': [2, 3, 4], 'min_samples_leaf': [2, 3, 4], 'learning_rate': [0.01, 0.1, 0.5, 1]}\n",
            "Best parameters are: \n",
            " {'learning_rate': 0.5, 'max_depth': 7, 'min_samples_leaf': 2, 'min_samples_split': 2, 'n_estimators': 10}\n"
          ]
        }
      ]
    },
    {
      "cell_type": "code",
      "source": [
        "xgb_model, xgb_train_auc, xgb_test_auc, xgb_train_accuracy, xgb_test_accuracy,xgb_f1, xgb_precision,xgb_recall,xgb_train_log, xgb_test_log= check_scores(xgb_optimal_model, X_train, X_test )"
      ],
      "metadata": {
        "colab": {
          "base_uri": "https://localhost:8080/"
        },
        "id": "X8tk1Et4cJsV",
        "outputId": "20361105-d394-415a-c435-2993fabbe0a7"
      },
      "execution_count": null,
      "outputs": [
        {
          "output_type": "stream",
          "name": "stdout",
          "text": [
            "The accuracy on train dataset is 0.955\n",
            "The accuracy on test dataset is 0.76\n",
            "\n",
            "Train confusion matrix:\n",
            "[[552   6]\n",
            " [ 30 212]]\n",
            "\n",
            "Test confusion matrix:\n",
            "[[122  20]\n",
            " [ 28  30]]\n",
            "\n",
            "AUC on train data: 0.9910542373885481\n",
            "AUC on test data: 0.7266877124817873\n",
            "\n",
            "AUC on train data (class): 0.9326401848395983\n",
            "AUC on test data: 0.6881981544439048\n",
            "TEST\n",
            "\n",
            "AUC on train data (class): 0.9326401848395983\n",
            "AUC on test data: 0.6881981544439048\n",
            "\n",
            "Train log loss: nan\n",
            "Test log loss: nan\n",
            "\n",
            "F score is: 0.5555555555555556\n",
            "Precision is: 0.6\n",
            "Recall is: 0.5172413793103449\n"
          ]
        },
        {
          "output_type": "stream",
          "name": "stderr",
          "text": [
            "/usr/local/lib/python3.7/dist-packages/sklearn/metrics/_classification.py:2442: RuntimeWarning: divide by zero encountered in log\n",
            "  loss = -(transformed_labels * np.log(y_pred)).sum(axis=1)\n",
            "/usr/local/lib/python3.7/dist-packages/sklearn/metrics/_classification.py:2442: RuntimeWarning: invalid value encountered in multiply\n",
            "  loss = -(transformed_labels * np.log(y_pred)).sum(axis=1)\n",
            "/usr/local/lib/python3.7/dist-packages/sklearn/metrics/_classification.py:2442: RuntimeWarning: divide by zero encountered in log\n",
            "  loss = -(transformed_labels * np.log(y_pred)).sum(axis=1)\n",
            "/usr/local/lib/python3.7/dist-packages/sklearn/metrics/_classification.py:2442: RuntimeWarning: invalid value encountered in multiply\n",
            "  loss = -(transformed_labels * np.log(y_pred)).sum(axis=1)\n"
          ]
        }
      ]
    },
    {
      "cell_type": "markdown",
      "source": [
        "Create a dataframe to show all metric scores for every model built:"
      ],
      "metadata": {
        "id": "LT4mPzGehKqv"
      }
    },
    {
      "cell_type": "code",
      "source": [
        "scores_ = [(\"Logistic Regression\", lr_train_auc, lr_test_auc, lr_train_accuracy, lr_test_accuracy,lr_train_log, lr_test_log,lr_f1, lr_precision, lr_recall,),\n",
        "           (\"Gaussian Naive Bayes\", gnb_train_auc, gnb_test_auc, gnb_train_accuracy, gnb_test_accuracy,gnb_train_log, gnb_test_log, gnb_f1, gnb_precision, gnb_recall),\n",
        "           (\"knn\", knn_train_auc, knn_test_auc, knn_train_accuracy, knn_test_accuracy,knn_train_log, knn_test_log,knn_f1, knn_precision, knn_recall),\n",
        "           (\"SVC\", svc_train_auc, svc_test_auc, svc_train_accuracy, svc_test_accuracy,svc_train_log, svc_test_log,svc_f1, svc_precision, svc_recall),\n",
        "           (\"Random Forest\", rf_train_auc, rf_test_auc, rf_train_accuracy, rf_test_accuracy,rf_train_log, rf_test_log,rf_f1, rf_precision, rf_recall),\n",
        "           (\"AdaBoost\",  adb_train_auc, adb_test_auc, adb_train_accuracy, adb_test_accuracy, adb_train_log, adb_test_log, adb_f1, adb_precision, adb_recall),\n",
        "           (\"Gradient Boosting\",  gb_train_auc, gb_test_auc, gb_train_accuracy, gb_test_accuracy,gb_train_log, gb_test_log,gb_f1, gb_precision,gb_recall),\n",
        "           (\"XG Boost\", xgb_train_auc, xgb_test_auc, xgb_train_accuracy, xgb_test_accuracy,xgb_train_log, xgb_test_log,xgb_f1, xgb_precision, xgb_recall)]\n",
        "\n",
        "\n",
        "Scores_ =pd.DataFrame(data = scores_, columns=['Model Name', 'Train ROC', 'Test ROC', 'Train Accuracy', 'Test Accuracy', 'Train Log Loss','Test Log Loss','F-Score', 'Precision','Recall',])\n",
        "Scores_.set_index('Model Name', inplace = True)\n",
        "\n"
      ],
      "metadata": {
        "id": "_hXwP2OBS_ed"
      },
      "execution_count": null,
      "outputs": []
    },
    {
      "cell_type": "code",
      "source": [
        "Scores_"
      ],
      "metadata": {
        "colab": {
          "base_uri": "https://localhost:8080/",
          "height": 375
        },
        "id": "4tGYQYj5beVh",
        "outputId": "c544f5ca-ca20-44b0-9782-013cbbe1e066"
      },
      "execution_count": null,
      "outputs": [
        {
          "output_type": "execute_result",
          "data": {
            "text/plain": [
              "                      Train ROC  Test ROC  Train Accuracy  Test Accuracy  \\\n",
              "Model Name                                                                 \n",
              "Logistic Regression    0.778481  0.752671         0.75000          0.710   \n",
              "Gaussian Naive Bayes   0.698147  0.681277         0.67875          0.670   \n",
              "knn                    1.000000  0.600838         1.00000          0.655   \n",
              "SVC                    0.966505  0.622511         0.94000          0.650   \n",
              "Random Forest          0.783358  0.723409         0.71750          0.725   \n",
              "AdaBoost               0.827516  0.749454         0.78500          0.750   \n",
              "Gradient Boosting      1.000000  0.695240         0.99875          0.720   \n",
              "XG Boost               0.991054  0.726688         0.95500          0.760   \n",
              "\n",
              "                      Train Log Loss  Test Log Loss   F-Score  Precision  \\\n",
              "Model Name                                                                 \n",
              "Logistic Regression     8.634751e+00      10.016341  0.452830   0.500000   \n",
              "Gaussian Naive Bayes    1.109572e+01      11.397924  0.421053   0.428571   \n",
              "knn                     9.992007e-16      11.916006  0.378378   0.396226   \n",
              "SVC                     2.072339e+00      12.088728  0.435484   0.409091   \n",
              "Random Forest           9.757206e+00       9.498164  0.098361   1.000000   \n",
              "AdaBoost                7.425882e+00       8.634754  0.479167   0.605263   \n",
              "Gradient Boosting       4.317347e-02       9.670953  0.481481   0.520000   \n",
              "XG Boost                         NaN            NaN  0.555556   0.600000   \n",
              "\n",
              "                        Recall  \n",
              "Model Name                      \n",
              "Logistic Regression   0.413793  \n",
              "Gaussian Naive Bayes  0.413793  \n",
              "knn                   0.362069  \n",
              "SVC                   0.465517  \n",
              "Random Forest         0.051724  \n",
              "AdaBoost              0.396552  \n",
              "Gradient Boosting     0.448276  \n",
              "XG Boost              0.517241  "
            ],
            "text/html": [
              "\n",
              "  <div id=\"df-60acb507-a094-4c10-b61a-53c665760c07\">\n",
              "    <div class=\"colab-df-container\">\n",
              "      <div>\n",
              "<style scoped>\n",
              "    .dataframe tbody tr th:only-of-type {\n",
              "        vertical-align: middle;\n",
              "    }\n",
              "\n",
              "    .dataframe tbody tr th {\n",
              "        vertical-align: top;\n",
              "    }\n",
              "\n",
              "    .dataframe thead th {\n",
              "        text-align: right;\n",
              "    }\n",
              "</style>\n",
              "<table border=\"1\" class=\"dataframe\">\n",
              "  <thead>\n",
              "    <tr style=\"text-align: right;\">\n",
              "      <th></th>\n",
              "      <th>Train ROC</th>\n",
              "      <th>Test ROC</th>\n",
              "      <th>Train Accuracy</th>\n",
              "      <th>Test Accuracy</th>\n",
              "      <th>Train Log Loss</th>\n",
              "      <th>Test Log Loss</th>\n",
              "      <th>F-Score</th>\n",
              "      <th>Precision</th>\n",
              "      <th>Recall</th>\n",
              "    </tr>\n",
              "    <tr>\n",
              "      <th>Model Name</th>\n",
              "      <th></th>\n",
              "      <th></th>\n",
              "      <th></th>\n",
              "      <th></th>\n",
              "      <th></th>\n",
              "      <th></th>\n",
              "      <th></th>\n",
              "      <th></th>\n",
              "      <th></th>\n",
              "    </tr>\n",
              "  </thead>\n",
              "  <tbody>\n",
              "    <tr>\n",
              "      <th>Logistic Regression</th>\n",
              "      <td>0.778481</td>\n",
              "      <td>0.752671</td>\n",
              "      <td>0.75000</td>\n",
              "      <td>0.710</td>\n",
              "      <td>8.634751e+00</td>\n",
              "      <td>10.016341</td>\n",
              "      <td>0.452830</td>\n",
              "      <td>0.500000</td>\n",
              "      <td>0.413793</td>\n",
              "    </tr>\n",
              "    <tr>\n",
              "      <th>Gaussian Naive Bayes</th>\n",
              "      <td>0.698147</td>\n",
              "      <td>0.681277</td>\n",
              "      <td>0.67875</td>\n",
              "      <td>0.670</td>\n",
              "      <td>1.109572e+01</td>\n",
              "      <td>11.397924</td>\n",
              "      <td>0.421053</td>\n",
              "      <td>0.428571</td>\n",
              "      <td>0.413793</td>\n",
              "    </tr>\n",
              "    <tr>\n",
              "      <th>knn</th>\n",
              "      <td>1.000000</td>\n",
              "      <td>0.600838</td>\n",
              "      <td>1.00000</td>\n",
              "      <td>0.655</td>\n",
              "      <td>9.992007e-16</td>\n",
              "      <td>11.916006</td>\n",
              "      <td>0.378378</td>\n",
              "      <td>0.396226</td>\n",
              "      <td>0.362069</td>\n",
              "    </tr>\n",
              "    <tr>\n",
              "      <th>SVC</th>\n",
              "      <td>0.966505</td>\n",
              "      <td>0.622511</td>\n",
              "      <td>0.94000</td>\n",
              "      <td>0.650</td>\n",
              "      <td>2.072339e+00</td>\n",
              "      <td>12.088728</td>\n",
              "      <td>0.435484</td>\n",
              "      <td>0.409091</td>\n",
              "      <td>0.465517</td>\n",
              "    </tr>\n",
              "    <tr>\n",
              "      <th>Random Forest</th>\n",
              "      <td>0.783358</td>\n",
              "      <td>0.723409</td>\n",
              "      <td>0.71750</td>\n",
              "      <td>0.725</td>\n",
              "      <td>9.757206e+00</td>\n",
              "      <td>9.498164</td>\n",
              "      <td>0.098361</td>\n",
              "      <td>1.000000</td>\n",
              "      <td>0.051724</td>\n",
              "    </tr>\n",
              "    <tr>\n",
              "      <th>AdaBoost</th>\n",
              "      <td>0.827516</td>\n",
              "      <td>0.749454</td>\n",
              "      <td>0.78500</td>\n",
              "      <td>0.750</td>\n",
              "      <td>7.425882e+00</td>\n",
              "      <td>8.634754</td>\n",
              "      <td>0.479167</td>\n",
              "      <td>0.605263</td>\n",
              "      <td>0.396552</td>\n",
              "    </tr>\n",
              "    <tr>\n",
              "      <th>Gradient Boosting</th>\n",
              "      <td>1.000000</td>\n",
              "      <td>0.695240</td>\n",
              "      <td>0.99875</td>\n",
              "      <td>0.720</td>\n",
              "      <td>4.317347e-02</td>\n",
              "      <td>9.670953</td>\n",
              "      <td>0.481481</td>\n",
              "      <td>0.520000</td>\n",
              "      <td>0.448276</td>\n",
              "    </tr>\n",
              "    <tr>\n",
              "      <th>XG Boost</th>\n",
              "      <td>0.991054</td>\n",
              "      <td>0.726688</td>\n",
              "      <td>0.95500</td>\n",
              "      <td>0.760</td>\n",
              "      <td>NaN</td>\n",
              "      <td>NaN</td>\n",
              "      <td>0.555556</td>\n",
              "      <td>0.600000</td>\n",
              "      <td>0.517241</td>\n",
              "    </tr>\n",
              "  </tbody>\n",
              "</table>\n",
              "</div>\n",
              "      <button class=\"colab-df-convert\" onclick=\"convertToInteractive('df-60acb507-a094-4c10-b61a-53c665760c07')\"\n",
              "              title=\"Convert this dataframe to an interactive table.\"\n",
              "              style=\"display:none;\">\n",
              "        \n",
              "  <svg xmlns=\"http://www.w3.org/2000/svg\" height=\"24px\"viewBox=\"0 0 24 24\"\n",
              "       width=\"24px\">\n",
              "    <path d=\"M0 0h24v24H0V0z\" fill=\"none\"/>\n",
              "    <path d=\"M18.56 5.44l.94 2.06.94-2.06 2.06-.94-2.06-.94-.94-2.06-.94 2.06-2.06.94zm-11 1L8.5 8.5l.94-2.06 2.06-.94-2.06-.94L8.5 2.5l-.94 2.06-2.06.94zm10 10l.94 2.06.94-2.06 2.06-.94-2.06-.94-.94-2.06-.94 2.06-2.06.94z\"/><path d=\"M17.41 7.96l-1.37-1.37c-.4-.4-.92-.59-1.43-.59-.52 0-1.04.2-1.43.59L10.3 9.45l-7.72 7.72c-.78.78-.78 2.05 0 2.83L4 21.41c.39.39.9.59 1.41.59.51 0 1.02-.2 1.41-.59l7.78-7.78 2.81-2.81c.8-.78.8-2.07 0-2.86zM5.41 20L4 18.59l7.72-7.72 1.47 1.35L5.41 20z\"/>\n",
              "  </svg>\n",
              "      </button>\n",
              "      \n",
              "  <style>\n",
              "    .colab-df-container {\n",
              "      display:flex;\n",
              "      flex-wrap:wrap;\n",
              "      gap: 12px;\n",
              "    }\n",
              "\n",
              "    .colab-df-convert {\n",
              "      background-color: #E8F0FE;\n",
              "      border: none;\n",
              "      border-radius: 50%;\n",
              "      cursor: pointer;\n",
              "      display: none;\n",
              "      fill: #1967D2;\n",
              "      height: 32px;\n",
              "      padding: 0 0 0 0;\n",
              "      width: 32px;\n",
              "    }\n",
              "\n",
              "    .colab-df-convert:hover {\n",
              "      background-color: #E2EBFA;\n",
              "      box-shadow: 0px 1px 2px rgba(60, 64, 67, 0.3), 0px 1px 3px 1px rgba(60, 64, 67, 0.15);\n",
              "      fill: #174EA6;\n",
              "    }\n",
              "\n",
              "    [theme=dark] .colab-df-convert {\n",
              "      background-color: #3B4455;\n",
              "      fill: #D2E3FC;\n",
              "    }\n",
              "\n",
              "    [theme=dark] .colab-df-convert:hover {\n",
              "      background-color: #434B5C;\n",
              "      box-shadow: 0px 1px 3px 1px rgba(0, 0, 0, 0.15);\n",
              "      filter: drop-shadow(0px 1px 2px rgba(0, 0, 0, 0.3));\n",
              "      fill: #FFFFFF;\n",
              "    }\n",
              "  </style>\n",
              "\n",
              "      <script>\n",
              "        const buttonEl =\n",
              "          document.querySelector('#df-60acb507-a094-4c10-b61a-53c665760c07 button.colab-df-convert');\n",
              "        buttonEl.style.display =\n",
              "          google.colab.kernel.accessAllowed ? 'block' : 'none';\n",
              "\n",
              "        async function convertToInteractive(key) {\n",
              "          const element = document.querySelector('#df-60acb507-a094-4c10-b61a-53c665760c07');\n",
              "          const dataTable =\n",
              "            await google.colab.kernel.invokeFunction('convertToInteractive',\n",
              "                                                     [key], {});\n",
              "          if (!dataTable) return;\n",
              "\n",
              "          const docLinkHtml = 'Like what you see? Visit the ' +\n",
              "            '<a target=\"_blank\" href=https://colab.research.google.com/notebooks/data_table.ipynb>data table notebook</a>'\n",
              "            + ' to learn more about interactive tables.';\n",
              "          element.innerHTML = '';\n",
              "          dataTable['output_type'] = 'display_data';\n",
              "          await google.colab.output.renderOutput(dataTable, element);\n",
              "          const docLink = document.createElement('div');\n",
              "          docLink.innerHTML = docLinkHtml;\n",
              "          element.appendChild(docLink);\n",
              "        }\n",
              "      </script>\n",
              "    </div>\n",
              "  </div>\n",
              "  "
            ]
          },
          "metadata": {},
          "execution_count": 75
        }
      ]
    },
    {
      "cell_type": "markdown",
      "source": [
        "From the table, the model works best (without imputing missing values) is XGBoost. Other models that show a higher-than-average performance are:\n",
        "*   AdaBoost\n",
        "*   Gradient Boosting\n",
        "*   Logistic Regression\n",
        "*   SVC\n",
        "*   Gaussian Naive Bayes\n",
        "\n",
        "\n"
      ],
      "metadata": {
        "id": "csA6BwHL9jD8"
      }
    },
    {
      "cell_type": "markdown",
      "source": [
        "### 6. Imputation and Feature Engineering"
      ],
      "metadata": {
        "id": "h_lYF6FgIjAD"
      }
    },
    {
      "cell_type": "markdown",
      "source": [
        "#### 6.1 Imputating missing values with \"missing\" and encoding categorical features"
      ],
      "metadata": {
        "id": "_SKq6rrPomUq"
      }
    },
    {
      "cell_type": "code",
      "source": [
        "features_raw3 = df.drop(columns=['Risk'], axis=1)\n",
        "features_raw3.head()"
      ],
      "metadata": {
        "colab": {
          "base_uri": "https://localhost:8080/",
          "height": 206
        },
        "id": "ce2PcUIPIii6",
        "outputId": "5c9d77fa-e897-4b52-db6a-b05c54f9a087"
      },
      "execution_count": null,
      "outputs": [
        {
          "output_type": "execute_result",
          "data": {
            "text/plain": [
              "   Age     Sex  Job Housing Saving accounts Checking account  Credit amount  \\\n",
              "0   67    male    2     own             NaN           little           1169   \n",
              "1   22  female    2     own          little         moderate           5951   \n",
              "2   49    male    1     own          little              NaN           2096   \n",
              "3   45    male    2    free          little           little           7882   \n",
              "4   53    male    2    free          little           little           4870   \n",
              "\n",
              "   Duration              Purpose  \n",
              "0         6             radio/TV  \n",
              "1        48             radio/TV  \n",
              "2        12            education  \n",
              "3        42  furniture/equipment  \n",
              "4        24                  car  "
            ],
            "text/html": [
              "\n",
              "  <div id=\"df-e3841e01-e7bd-4f26-a72d-2df584e3659a\">\n",
              "    <div class=\"colab-df-container\">\n",
              "      <div>\n",
              "<style scoped>\n",
              "    .dataframe tbody tr th:only-of-type {\n",
              "        vertical-align: middle;\n",
              "    }\n",
              "\n",
              "    .dataframe tbody tr th {\n",
              "        vertical-align: top;\n",
              "    }\n",
              "\n",
              "    .dataframe thead th {\n",
              "        text-align: right;\n",
              "    }\n",
              "</style>\n",
              "<table border=\"1\" class=\"dataframe\">\n",
              "  <thead>\n",
              "    <tr style=\"text-align: right;\">\n",
              "      <th></th>\n",
              "      <th>Age</th>\n",
              "      <th>Sex</th>\n",
              "      <th>Job</th>\n",
              "      <th>Housing</th>\n",
              "      <th>Saving accounts</th>\n",
              "      <th>Checking account</th>\n",
              "      <th>Credit amount</th>\n",
              "      <th>Duration</th>\n",
              "      <th>Purpose</th>\n",
              "    </tr>\n",
              "  </thead>\n",
              "  <tbody>\n",
              "    <tr>\n",
              "      <th>0</th>\n",
              "      <td>67</td>\n",
              "      <td>male</td>\n",
              "      <td>2</td>\n",
              "      <td>own</td>\n",
              "      <td>NaN</td>\n",
              "      <td>little</td>\n",
              "      <td>1169</td>\n",
              "      <td>6</td>\n",
              "      <td>radio/TV</td>\n",
              "    </tr>\n",
              "    <tr>\n",
              "      <th>1</th>\n",
              "      <td>22</td>\n",
              "      <td>female</td>\n",
              "      <td>2</td>\n",
              "      <td>own</td>\n",
              "      <td>little</td>\n",
              "      <td>moderate</td>\n",
              "      <td>5951</td>\n",
              "      <td>48</td>\n",
              "      <td>radio/TV</td>\n",
              "    </tr>\n",
              "    <tr>\n",
              "      <th>2</th>\n",
              "      <td>49</td>\n",
              "      <td>male</td>\n",
              "      <td>1</td>\n",
              "      <td>own</td>\n",
              "      <td>little</td>\n",
              "      <td>NaN</td>\n",
              "      <td>2096</td>\n",
              "      <td>12</td>\n",
              "      <td>education</td>\n",
              "    </tr>\n",
              "    <tr>\n",
              "      <th>3</th>\n",
              "      <td>45</td>\n",
              "      <td>male</td>\n",
              "      <td>2</td>\n",
              "      <td>free</td>\n",
              "      <td>little</td>\n",
              "      <td>little</td>\n",
              "      <td>7882</td>\n",
              "      <td>42</td>\n",
              "      <td>furniture/equipment</td>\n",
              "    </tr>\n",
              "    <tr>\n",
              "      <th>4</th>\n",
              "      <td>53</td>\n",
              "      <td>male</td>\n",
              "      <td>2</td>\n",
              "      <td>free</td>\n",
              "      <td>little</td>\n",
              "      <td>little</td>\n",
              "      <td>4870</td>\n",
              "      <td>24</td>\n",
              "      <td>car</td>\n",
              "    </tr>\n",
              "  </tbody>\n",
              "</table>\n",
              "</div>\n",
              "      <button class=\"colab-df-convert\" onclick=\"convertToInteractive('df-e3841e01-e7bd-4f26-a72d-2df584e3659a')\"\n",
              "              title=\"Convert this dataframe to an interactive table.\"\n",
              "              style=\"display:none;\">\n",
              "        \n",
              "  <svg xmlns=\"http://www.w3.org/2000/svg\" height=\"24px\"viewBox=\"0 0 24 24\"\n",
              "       width=\"24px\">\n",
              "    <path d=\"M0 0h24v24H0V0z\" fill=\"none\"/>\n",
              "    <path d=\"M18.56 5.44l.94 2.06.94-2.06 2.06-.94-2.06-.94-.94-2.06-.94 2.06-2.06.94zm-11 1L8.5 8.5l.94-2.06 2.06-.94-2.06-.94L8.5 2.5l-.94 2.06-2.06.94zm10 10l.94 2.06.94-2.06 2.06-.94-2.06-.94-.94-2.06-.94 2.06-2.06.94z\"/><path d=\"M17.41 7.96l-1.37-1.37c-.4-.4-.92-.59-1.43-.59-.52 0-1.04.2-1.43.59L10.3 9.45l-7.72 7.72c-.78.78-.78 2.05 0 2.83L4 21.41c.39.39.9.59 1.41.59.51 0 1.02-.2 1.41-.59l7.78-7.78 2.81-2.81c.8-.78.8-2.07 0-2.86zM5.41 20L4 18.59l7.72-7.72 1.47 1.35L5.41 20z\"/>\n",
              "  </svg>\n",
              "      </button>\n",
              "      \n",
              "  <style>\n",
              "    .colab-df-container {\n",
              "      display:flex;\n",
              "      flex-wrap:wrap;\n",
              "      gap: 12px;\n",
              "    }\n",
              "\n",
              "    .colab-df-convert {\n",
              "      background-color: #E8F0FE;\n",
              "      border: none;\n",
              "      border-radius: 50%;\n",
              "      cursor: pointer;\n",
              "      display: none;\n",
              "      fill: #1967D2;\n",
              "      height: 32px;\n",
              "      padding: 0 0 0 0;\n",
              "      width: 32px;\n",
              "    }\n",
              "\n",
              "    .colab-df-convert:hover {\n",
              "      background-color: #E2EBFA;\n",
              "      box-shadow: 0px 1px 2px rgba(60, 64, 67, 0.3), 0px 1px 3px 1px rgba(60, 64, 67, 0.15);\n",
              "      fill: #174EA6;\n",
              "    }\n",
              "\n",
              "    [theme=dark] .colab-df-convert {\n",
              "      background-color: #3B4455;\n",
              "      fill: #D2E3FC;\n",
              "    }\n",
              "\n",
              "    [theme=dark] .colab-df-convert:hover {\n",
              "      background-color: #434B5C;\n",
              "      box-shadow: 0px 1px 3px 1px rgba(0, 0, 0, 0.15);\n",
              "      filter: drop-shadow(0px 1px 2px rgba(0, 0, 0, 0.3));\n",
              "      fill: #FFFFFF;\n",
              "    }\n",
              "  </style>\n",
              "\n",
              "      <script>\n",
              "        const buttonEl =\n",
              "          document.querySelector('#df-e3841e01-e7bd-4f26-a72d-2df584e3659a button.colab-df-convert');\n",
              "        buttonEl.style.display =\n",
              "          google.colab.kernel.accessAllowed ? 'block' : 'none';\n",
              "\n",
              "        async function convertToInteractive(key) {\n",
              "          const element = document.querySelector('#df-e3841e01-e7bd-4f26-a72d-2df584e3659a');\n",
              "          const dataTable =\n",
              "            await google.colab.kernel.invokeFunction('convertToInteractive',\n",
              "                                                     [key], {});\n",
              "          if (!dataTable) return;\n",
              "\n",
              "          const docLinkHtml = 'Like what you see? Visit the ' +\n",
              "            '<a target=\"_blank\" href=https://colab.research.google.com/notebooks/data_table.ipynb>data table notebook</a>'\n",
              "            + ' to learn more about interactive tables.';\n",
              "          element.innerHTML = '';\n",
              "          dataTable['output_type'] = 'display_data';\n",
              "          await google.colab.output.renderOutput(dataTable, element);\n",
              "          const docLink = document.createElement('div');\n",
              "          docLink.innerHTML = docLinkHtml;\n",
              "          element.appendChild(docLink);\n",
              "        }\n",
              "      </script>\n",
              "    </div>\n",
              "  </div>\n",
              "  "
            ]
          },
          "metadata": {},
          "execution_count": 76
        }
      ]
    },
    {
      "cell_type": "code",
      "source": [
        "features_raw3.fillna('missing', inplace=True)\n",
        "features_raw3.head()"
      ],
      "metadata": {
        "colab": {
          "base_uri": "https://localhost:8080/",
          "height": 206
        },
        "id": "UYOaBMNfoUt2",
        "outputId": "953b73a5-586a-4705-abdc-e2d8b49f15c2"
      },
      "execution_count": null,
      "outputs": [
        {
          "output_type": "execute_result",
          "data": {
            "text/plain": [
              "   Age     Sex  Job Housing Saving accounts Checking account  Credit amount  \\\n",
              "0   67    male    2     own         missing           little           1169   \n",
              "1   22  female    2     own          little         moderate           5951   \n",
              "2   49    male    1     own          little          missing           2096   \n",
              "3   45    male    2    free          little           little           7882   \n",
              "4   53    male    2    free          little           little           4870   \n",
              "\n",
              "   Duration              Purpose  \n",
              "0         6             radio/TV  \n",
              "1        48             radio/TV  \n",
              "2        12            education  \n",
              "3        42  furniture/equipment  \n",
              "4        24                  car  "
            ],
            "text/html": [
              "\n",
              "  <div id=\"df-70a5027e-5e50-42f2-a80d-a80c3f5f71ab\">\n",
              "    <div class=\"colab-df-container\">\n",
              "      <div>\n",
              "<style scoped>\n",
              "    .dataframe tbody tr th:only-of-type {\n",
              "        vertical-align: middle;\n",
              "    }\n",
              "\n",
              "    .dataframe tbody tr th {\n",
              "        vertical-align: top;\n",
              "    }\n",
              "\n",
              "    .dataframe thead th {\n",
              "        text-align: right;\n",
              "    }\n",
              "</style>\n",
              "<table border=\"1\" class=\"dataframe\">\n",
              "  <thead>\n",
              "    <tr style=\"text-align: right;\">\n",
              "      <th></th>\n",
              "      <th>Age</th>\n",
              "      <th>Sex</th>\n",
              "      <th>Job</th>\n",
              "      <th>Housing</th>\n",
              "      <th>Saving accounts</th>\n",
              "      <th>Checking account</th>\n",
              "      <th>Credit amount</th>\n",
              "      <th>Duration</th>\n",
              "      <th>Purpose</th>\n",
              "    </tr>\n",
              "  </thead>\n",
              "  <tbody>\n",
              "    <tr>\n",
              "      <th>0</th>\n",
              "      <td>67</td>\n",
              "      <td>male</td>\n",
              "      <td>2</td>\n",
              "      <td>own</td>\n",
              "      <td>missing</td>\n",
              "      <td>little</td>\n",
              "      <td>1169</td>\n",
              "      <td>6</td>\n",
              "      <td>radio/TV</td>\n",
              "    </tr>\n",
              "    <tr>\n",
              "      <th>1</th>\n",
              "      <td>22</td>\n",
              "      <td>female</td>\n",
              "      <td>2</td>\n",
              "      <td>own</td>\n",
              "      <td>little</td>\n",
              "      <td>moderate</td>\n",
              "      <td>5951</td>\n",
              "      <td>48</td>\n",
              "      <td>radio/TV</td>\n",
              "    </tr>\n",
              "    <tr>\n",
              "      <th>2</th>\n",
              "      <td>49</td>\n",
              "      <td>male</td>\n",
              "      <td>1</td>\n",
              "      <td>own</td>\n",
              "      <td>little</td>\n",
              "      <td>missing</td>\n",
              "      <td>2096</td>\n",
              "      <td>12</td>\n",
              "      <td>education</td>\n",
              "    </tr>\n",
              "    <tr>\n",
              "      <th>3</th>\n",
              "      <td>45</td>\n",
              "      <td>male</td>\n",
              "      <td>2</td>\n",
              "      <td>free</td>\n",
              "      <td>little</td>\n",
              "      <td>little</td>\n",
              "      <td>7882</td>\n",
              "      <td>42</td>\n",
              "      <td>furniture/equipment</td>\n",
              "    </tr>\n",
              "    <tr>\n",
              "      <th>4</th>\n",
              "      <td>53</td>\n",
              "      <td>male</td>\n",
              "      <td>2</td>\n",
              "      <td>free</td>\n",
              "      <td>little</td>\n",
              "      <td>little</td>\n",
              "      <td>4870</td>\n",
              "      <td>24</td>\n",
              "      <td>car</td>\n",
              "    </tr>\n",
              "  </tbody>\n",
              "</table>\n",
              "</div>\n",
              "      <button class=\"colab-df-convert\" onclick=\"convertToInteractive('df-70a5027e-5e50-42f2-a80d-a80c3f5f71ab')\"\n",
              "              title=\"Convert this dataframe to an interactive table.\"\n",
              "              style=\"display:none;\">\n",
              "        \n",
              "  <svg xmlns=\"http://www.w3.org/2000/svg\" height=\"24px\"viewBox=\"0 0 24 24\"\n",
              "       width=\"24px\">\n",
              "    <path d=\"M0 0h24v24H0V0z\" fill=\"none\"/>\n",
              "    <path d=\"M18.56 5.44l.94 2.06.94-2.06 2.06-.94-2.06-.94-.94-2.06-.94 2.06-2.06.94zm-11 1L8.5 8.5l.94-2.06 2.06-.94-2.06-.94L8.5 2.5l-.94 2.06-2.06.94zm10 10l.94 2.06.94-2.06 2.06-.94-2.06-.94-.94-2.06-.94 2.06-2.06.94z\"/><path d=\"M17.41 7.96l-1.37-1.37c-.4-.4-.92-.59-1.43-.59-.52 0-1.04.2-1.43.59L10.3 9.45l-7.72 7.72c-.78.78-.78 2.05 0 2.83L4 21.41c.39.39.9.59 1.41.59.51 0 1.02-.2 1.41-.59l7.78-7.78 2.81-2.81c.8-.78.8-2.07 0-2.86zM5.41 20L4 18.59l7.72-7.72 1.47 1.35L5.41 20z\"/>\n",
              "  </svg>\n",
              "      </button>\n",
              "      \n",
              "  <style>\n",
              "    .colab-df-container {\n",
              "      display:flex;\n",
              "      flex-wrap:wrap;\n",
              "      gap: 12px;\n",
              "    }\n",
              "\n",
              "    .colab-df-convert {\n",
              "      background-color: #E8F0FE;\n",
              "      border: none;\n",
              "      border-radius: 50%;\n",
              "      cursor: pointer;\n",
              "      display: none;\n",
              "      fill: #1967D2;\n",
              "      height: 32px;\n",
              "      padding: 0 0 0 0;\n",
              "      width: 32px;\n",
              "    }\n",
              "\n",
              "    .colab-df-convert:hover {\n",
              "      background-color: #E2EBFA;\n",
              "      box-shadow: 0px 1px 2px rgba(60, 64, 67, 0.3), 0px 1px 3px 1px rgba(60, 64, 67, 0.15);\n",
              "      fill: #174EA6;\n",
              "    }\n",
              "\n",
              "    [theme=dark] .colab-df-convert {\n",
              "      background-color: #3B4455;\n",
              "      fill: #D2E3FC;\n",
              "    }\n",
              "\n",
              "    [theme=dark] .colab-df-convert:hover {\n",
              "      background-color: #434B5C;\n",
              "      box-shadow: 0px 1px 3px 1px rgba(0, 0, 0, 0.15);\n",
              "      filter: drop-shadow(0px 1px 2px rgba(0, 0, 0, 0.3));\n",
              "      fill: #FFFFFF;\n",
              "    }\n",
              "  </style>\n",
              "\n",
              "      <script>\n",
              "        const buttonEl =\n",
              "          document.querySelector('#df-70a5027e-5e50-42f2-a80d-a80c3f5f71ab button.colab-df-convert');\n",
              "        buttonEl.style.display =\n",
              "          google.colab.kernel.accessAllowed ? 'block' : 'none';\n",
              "\n",
              "        async function convertToInteractive(key) {\n",
              "          const element = document.querySelector('#df-70a5027e-5e50-42f2-a80d-a80c3f5f71ab');\n",
              "          const dataTable =\n",
              "            await google.colab.kernel.invokeFunction('convertToInteractive',\n",
              "                                                     [key], {});\n",
              "          if (!dataTable) return;\n",
              "\n",
              "          const docLinkHtml = 'Like what you see? Visit the ' +\n",
              "            '<a target=\"_blank\" href=https://colab.research.google.com/notebooks/data_table.ipynb>data table notebook</a>'\n",
              "            + ' to learn more about interactive tables.';\n",
              "          element.innerHTML = '';\n",
              "          dataTable['output_type'] = 'display_data';\n",
              "          await google.colab.output.renderOutput(dataTable, element);\n",
              "          const docLink = document.createElement('div');\n",
              "          docLink.innerHTML = docLinkHtml;\n",
              "          element.appendChild(docLink);\n",
              "        }\n",
              "      </script>\n",
              "    </div>\n",
              "  </div>\n",
              "  "
            ]
          },
          "metadata": {},
          "execution_count": 77
        }
      ]
    },
    {
      "cell_type": "code",
      "source": [
        "features_raw3 = features_raw3.merge(pd.get_dummies(data=features_raw3, columns=['Sex', 'Job', 'Housing', 'Saving accounts', 'Checking account', 'Purpose']))\n",
        "features_raw3.head()"
      ],
      "metadata": {
        "colab": {
          "base_uri": "https://localhost:8080/",
          "height": 317
        },
        "id": "s0qpeIGrofcs",
        "outputId": "540e83b7-c1a9-4b88-dab2-2f1265a9b6b1"
      },
      "execution_count": null,
      "outputs": [
        {
          "output_type": "execute_result",
          "data": {
            "text/plain": [
              "   Age     Sex  Job Housing Saving accounts Checking account  Credit amount  \\\n",
              "0   67    male    2     own         missing           little           1169   \n",
              "1   22  female    2     own          little         moderate           5951   \n",
              "2   49    male    1     own          little          missing           2096   \n",
              "3   45    male    2    free          little           little           7882   \n",
              "4   53    male    2    free          little           little           4870   \n",
              "\n",
              "   Duration              Purpose  Sex_female  ...  Checking account_moderate  \\\n",
              "0         6             radio/TV           0  ...                          0   \n",
              "1        48             radio/TV           1  ...                          1   \n",
              "2        12            education           0  ...                          0   \n",
              "3        42  furniture/equipment           0  ...                          0   \n",
              "4        24                  car           0  ...                          0   \n",
              "\n",
              "   Checking account_rich  Purpose_business  Purpose_car  \\\n",
              "0                      0                 0            0   \n",
              "1                      0                 0            0   \n",
              "2                      0                 0            0   \n",
              "3                      0                 0            0   \n",
              "4                      0                 0            1   \n",
              "\n",
              "   Purpose_domestic appliances  Purpose_education  \\\n",
              "0                            0                  0   \n",
              "1                            0                  0   \n",
              "2                            0                  1   \n",
              "3                            0                  0   \n",
              "4                            0                  0   \n",
              "\n",
              "   Purpose_furniture/equipment  Purpose_radio/TV  Purpose_repairs  \\\n",
              "0                            0                 1                0   \n",
              "1                            0                 1                0   \n",
              "2                            0                 0                0   \n",
              "3                            1                 0                0   \n",
              "4                            0                 0                0   \n",
              "\n",
              "   Purpose_vacation/others  \n",
              "0                        0  \n",
              "1                        0  \n",
              "2                        0  \n",
              "3                        0  \n",
              "4                        0  \n",
              "\n",
              "[5 rows x 35 columns]"
            ],
            "text/html": [
              "\n",
              "  <div id=\"df-8e0fc76b-ec50-4052-b41c-cb3f56f1d812\">\n",
              "    <div class=\"colab-df-container\">\n",
              "      <div>\n",
              "<style scoped>\n",
              "    .dataframe tbody tr th:only-of-type {\n",
              "        vertical-align: middle;\n",
              "    }\n",
              "\n",
              "    .dataframe tbody tr th {\n",
              "        vertical-align: top;\n",
              "    }\n",
              "\n",
              "    .dataframe thead th {\n",
              "        text-align: right;\n",
              "    }\n",
              "</style>\n",
              "<table border=\"1\" class=\"dataframe\">\n",
              "  <thead>\n",
              "    <tr style=\"text-align: right;\">\n",
              "      <th></th>\n",
              "      <th>Age</th>\n",
              "      <th>Sex</th>\n",
              "      <th>Job</th>\n",
              "      <th>Housing</th>\n",
              "      <th>Saving accounts</th>\n",
              "      <th>Checking account</th>\n",
              "      <th>Credit amount</th>\n",
              "      <th>Duration</th>\n",
              "      <th>Purpose</th>\n",
              "      <th>Sex_female</th>\n",
              "      <th>...</th>\n",
              "      <th>Checking account_moderate</th>\n",
              "      <th>Checking account_rich</th>\n",
              "      <th>Purpose_business</th>\n",
              "      <th>Purpose_car</th>\n",
              "      <th>Purpose_domestic appliances</th>\n",
              "      <th>Purpose_education</th>\n",
              "      <th>Purpose_furniture/equipment</th>\n",
              "      <th>Purpose_radio/TV</th>\n",
              "      <th>Purpose_repairs</th>\n",
              "      <th>Purpose_vacation/others</th>\n",
              "    </tr>\n",
              "  </thead>\n",
              "  <tbody>\n",
              "    <tr>\n",
              "      <th>0</th>\n",
              "      <td>67</td>\n",
              "      <td>male</td>\n",
              "      <td>2</td>\n",
              "      <td>own</td>\n",
              "      <td>missing</td>\n",
              "      <td>little</td>\n",
              "      <td>1169</td>\n",
              "      <td>6</td>\n",
              "      <td>radio/TV</td>\n",
              "      <td>0</td>\n",
              "      <td>...</td>\n",
              "      <td>0</td>\n",
              "      <td>0</td>\n",
              "      <td>0</td>\n",
              "      <td>0</td>\n",
              "      <td>0</td>\n",
              "      <td>0</td>\n",
              "      <td>0</td>\n",
              "      <td>1</td>\n",
              "      <td>0</td>\n",
              "      <td>0</td>\n",
              "    </tr>\n",
              "    <tr>\n",
              "      <th>1</th>\n",
              "      <td>22</td>\n",
              "      <td>female</td>\n",
              "      <td>2</td>\n",
              "      <td>own</td>\n",
              "      <td>little</td>\n",
              "      <td>moderate</td>\n",
              "      <td>5951</td>\n",
              "      <td>48</td>\n",
              "      <td>radio/TV</td>\n",
              "      <td>1</td>\n",
              "      <td>...</td>\n",
              "      <td>1</td>\n",
              "      <td>0</td>\n",
              "      <td>0</td>\n",
              "      <td>0</td>\n",
              "      <td>0</td>\n",
              "      <td>0</td>\n",
              "      <td>0</td>\n",
              "      <td>1</td>\n",
              "      <td>0</td>\n",
              "      <td>0</td>\n",
              "    </tr>\n",
              "    <tr>\n",
              "      <th>2</th>\n",
              "      <td>49</td>\n",
              "      <td>male</td>\n",
              "      <td>1</td>\n",
              "      <td>own</td>\n",
              "      <td>little</td>\n",
              "      <td>missing</td>\n",
              "      <td>2096</td>\n",
              "      <td>12</td>\n",
              "      <td>education</td>\n",
              "      <td>0</td>\n",
              "      <td>...</td>\n",
              "      <td>0</td>\n",
              "      <td>0</td>\n",
              "      <td>0</td>\n",
              "      <td>0</td>\n",
              "      <td>0</td>\n",
              "      <td>1</td>\n",
              "      <td>0</td>\n",
              "      <td>0</td>\n",
              "      <td>0</td>\n",
              "      <td>0</td>\n",
              "    </tr>\n",
              "    <tr>\n",
              "      <th>3</th>\n",
              "      <td>45</td>\n",
              "      <td>male</td>\n",
              "      <td>2</td>\n",
              "      <td>free</td>\n",
              "      <td>little</td>\n",
              "      <td>little</td>\n",
              "      <td>7882</td>\n",
              "      <td>42</td>\n",
              "      <td>furniture/equipment</td>\n",
              "      <td>0</td>\n",
              "      <td>...</td>\n",
              "      <td>0</td>\n",
              "      <td>0</td>\n",
              "      <td>0</td>\n",
              "      <td>0</td>\n",
              "      <td>0</td>\n",
              "      <td>0</td>\n",
              "      <td>1</td>\n",
              "      <td>0</td>\n",
              "      <td>0</td>\n",
              "      <td>0</td>\n",
              "    </tr>\n",
              "    <tr>\n",
              "      <th>4</th>\n",
              "      <td>53</td>\n",
              "      <td>male</td>\n",
              "      <td>2</td>\n",
              "      <td>free</td>\n",
              "      <td>little</td>\n",
              "      <td>little</td>\n",
              "      <td>4870</td>\n",
              "      <td>24</td>\n",
              "      <td>car</td>\n",
              "      <td>0</td>\n",
              "      <td>...</td>\n",
              "      <td>0</td>\n",
              "      <td>0</td>\n",
              "      <td>0</td>\n",
              "      <td>1</td>\n",
              "      <td>0</td>\n",
              "      <td>0</td>\n",
              "      <td>0</td>\n",
              "      <td>0</td>\n",
              "      <td>0</td>\n",
              "      <td>0</td>\n",
              "    </tr>\n",
              "  </tbody>\n",
              "</table>\n",
              "<p>5 rows × 35 columns</p>\n",
              "</div>\n",
              "      <button class=\"colab-df-convert\" onclick=\"convertToInteractive('df-8e0fc76b-ec50-4052-b41c-cb3f56f1d812')\"\n",
              "              title=\"Convert this dataframe to an interactive table.\"\n",
              "              style=\"display:none;\">\n",
              "        \n",
              "  <svg xmlns=\"http://www.w3.org/2000/svg\" height=\"24px\"viewBox=\"0 0 24 24\"\n",
              "       width=\"24px\">\n",
              "    <path d=\"M0 0h24v24H0V0z\" fill=\"none\"/>\n",
              "    <path d=\"M18.56 5.44l.94 2.06.94-2.06 2.06-.94-2.06-.94-.94-2.06-.94 2.06-2.06.94zm-11 1L8.5 8.5l.94-2.06 2.06-.94-2.06-.94L8.5 2.5l-.94 2.06-2.06.94zm10 10l.94 2.06.94-2.06 2.06-.94-2.06-.94-.94-2.06-.94 2.06-2.06.94z\"/><path d=\"M17.41 7.96l-1.37-1.37c-.4-.4-.92-.59-1.43-.59-.52 0-1.04.2-1.43.59L10.3 9.45l-7.72 7.72c-.78.78-.78 2.05 0 2.83L4 21.41c.39.39.9.59 1.41.59.51 0 1.02-.2 1.41-.59l7.78-7.78 2.81-2.81c.8-.78.8-2.07 0-2.86zM5.41 20L4 18.59l7.72-7.72 1.47 1.35L5.41 20z\"/>\n",
              "  </svg>\n",
              "      </button>\n",
              "      \n",
              "  <style>\n",
              "    .colab-df-container {\n",
              "      display:flex;\n",
              "      flex-wrap:wrap;\n",
              "      gap: 12px;\n",
              "    }\n",
              "\n",
              "    .colab-df-convert {\n",
              "      background-color: #E8F0FE;\n",
              "      border: none;\n",
              "      border-radius: 50%;\n",
              "      cursor: pointer;\n",
              "      display: none;\n",
              "      fill: #1967D2;\n",
              "      height: 32px;\n",
              "      padding: 0 0 0 0;\n",
              "      width: 32px;\n",
              "    }\n",
              "\n",
              "    .colab-df-convert:hover {\n",
              "      background-color: #E2EBFA;\n",
              "      box-shadow: 0px 1px 2px rgba(60, 64, 67, 0.3), 0px 1px 3px 1px rgba(60, 64, 67, 0.15);\n",
              "      fill: #174EA6;\n",
              "    }\n",
              "\n",
              "    [theme=dark] .colab-df-convert {\n",
              "      background-color: #3B4455;\n",
              "      fill: #D2E3FC;\n",
              "    }\n",
              "\n",
              "    [theme=dark] .colab-df-convert:hover {\n",
              "      background-color: #434B5C;\n",
              "      box-shadow: 0px 1px 3px 1px rgba(0, 0, 0, 0.15);\n",
              "      filter: drop-shadow(0px 1px 2px rgba(0, 0, 0, 0.3));\n",
              "      fill: #FFFFFF;\n",
              "    }\n",
              "  </style>\n",
              "\n",
              "      <script>\n",
              "        const buttonEl =\n",
              "          document.querySelector('#df-8e0fc76b-ec50-4052-b41c-cb3f56f1d812 button.colab-df-convert');\n",
              "        buttonEl.style.display =\n",
              "          google.colab.kernel.accessAllowed ? 'block' : 'none';\n",
              "\n",
              "        async function convertToInteractive(key) {\n",
              "          const element = document.querySelector('#df-8e0fc76b-ec50-4052-b41c-cb3f56f1d812');\n",
              "          const dataTable =\n",
              "            await google.colab.kernel.invokeFunction('convertToInteractive',\n",
              "                                                     [key], {});\n",
              "          if (!dataTable) return;\n",
              "\n",
              "          const docLinkHtml = 'Like what you see? Visit the ' +\n",
              "            '<a target=\"_blank\" href=https://colab.research.google.com/notebooks/data_table.ipynb>data table notebook</a>'\n",
              "            + ' to learn more about interactive tables.';\n",
              "          element.innerHTML = '';\n",
              "          dataTable['output_type'] = 'display_data';\n",
              "          await google.colab.output.renderOutput(dataTable, element);\n",
              "          const docLink = document.createElement('div');\n",
              "          docLink.innerHTML = docLinkHtml;\n",
              "          element.appendChild(docLink);\n",
              "        }\n",
              "      </script>\n",
              "    </div>\n",
              "  </div>\n",
              "  "
            ]
          },
          "metadata": {},
          "execution_count": 78
        }
      ]
    },
    {
      "cell_type": "code",
      "source": [
        "features_encoded3 = features_raw3.drop(columns=['Sex', 'Job', 'Housing', 'Saving accounts', 'Checking account', 'Purpose'], axis=1)\n",
        "features_encoded3.head()"
      ],
      "metadata": {
        "colab": {
          "base_uri": "https://localhost:8080/",
          "height": 317
        },
        "id": "36AAFo0xo0KV",
        "outputId": "49f4c330-5424-455f-aefa-469b3a7987a7"
      },
      "execution_count": null,
      "outputs": [
        {
          "output_type": "execute_result",
          "data": {
            "text/plain": [
              "   Age  Credit amount  Duration  Sex_female  Sex_male  Job_0  Job_1  Job_2  \\\n",
              "0   67           1169         6           0         1      0      0      1   \n",
              "1   22           5951        48           1         0      0      0      1   \n",
              "2   49           2096        12           0         1      0      1      0   \n",
              "3   45           7882        42           0         1      0      0      1   \n",
              "4   53           4870        24           0         1      0      0      1   \n",
              "\n",
              "   Job_3  Housing_free  ...  Checking account_moderate  Checking account_rich  \\\n",
              "0      0             0  ...                          0                      0   \n",
              "1      0             0  ...                          1                      0   \n",
              "2      0             0  ...                          0                      0   \n",
              "3      0             1  ...                          0                      0   \n",
              "4      0             1  ...                          0                      0   \n",
              "\n",
              "   Purpose_business  Purpose_car  Purpose_domestic appliances  \\\n",
              "0                 0            0                            0   \n",
              "1                 0            0                            0   \n",
              "2                 0            0                            0   \n",
              "3                 0            0                            0   \n",
              "4                 0            1                            0   \n",
              "\n",
              "   Purpose_education  Purpose_furniture/equipment  Purpose_radio/TV  \\\n",
              "0                  0                            0                 1   \n",
              "1                  0                            0                 1   \n",
              "2                  1                            0                 0   \n",
              "3                  0                            1                 0   \n",
              "4                  0                            0                 0   \n",
              "\n",
              "   Purpose_repairs  Purpose_vacation/others  \n",
              "0                0                        0  \n",
              "1                0                        0  \n",
              "2                0                        0  \n",
              "3                0                        0  \n",
              "4                0                        0  \n",
              "\n",
              "[5 rows x 29 columns]"
            ],
            "text/html": [
              "\n",
              "  <div id=\"df-c26a99d9-9450-48c2-aa23-a0b366629c42\">\n",
              "    <div class=\"colab-df-container\">\n",
              "      <div>\n",
              "<style scoped>\n",
              "    .dataframe tbody tr th:only-of-type {\n",
              "        vertical-align: middle;\n",
              "    }\n",
              "\n",
              "    .dataframe tbody tr th {\n",
              "        vertical-align: top;\n",
              "    }\n",
              "\n",
              "    .dataframe thead th {\n",
              "        text-align: right;\n",
              "    }\n",
              "</style>\n",
              "<table border=\"1\" class=\"dataframe\">\n",
              "  <thead>\n",
              "    <tr style=\"text-align: right;\">\n",
              "      <th></th>\n",
              "      <th>Age</th>\n",
              "      <th>Credit amount</th>\n",
              "      <th>Duration</th>\n",
              "      <th>Sex_female</th>\n",
              "      <th>Sex_male</th>\n",
              "      <th>Job_0</th>\n",
              "      <th>Job_1</th>\n",
              "      <th>Job_2</th>\n",
              "      <th>Job_3</th>\n",
              "      <th>Housing_free</th>\n",
              "      <th>...</th>\n",
              "      <th>Checking account_moderate</th>\n",
              "      <th>Checking account_rich</th>\n",
              "      <th>Purpose_business</th>\n",
              "      <th>Purpose_car</th>\n",
              "      <th>Purpose_domestic appliances</th>\n",
              "      <th>Purpose_education</th>\n",
              "      <th>Purpose_furniture/equipment</th>\n",
              "      <th>Purpose_radio/TV</th>\n",
              "      <th>Purpose_repairs</th>\n",
              "      <th>Purpose_vacation/others</th>\n",
              "    </tr>\n",
              "  </thead>\n",
              "  <tbody>\n",
              "    <tr>\n",
              "      <th>0</th>\n",
              "      <td>67</td>\n",
              "      <td>1169</td>\n",
              "      <td>6</td>\n",
              "      <td>0</td>\n",
              "      <td>1</td>\n",
              "      <td>0</td>\n",
              "      <td>0</td>\n",
              "      <td>1</td>\n",
              "      <td>0</td>\n",
              "      <td>0</td>\n",
              "      <td>...</td>\n",
              "      <td>0</td>\n",
              "      <td>0</td>\n",
              "      <td>0</td>\n",
              "      <td>0</td>\n",
              "      <td>0</td>\n",
              "      <td>0</td>\n",
              "      <td>0</td>\n",
              "      <td>1</td>\n",
              "      <td>0</td>\n",
              "      <td>0</td>\n",
              "    </tr>\n",
              "    <tr>\n",
              "      <th>1</th>\n",
              "      <td>22</td>\n",
              "      <td>5951</td>\n",
              "      <td>48</td>\n",
              "      <td>1</td>\n",
              "      <td>0</td>\n",
              "      <td>0</td>\n",
              "      <td>0</td>\n",
              "      <td>1</td>\n",
              "      <td>0</td>\n",
              "      <td>0</td>\n",
              "      <td>...</td>\n",
              "      <td>1</td>\n",
              "      <td>0</td>\n",
              "      <td>0</td>\n",
              "      <td>0</td>\n",
              "      <td>0</td>\n",
              "      <td>0</td>\n",
              "      <td>0</td>\n",
              "      <td>1</td>\n",
              "      <td>0</td>\n",
              "      <td>0</td>\n",
              "    </tr>\n",
              "    <tr>\n",
              "      <th>2</th>\n",
              "      <td>49</td>\n",
              "      <td>2096</td>\n",
              "      <td>12</td>\n",
              "      <td>0</td>\n",
              "      <td>1</td>\n",
              "      <td>0</td>\n",
              "      <td>1</td>\n",
              "      <td>0</td>\n",
              "      <td>0</td>\n",
              "      <td>0</td>\n",
              "      <td>...</td>\n",
              "      <td>0</td>\n",
              "      <td>0</td>\n",
              "      <td>0</td>\n",
              "      <td>0</td>\n",
              "      <td>0</td>\n",
              "      <td>1</td>\n",
              "      <td>0</td>\n",
              "      <td>0</td>\n",
              "      <td>0</td>\n",
              "      <td>0</td>\n",
              "    </tr>\n",
              "    <tr>\n",
              "      <th>3</th>\n",
              "      <td>45</td>\n",
              "      <td>7882</td>\n",
              "      <td>42</td>\n",
              "      <td>0</td>\n",
              "      <td>1</td>\n",
              "      <td>0</td>\n",
              "      <td>0</td>\n",
              "      <td>1</td>\n",
              "      <td>0</td>\n",
              "      <td>1</td>\n",
              "      <td>...</td>\n",
              "      <td>0</td>\n",
              "      <td>0</td>\n",
              "      <td>0</td>\n",
              "      <td>0</td>\n",
              "      <td>0</td>\n",
              "      <td>0</td>\n",
              "      <td>1</td>\n",
              "      <td>0</td>\n",
              "      <td>0</td>\n",
              "      <td>0</td>\n",
              "    </tr>\n",
              "    <tr>\n",
              "      <th>4</th>\n",
              "      <td>53</td>\n",
              "      <td>4870</td>\n",
              "      <td>24</td>\n",
              "      <td>0</td>\n",
              "      <td>1</td>\n",
              "      <td>0</td>\n",
              "      <td>0</td>\n",
              "      <td>1</td>\n",
              "      <td>0</td>\n",
              "      <td>1</td>\n",
              "      <td>...</td>\n",
              "      <td>0</td>\n",
              "      <td>0</td>\n",
              "      <td>0</td>\n",
              "      <td>1</td>\n",
              "      <td>0</td>\n",
              "      <td>0</td>\n",
              "      <td>0</td>\n",
              "      <td>0</td>\n",
              "      <td>0</td>\n",
              "      <td>0</td>\n",
              "    </tr>\n",
              "  </tbody>\n",
              "</table>\n",
              "<p>5 rows × 29 columns</p>\n",
              "</div>\n",
              "      <button class=\"colab-df-convert\" onclick=\"convertToInteractive('df-c26a99d9-9450-48c2-aa23-a0b366629c42')\"\n",
              "              title=\"Convert this dataframe to an interactive table.\"\n",
              "              style=\"display:none;\">\n",
              "        \n",
              "  <svg xmlns=\"http://www.w3.org/2000/svg\" height=\"24px\"viewBox=\"0 0 24 24\"\n",
              "       width=\"24px\">\n",
              "    <path d=\"M0 0h24v24H0V0z\" fill=\"none\"/>\n",
              "    <path d=\"M18.56 5.44l.94 2.06.94-2.06 2.06-.94-2.06-.94-.94-2.06-.94 2.06-2.06.94zm-11 1L8.5 8.5l.94-2.06 2.06-.94-2.06-.94L8.5 2.5l-.94 2.06-2.06.94zm10 10l.94 2.06.94-2.06 2.06-.94-2.06-.94-.94-2.06-.94 2.06-2.06.94z\"/><path d=\"M17.41 7.96l-1.37-1.37c-.4-.4-.92-.59-1.43-.59-.52 0-1.04.2-1.43.59L10.3 9.45l-7.72 7.72c-.78.78-.78 2.05 0 2.83L4 21.41c.39.39.9.59 1.41.59.51 0 1.02-.2 1.41-.59l7.78-7.78 2.81-2.81c.8-.78.8-2.07 0-2.86zM5.41 20L4 18.59l7.72-7.72 1.47 1.35L5.41 20z\"/>\n",
              "  </svg>\n",
              "      </button>\n",
              "      \n",
              "  <style>\n",
              "    .colab-df-container {\n",
              "      display:flex;\n",
              "      flex-wrap:wrap;\n",
              "      gap: 12px;\n",
              "    }\n",
              "\n",
              "    .colab-df-convert {\n",
              "      background-color: #E8F0FE;\n",
              "      border: none;\n",
              "      border-radius: 50%;\n",
              "      cursor: pointer;\n",
              "      display: none;\n",
              "      fill: #1967D2;\n",
              "      height: 32px;\n",
              "      padding: 0 0 0 0;\n",
              "      width: 32px;\n",
              "    }\n",
              "\n",
              "    .colab-df-convert:hover {\n",
              "      background-color: #E2EBFA;\n",
              "      box-shadow: 0px 1px 2px rgba(60, 64, 67, 0.3), 0px 1px 3px 1px rgba(60, 64, 67, 0.15);\n",
              "      fill: #174EA6;\n",
              "    }\n",
              "\n",
              "    [theme=dark] .colab-df-convert {\n",
              "      background-color: #3B4455;\n",
              "      fill: #D2E3FC;\n",
              "    }\n",
              "\n",
              "    [theme=dark] .colab-df-convert:hover {\n",
              "      background-color: #434B5C;\n",
              "      box-shadow: 0px 1px 3px 1px rgba(0, 0, 0, 0.15);\n",
              "      filter: drop-shadow(0px 1px 2px rgba(0, 0, 0, 0.3));\n",
              "      fill: #FFFFFF;\n",
              "    }\n",
              "  </style>\n",
              "\n",
              "      <script>\n",
              "        const buttonEl =\n",
              "          document.querySelector('#df-c26a99d9-9450-48c2-aa23-a0b366629c42 button.colab-df-convert');\n",
              "        buttonEl.style.display =\n",
              "          google.colab.kernel.accessAllowed ? 'block' : 'none';\n",
              "\n",
              "        async function convertToInteractive(key) {\n",
              "          const element = document.querySelector('#df-c26a99d9-9450-48c2-aa23-a0b366629c42');\n",
              "          const dataTable =\n",
              "            await google.colab.kernel.invokeFunction('convertToInteractive',\n",
              "                                                     [key], {});\n",
              "          if (!dataTable) return;\n",
              "\n",
              "          const docLinkHtml = 'Like what you see? Visit the ' +\n",
              "            '<a target=\"_blank\" href=https://colab.research.google.com/notebooks/data_table.ipynb>data table notebook</a>'\n",
              "            + ' to learn more about interactive tables.';\n",
              "          element.innerHTML = '';\n",
              "          dataTable['output_type'] = 'display_data';\n",
              "          await google.colab.output.renderOutput(dataTable, element);\n",
              "          const docLink = document.createElement('div');\n",
              "          docLink.innerHTML = docLinkHtml;\n",
              "          element.appendChild(docLink);\n",
              "        }\n",
              "      </script>\n",
              "    </div>\n",
              "  </div>\n",
              "  "
            ]
          },
          "metadata": {},
          "execution_count": 79
        }
      ]
    },
    {
      "cell_type": "code",
      "source": [
        "features_encoded3.loc[0]"
      ],
      "metadata": {
        "colab": {
          "base_uri": "https://localhost:8080/"
        },
        "id": "8dIjBhS3o_Yh",
        "outputId": "a837d038-896a-430f-c3e0-9df835d4f755"
      },
      "execution_count": null,
      "outputs": [
        {
          "output_type": "execute_result",
          "data": {
            "text/plain": [
              "Age                              67\n",
              "Credit amount                  1169\n",
              "Duration                          6\n",
              "Sex_female                        0\n",
              "Sex_male                          1\n",
              "Job_0                             0\n",
              "Job_1                             0\n",
              "Job_2                             1\n",
              "Job_3                             0\n",
              "Housing_free                      0\n",
              "Housing_own                       1\n",
              "Housing_rent                      0\n",
              "Saving accounts_little            0\n",
              "Saving accounts_missing           1\n",
              "Saving accounts_moderate          0\n",
              "Saving accounts_quite rich        0\n",
              "Saving accounts_rich              0\n",
              "Checking account_little           1\n",
              "Checking account_missing          0\n",
              "Checking account_moderate         0\n",
              "Checking account_rich             0\n",
              "Purpose_business                  0\n",
              "Purpose_car                       0\n",
              "Purpose_domestic appliances       0\n",
              "Purpose_education                 0\n",
              "Purpose_furniture/equipment       0\n",
              "Purpose_radio/TV                  1\n",
              "Purpose_repairs                   0\n",
              "Purpose_vacation/others           0\n",
              "Name: 0, dtype: int64"
            ]
          },
          "metadata": {},
          "execution_count": 80
        }
      ]
    },
    {
      "cell_type": "markdown",
      "source": [
        "#### 6.2 Normalizing numerical features"
      ],
      "metadata": {
        "id": "iSzFsgdTpMxC"
      }
    },
    {
      "cell_type": "code",
      "source": [
        "# Initialize a scaler, then apply it to the numeric features\n",
        "scaler = MinMaxScaler() # default=(0, 1)\n",
        "numerical = ['Age', 'Credit amount', 'Duration']\n",
        "\n",
        "features_normalized3 = pd.DataFrame(data = features_encoded3)\n",
        "features_normalized3[numerical] = scaler.fit_transform(features_normalized3[numerical])\n",
        "features_normalized3.head()"
      ],
      "metadata": {
        "colab": {
          "base_uri": "https://localhost:8080/",
          "height": 317
        },
        "id": "kIUDVMeepE4b",
        "outputId": "c3a06b0d-5b04-4c25-edbb-d4b26e6f5cb2"
      },
      "execution_count": null,
      "outputs": [
        {
          "output_type": "execute_result",
          "data": {
            "text/plain": [
              "        Age  Credit amount  Duration  Sex_female  Sex_male  Job_0  Job_1  \\\n",
              "0  0.857143       0.050567  0.029412           0         1      0      0   \n",
              "1  0.053571       0.313690  0.647059           1         0      0      0   \n",
              "2  0.535714       0.101574  0.117647           0         1      0      1   \n",
              "3  0.464286       0.419941  0.558824           0         1      0      0   \n",
              "4  0.607143       0.254209  0.294118           0         1      0      0   \n",
              "\n",
              "   Job_2  Job_3  Housing_free  ...  Checking account_moderate  \\\n",
              "0      1      0             0  ...                          0   \n",
              "1      1      0             0  ...                          1   \n",
              "2      0      0             0  ...                          0   \n",
              "3      1      0             1  ...                          0   \n",
              "4      1      0             1  ...                          0   \n",
              "\n",
              "   Checking account_rich  Purpose_business  Purpose_car  \\\n",
              "0                      0                 0            0   \n",
              "1                      0                 0            0   \n",
              "2                      0                 0            0   \n",
              "3                      0                 0            0   \n",
              "4                      0                 0            1   \n",
              "\n",
              "   Purpose_domestic appliances  Purpose_education  \\\n",
              "0                            0                  0   \n",
              "1                            0                  0   \n",
              "2                            0                  1   \n",
              "3                            0                  0   \n",
              "4                            0                  0   \n",
              "\n",
              "   Purpose_furniture/equipment  Purpose_radio/TV  Purpose_repairs  \\\n",
              "0                            0                 1                0   \n",
              "1                            0                 1                0   \n",
              "2                            0                 0                0   \n",
              "3                            1                 0                0   \n",
              "4                            0                 0                0   \n",
              "\n",
              "   Purpose_vacation/others  \n",
              "0                        0  \n",
              "1                        0  \n",
              "2                        0  \n",
              "3                        0  \n",
              "4                        0  \n",
              "\n",
              "[5 rows x 29 columns]"
            ],
            "text/html": [
              "\n",
              "  <div id=\"df-556b0210-37f1-44b7-bb83-5a49e4328805\">\n",
              "    <div class=\"colab-df-container\">\n",
              "      <div>\n",
              "<style scoped>\n",
              "    .dataframe tbody tr th:only-of-type {\n",
              "        vertical-align: middle;\n",
              "    }\n",
              "\n",
              "    .dataframe tbody tr th {\n",
              "        vertical-align: top;\n",
              "    }\n",
              "\n",
              "    .dataframe thead th {\n",
              "        text-align: right;\n",
              "    }\n",
              "</style>\n",
              "<table border=\"1\" class=\"dataframe\">\n",
              "  <thead>\n",
              "    <tr style=\"text-align: right;\">\n",
              "      <th></th>\n",
              "      <th>Age</th>\n",
              "      <th>Credit amount</th>\n",
              "      <th>Duration</th>\n",
              "      <th>Sex_female</th>\n",
              "      <th>Sex_male</th>\n",
              "      <th>Job_0</th>\n",
              "      <th>Job_1</th>\n",
              "      <th>Job_2</th>\n",
              "      <th>Job_3</th>\n",
              "      <th>Housing_free</th>\n",
              "      <th>...</th>\n",
              "      <th>Checking account_moderate</th>\n",
              "      <th>Checking account_rich</th>\n",
              "      <th>Purpose_business</th>\n",
              "      <th>Purpose_car</th>\n",
              "      <th>Purpose_domestic appliances</th>\n",
              "      <th>Purpose_education</th>\n",
              "      <th>Purpose_furniture/equipment</th>\n",
              "      <th>Purpose_radio/TV</th>\n",
              "      <th>Purpose_repairs</th>\n",
              "      <th>Purpose_vacation/others</th>\n",
              "    </tr>\n",
              "  </thead>\n",
              "  <tbody>\n",
              "    <tr>\n",
              "      <th>0</th>\n",
              "      <td>0.857143</td>\n",
              "      <td>0.050567</td>\n",
              "      <td>0.029412</td>\n",
              "      <td>0</td>\n",
              "      <td>1</td>\n",
              "      <td>0</td>\n",
              "      <td>0</td>\n",
              "      <td>1</td>\n",
              "      <td>0</td>\n",
              "      <td>0</td>\n",
              "      <td>...</td>\n",
              "      <td>0</td>\n",
              "      <td>0</td>\n",
              "      <td>0</td>\n",
              "      <td>0</td>\n",
              "      <td>0</td>\n",
              "      <td>0</td>\n",
              "      <td>0</td>\n",
              "      <td>1</td>\n",
              "      <td>0</td>\n",
              "      <td>0</td>\n",
              "    </tr>\n",
              "    <tr>\n",
              "      <th>1</th>\n",
              "      <td>0.053571</td>\n",
              "      <td>0.313690</td>\n",
              "      <td>0.647059</td>\n",
              "      <td>1</td>\n",
              "      <td>0</td>\n",
              "      <td>0</td>\n",
              "      <td>0</td>\n",
              "      <td>1</td>\n",
              "      <td>0</td>\n",
              "      <td>0</td>\n",
              "      <td>...</td>\n",
              "      <td>1</td>\n",
              "      <td>0</td>\n",
              "      <td>0</td>\n",
              "      <td>0</td>\n",
              "      <td>0</td>\n",
              "      <td>0</td>\n",
              "      <td>0</td>\n",
              "      <td>1</td>\n",
              "      <td>0</td>\n",
              "      <td>0</td>\n",
              "    </tr>\n",
              "    <tr>\n",
              "      <th>2</th>\n",
              "      <td>0.535714</td>\n",
              "      <td>0.101574</td>\n",
              "      <td>0.117647</td>\n",
              "      <td>0</td>\n",
              "      <td>1</td>\n",
              "      <td>0</td>\n",
              "      <td>1</td>\n",
              "      <td>0</td>\n",
              "      <td>0</td>\n",
              "      <td>0</td>\n",
              "      <td>...</td>\n",
              "      <td>0</td>\n",
              "      <td>0</td>\n",
              "      <td>0</td>\n",
              "      <td>0</td>\n",
              "      <td>0</td>\n",
              "      <td>1</td>\n",
              "      <td>0</td>\n",
              "      <td>0</td>\n",
              "      <td>0</td>\n",
              "      <td>0</td>\n",
              "    </tr>\n",
              "    <tr>\n",
              "      <th>3</th>\n",
              "      <td>0.464286</td>\n",
              "      <td>0.419941</td>\n",
              "      <td>0.558824</td>\n",
              "      <td>0</td>\n",
              "      <td>1</td>\n",
              "      <td>0</td>\n",
              "      <td>0</td>\n",
              "      <td>1</td>\n",
              "      <td>0</td>\n",
              "      <td>1</td>\n",
              "      <td>...</td>\n",
              "      <td>0</td>\n",
              "      <td>0</td>\n",
              "      <td>0</td>\n",
              "      <td>0</td>\n",
              "      <td>0</td>\n",
              "      <td>0</td>\n",
              "      <td>1</td>\n",
              "      <td>0</td>\n",
              "      <td>0</td>\n",
              "      <td>0</td>\n",
              "    </tr>\n",
              "    <tr>\n",
              "      <th>4</th>\n",
              "      <td>0.607143</td>\n",
              "      <td>0.254209</td>\n",
              "      <td>0.294118</td>\n",
              "      <td>0</td>\n",
              "      <td>1</td>\n",
              "      <td>0</td>\n",
              "      <td>0</td>\n",
              "      <td>1</td>\n",
              "      <td>0</td>\n",
              "      <td>1</td>\n",
              "      <td>...</td>\n",
              "      <td>0</td>\n",
              "      <td>0</td>\n",
              "      <td>0</td>\n",
              "      <td>1</td>\n",
              "      <td>0</td>\n",
              "      <td>0</td>\n",
              "      <td>0</td>\n",
              "      <td>0</td>\n",
              "      <td>0</td>\n",
              "      <td>0</td>\n",
              "    </tr>\n",
              "  </tbody>\n",
              "</table>\n",
              "<p>5 rows × 29 columns</p>\n",
              "</div>\n",
              "      <button class=\"colab-df-convert\" onclick=\"convertToInteractive('df-556b0210-37f1-44b7-bb83-5a49e4328805')\"\n",
              "              title=\"Convert this dataframe to an interactive table.\"\n",
              "              style=\"display:none;\">\n",
              "        \n",
              "  <svg xmlns=\"http://www.w3.org/2000/svg\" height=\"24px\"viewBox=\"0 0 24 24\"\n",
              "       width=\"24px\">\n",
              "    <path d=\"M0 0h24v24H0V0z\" fill=\"none\"/>\n",
              "    <path d=\"M18.56 5.44l.94 2.06.94-2.06 2.06-.94-2.06-.94-.94-2.06-.94 2.06-2.06.94zm-11 1L8.5 8.5l.94-2.06 2.06-.94-2.06-.94L8.5 2.5l-.94 2.06-2.06.94zm10 10l.94 2.06.94-2.06 2.06-.94-2.06-.94-.94-2.06-.94 2.06-2.06.94z\"/><path d=\"M17.41 7.96l-1.37-1.37c-.4-.4-.92-.59-1.43-.59-.52 0-1.04.2-1.43.59L10.3 9.45l-7.72 7.72c-.78.78-.78 2.05 0 2.83L4 21.41c.39.39.9.59 1.41.59.51 0 1.02-.2 1.41-.59l7.78-7.78 2.81-2.81c.8-.78.8-2.07 0-2.86zM5.41 20L4 18.59l7.72-7.72 1.47 1.35L5.41 20z\"/>\n",
              "  </svg>\n",
              "      </button>\n",
              "      \n",
              "  <style>\n",
              "    .colab-df-container {\n",
              "      display:flex;\n",
              "      flex-wrap:wrap;\n",
              "      gap: 12px;\n",
              "    }\n",
              "\n",
              "    .colab-df-convert {\n",
              "      background-color: #E8F0FE;\n",
              "      border: none;\n",
              "      border-radius: 50%;\n",
              "      cursor: pointer;\n",
              "      display: none;\n",
              "      fill: #1967D2;\n",
              "      height: 32px;\n",
              "      padding: 0 0 0 0;\n",
              "      width: 32px;\n",
              "    }\n",
              "\n",
              "    .colab-df-convert:hover {\n",
              "      background-color: #E2EBFA;\n",
              "      box-shadow: 0px 1px 2px rgba(60, 64, 67, 0.3), 0px 1px 3px 1px rgba(60, 64, 67, 0.15);\n",
              "      fill: #174EA6;\n",
              "    }\n",
              "\n",
              "    [theme=dark] .colab-df-convert {\n",
              "      background-color: #3B4455;\n",
              "      fill: #D2E3FC;\n",
              "    }\n",
              "\n",
              "    [theme=dark] .colab-df-convert:hover {\n",
              "      background-color: #434B5C;\n",
              "      box-shadow: 0px 1px 3px 1px rgba(0, 0, 0, 0.15);\n",
              "      filter: drop-shadow(0px 1px 2px rgba(0, 0, 0, 0.3));\n",
              "      fill: #FFFFFF;\n",
              "    }\n",
              "  </style>\n",
              "\n",
              "      <script>\n",
              "        const buttonEl =\n",
              "          document.querySelector('#df-556b0210-37f1-44b7-bb83-5a49e4328805 button.colab-df-convert');\n",
              "        buttonEl.style.display =\n",
              "          google.colab.kernel.accessAllowed ? 'block' : 'none';\n",
              "\n",
              "        async function convertToInteractive(key) {\n",
              "          const element = document.querySelector('#df-556b0210-37f1-44b7-bb83-5a49e4328805');\n",
              "          const dataTable =\n",
              "            await google.colab.kernel.invokeFunction('convertToInteractive',\n",
              "                                                     [key], {});\n",
              "          if (!dataTable) return;\n",
              "\n",
              "          const docLinkHtml = 'Like what you see? Visit the ' +\n",
              "            '<a target=\"_blank\" href=https://colab.research.google.com/notebooks/data_table.ipynb>data table notebook</a>'\n",
              "            + ' to learn more about interactive tables.';\n",
              "          element.innerHTML = '';\n",
              "          dataTable['output_type'] = 'display_data';\n",
              "          await google.colab.output.renderOutput(dataTable, element);\n",
              "          const docLink = document.createElement('div');\n",
              "          docLink.innerHTML = docLinkHtml;\n",
              "          element.appendChild(docLink);\n",
              "        }\n",
              "      </script>\n",
              "    </div>\n",
              "  </div>\n",
              "  "
            ]
          },
          "metadata": {},
          "execution_count": 81
        }
      ]
    },
    {
      "cell_type": "markdown",
      "source": [
        "#### 6.3 Over-sampling\n",
        "Over-sampling increases the number of instances in the minority class (risk=1; bad) by SMOTE technique. Unlike under-sampling , over-sampling lead to no information loss. SMOTE technique usually works better than randomly oversampling, because it can eliminate overfitting of repeating samples."
      ],
      "metadata": {
        "id": "1RLWyhPnptFO"
      }
    },
    {
      "cell_type": "code",
      "source": [
        "sm = SMOTE(random_state=0) # sampling_strategy=0.25) # 0.25 is the majority/minority ratio after resampling\n",
        "X_resampled, y_resampled = sm.fit_resample(features_normalized3, target)"
      ],
      "metadata": {
        "id": "Yiqcqj1kp70p"
      },
      "execution_count": null,
      "outputs": []
    },
    {
      "cell_type": "code",
      "source": [
        "X_resampled.shape"
      ],
      "metadata": {
        "colab": {
          "base_uri": "https://localhost:8080/"
        },
        "id": "SnIzI6wOrHNj",
        "outputId": "4fb01ee1-8c2e-4d63-9b41-47286fe140c1"
      },
      "execution_count": null,
      "outputs": [
        {
          "output_type": "execute_result",
          "data": {
            "text/plain": [
              "(1400, 29)"
            ]
          },
          "metadata": {},
          "execution_count": 85
        }
      ]
    },
    {
      "cell_type": "code",
      "source": [
        "y_resampled.sum()"
      ],
      "metadata": {
        "colab": {
          "base_uri": "https://localhost:8080/"
        },
        "id": "EW2nb3PYup83",
        "outputId": "945cd187-cea3-406c-b1d0-8161ddcf3ed2"
      },
      "execution_count": null,
      "outputs": [
        {
          "output_type": "execute_result",
          "data": {
            "text/plain": [
              "700"
            ]
          },
          "metadata": {},
          "execution_count": 88
        }
      ]
    },
    {
      "cell_type": "markdown",
      "source": [
        "So here the minority class (risk=1) has been oversampled to 700, which has the same amount as the majority class (risk=0)."
      ],
      "metadata": {
        "id": "mZinh1RfusPq"
      }
    },
    {
      "cell_type": "markdown",
      "source": [
        "#### 6.4 Splitting data into training and testing sets"
      ],
      "metadata": {
        "id": "CmV_ELqHphlf"
      }
    },
    {
      "cell_type": "code",
      "source": [
        "# Split the 'features' and 'target' data into training and testing sets\n",
        "X_train, X_test, y_train, y_test = train_test_split(X_resampled, \n",
        "                                                    y_resampled,\n",
        "                                                    test_size = 0.2, \n",
        "                                                    random_state = 0)\n",
        "\n",
        "# Show the results of the split\n",
        "print(\"Training set has {} samples.\".format(X_train.shape[0]))\n",
        "print(\"Testing set has {} samples.\".format(X_test.shape[0]))"
      ],
      "metadata": {
        "colab": {
          "base_uri": "https://localhost:8080/"
        },
        "id": "GqLdWyH8paZ8",
        "outputId": "d715c152-142f-4af6-f411-be14d88819f3"
      },
      "execution_count": null,
      "outputs": [
        {
          "output_type": "stream",
          "name": "stdout",
          "text": [
            "Training set has 1120 samples.\n",
            "Testing set has 280 samples.\n"
          ]
        }
      ]
    },
    {
      "cell_type": "markdown",
      "source": [
        "### 7. Training and Evaluating Supervised ML Models (after imputation and oversampling)"
      ],
      "metadata": {
        "id": "RZOibRzZvG2X"
      }
    },
    {
      "cell_type": "markdown",
      "source": [
        "#### 7.1 Building and Evaluating supervised ML models"
      ],
      "metadata": {
        "id": "HiPWP03pvUnU"
      }
    },
    {
      "cell_type": "markdown",
      "source": [
        "##### 7.1.1 Logistic Regression:"
      ],
      "metadata": {
        "id": "7hSafPxUvDdV"
      }
    },
    {
      "cell_type": "code",
      "source": [
        "# Parameter grid for Logistic Regression\n",
        "solvers = ['lbfgs']\n",
        "penalty = ['l2']\n",
        "c_values = [300, 200, 100, 10, 1.0, 0.1]\n",
        "lr_parameters = dict(solver=solvers,penalty=penalty,C=c_values)# define grid search\n",
        "\n",
        "#finding the best model\n",
        "lr_optimal_model = grid_search(LogisticRegression(max_iter=5000), lr_parameters, X_train, y_train)"
      ],
      "metadata": {
        "id": "qQpENo-_pl_a",
        "colab": {
          "base_uri": "https://localhost:8080/"
        },
        "outputId": "1388bf78-06a4-4c36-c553-eff7c615aec4"
      },
      "execution_count": null,
      "outputs": [
        {
          "output_type": "stream",
          "name": "stdout",
          "text": [
            "Best parameters are: \n",
            " {'C': 10, 'penalty': 'l2', 'solver': 'lbfgs'}\n"
          ]
        }
      ]
    },
    {
      "cell_type": "code",
      "source": [
        "lr_model, lr_train_auc, lr_test_auc, lr_train_accuracy, lr_test_accuracy,lr_f1, lr_precision, lr_recall,lr_train_log, lr_test_log = check_scores(lr_optimal_model, X_train, X_test )"
      ],
      "metadata": {
        "colab": {
          "base_uri": "https://localhost:8080/"
        },
        "id": "fIvy602evdJx",
        "outputId": "39bfddbb-09a9-4956-818f-5680b8080dea"
      },
      "execution_count": null,
      "outputs": [
        {
          "output_type": "stream",
          "name": "stdout",
          "text": [
            "The accuracy on train dataset is 0.8169642857142857\n",
            "The accuracy on test dataset is 0.7857142857142857\n",
            "\n",
            "Train confusion matrix:\n",
            "[[460  99]\n",
            " [106 455]]\n",
            "\n",
            "Test confusion matrix:\n",
            "[[116  25]\n",
            " [ 35 104]]\n",
            "\n",
            "AUC on train data: 0.8912847298620212\n",
            "AUC on test data: 0.8412674116026326\n",
            "\n",
            "Train log loss: 0.4072054259146461\n",
            "Test log loss: 0.48326170410426794\n",
            "\n",
            "F score is: 0.7761194029850746\n",
            "Precision is: 0.8062015503875969\n",
            "Recall is: 0.7482014388489209\n"
          ]
        }
      ]
    },
    {
      "cell_type": "markdown",
      "source": [
        "##### 7.1.2 Naive Bayes (GaussianNB):"
      ],
      "metadata": {
        "id": "pzI1W1U8vkbh"
      }
    },
    {
      "cell_type": "code",
      "source": [
        "# Parameter grid for GaussianNB\n",
        "var_smoothing_lst = [5e-11, 1e-10, 5e-10, 1e-9, 5e-9]\n",
        "gnb_parameters = {'var_smoothing': var_smoothing_lst}\n",
        "print(gnb_parameters)\n",
        "\n",
        "\n",
        "#finding the best model\n",
        "gnb_optimal_model = grid_search(GaussianNB(), gnb_parameters, X_train, y_train)"
      ],
      "metadata": {
        "colab": {
          "base_uri": "https://localhost:8080/"
        },
        "id": "Fy8r1u9gvf9X",
        "outputId": "a178b337-0827-4624-e713-6c51f5dda3e8"
      },
      "execution_count": null,
      "outputs": [
        {
          "output_type": "stream",
          "name": "stdout",
          "text": [
            "{'var_smoothing': [5e-11, 1e-10, 5e-10, 1e-09, 5e-09]}\n",
            "Best parameters are: \n",
            " {'var_smoothing': 1e-09}\n"
          ]
        }
      ]
    },
    {
      "cell_type": "code",
      "source": [
        "gnb_model, gnb_train_auc, gnb_test_auc, gnb_train_accuracy, gnb_test_accuracy,gnb_f1, gnb_precision, gnb_recall, gnb_train_log, gnb_test_log = check_scores(gnb_optimal_model, X_train, X_test)"
      ],
      "metadata": {
        "colab": {
          "base_uri": "https://localhost:8080/"
        },
        "id": "LH_H7vYkvpED",
        "outputId": "551d2308-9f02-47ea-e74e-c1b6fc377052"
      },
      "execution_count": null,
      "outputs": [
        {
          "output_type": "stream",
          "name": "stdout",
          "text": [
            "The accuracy on train dataset is 0.7348214285714286\n",
            "The accuracy on test dataset is 0.7285714285714285\n",
            "\n",
            "Train confusion matrix:\n",
            "[[358 201]\n",
            " [ 96 465]]\n",
            "\n",
            "Test confusion matrix:\n",
            "[[ 97  44]\n",
            " [ 32 107]]\n",
            "\n",
            "AUC on train data: 0.7813768538802738\n",
            "AUC on test data: 0.7569773968059595\n",
            "\n",
            "Train log loss: 1.5551595420433655\n",
            "Test log loss: 1.4142796250851997\n",
            "\n",
            "F score is: 0.7379310344827585\n",
            "Precision is: 0.7086092715231788\n",
            "Recall is: 0.7697841726618705\n"
          ]
        }
      ]
    },
    {
      "cell_type": "markdown",
      "source": [
        "##### 7.1.3 knn:"
      ],
      "metadata": {
        "id": "lv65Mn1gvvcH"
      }
    },
    {
      "cell_type": "code",
      "source": [
        "# Parameter grid for knn\n",
        "n_neighbors_lst = [1, 2, 3, 4, 5, 8] \n",
        "weights_lst = ['uniform', 'distance'] \n",
        "knn_parameters = {'n_neighbors': n_neighbors_lst,\n",
        "              'weights': weights_lst}\n",
        "print(knn_parameters)\n",
        "\n",
        "#finding the best model\n",
        "knn_optimal_model = grid_search(KNeighborsClassifier(), knn_parameters, X_train, y_train)"
      ],
      "metadata": {
        "colab": {
          "base_uri": "https://localhost:8080/"
        },
        "id": "rSMvJ-9VvslZ",
        "outputId": "8d7dfe50-19c3-49da-f3a1-78758b2c7347"
      },
      "execution_count": null,
      "outputs": [
        {
          "output_type": "stream",
          "name": "stdout",
          "text": [
            "{'n_neighbors': [1, 2, 3, 4, 5, 8], 'weights': ['uniform', 'distance']}\n",
            "Best parameters are: \n",
            " {'n_neighbors': 3, 'weights': 'distance'}\n"
          ]
        }
      ]
    },
    {
      "cell_type": "code",
      "source": [
        "knn_model, knn_train_auc, knn_test_auc, knn_train_accuracy, knn_test_accuracy, knn_f1, knn_precision, knn_recall, knn_train_log, knn_test_log = check_scores(knn_optimal_model, X_train, X_test)"
      ],
      "metadata": {
        "colab": {
          "base_uri": "https://localhost:8080/"
        },
        "id": "altP-o_evz_k",
        "outputId": "bf0ec845-d432-4719-b792-a2e012b35a63"
      },
      "execution_count": null,
      "outputs": [
        {
          "output_type": "stream",
          "name": "stdout",
          "text": [
            "The accuracy on train dataset is 1.0\n",
            "The accuracy on test dataset is 0.7464285714285714\n",
            "\n",
            "Train confusion matrix:\n",
            "[[559   0]\n",
            " [  0 561]]\n",
            "\n",
            "Test confusion matrix:\n",
            "[[ 98  43]\n",
            " [ 28 111]]\n",
            "\n",
            "AUC on train data: 1.0\n",
            "AUC on test data: 0.81266901372519\n",
            "\n",
            "Train log loss: 3.6097827756637205e-10\n",
            "Test log loss: 3.1491082555789505\n",
            "\n",
            "F score is: 0.757679180887372\n",
            "Precision is: 0.7207792207792207\n",
            "Recall is: 0.7985611510791367\n"
          ]
        }
      ]
    },
    {
      "cell_type": "markdown",
      "source": [
        "##### 7.1.4 Support Vector Machine (SVM):"
      ],
      "metadata": {
        "id": "H5J38ELWv7B2"
      }
    },
    {
      "cell_type": "code",
      "source": [
        "# Parameter grid for SVC\n",
        "kernels = ['linear', 'poly', 'rbf'] \n",
        "gammas = ['scale', 'auto', 5, 10]\n",
        "C_values = [0.005, 0.01, 0.05, 0.1, 1, 10]\n",
        "svc_parameters = {'kernel': kernels,\n",
        "              'gamma': gammas,\n",
        "              'C': C_values}\n",
        "print(svc_parameters)\n",
        "\n",
        "#finding the best model\n",
        "svc_optimal_model = grid_search(SVC(probability=True), svc_parameters, X_train, y_train)"
      ],
      "metadata": {
        "colab": {
          "base_uri": "https://localhost:8080/"
        },
        "id": "gnObs-SPv2I7",
        "outputId": "ef66fa2e-6252-4211-9bdc-5dde663d31fe"
      },
      "execution_count": null,
      "outputs": [
        {
          "output_type": "stream",
          "name": "stdout",
          "text": [
            "{'kernel': ['linear', 'poly', 'rbf'], 'gamma': ['scale', 'auto', 5, 10], 'C': [0.005, 0.01, 0.05, 0.1, 1, 10]}\n",
            "Best parameters are: \n",
            " {'C': 10, 'gamma': 'scale', 'kernel': 'linear'}\n"
          ]
        }
      ]
    },
    {
      "cell_type": "code",
      "source": [
        "svc_model, svc_train_auc, svc_test_auc, svc_train_accuracy, svc_test_accuracy,svc_f1, svc_precision,svc_recall,svc_train_log, svc_test_log = check_scores(svc_optimal_model, X_train, X_test)"
      ],
      "metadata": {
        "colab": {
          "base_uri": "https://localhost:8080/"
        },
        "id": "3Ubj_OD_wBah",
        "outputId": "4514184c-d07c-44a5-e536-a094bf6451a8"
      },
      "execution_count": null,
      "outputs": [
        {
          "output_type": "stream",
          "name": "stdout",
          "text": [
            "The accuracy on train dataset is 0.8107142857142857\n",
            "The accuracy on test dataset is 0.75\n",
            "\n",
            "Train confusion matrix:\n",
            "[[457 102]\n",
            " [110 451]]\n",
            "\n",
            "Test confusion matrix:\n",
            "[[111  30]\n",
            " [ 40  99]]\n",
            "\n",
            "AUC on train data: 0.884478266831208\n",
            "AUC on test data: 0.832848614725241\n",
            "\n",
            "Train log loss: 0.4219042474702623\n",
            "Test log loss: 0.4938993714518895\n",
            "\n",
            "F score is: 0.7388059701492538\n",
            "Precision is: 0.7674418604651163\n",
            "Recall is: 0.7122302158273381\n"
          ]
        }
      ]
    },
    {
      "cell_type": "markdown",
      "source": [
        "##### 7.1.5 Random Forest model:"
      ],
      "metadata": {
        "id": "EYD9xu6ZwOfg"
      }
    },
    {
      "cell_type": "code",
      "source": [
        "# Number of trees\n",
        "n_estimators = [20, 30, 50, 80]\n",
        "\n",
        "# Maximum depth of trees\n",
        "max_depth = [2, 3, 4]\n",
        "\n",
        "# Minimum number of samples required to split a node\n",
        "min_samples_split = [2, 3, 4, 10]\n",
        "\n",
        "# Minimum number of samples required at each leaf node\n",
        "min_samples_leaf = [2, 3, 4, 10]\n",
        "\n",
        "# Hyperparameter Grid\n",
        "rf_parameters = {'n_estimators' : n_estimators,\n",
        "              'max_depth' : max_depth,\n",
        "              'min_samples_split' : min_samples_split,\n",
        "              'min_samples_leaf' : min_samples_leaf}\n",
        "\n",
        "print(rf_parameters)\n",
        "\n",
        "#finding the best model\n",
        "rf_optimal_model = grid_search(RandomForestClassifier(), rf_parameters, X_train, y_train)"
      ],
      "metadata": {
        "colab": {
          "base_uri": "https://localhost:8080/"
        },
        "id": "KhBXWNsEwJ9G",
        "outputId": "8dfc93a4-2362-4662-d6eb-cbcb5605f019"
      },
      "execution_count": null,
      "outputs": [
        {
          "output_type": "stream",
          "name": "stdout",
          "text": [
            "{'n_estimators': [20, 30, 50, 80], 'max_depth': [2, 3, 4], 'min_samples_split': [2, 3, 4, 10], 'min_samples_leaf': [2, 3, 4, 10]}\n",
            "Best parameters are: \n",
            " {'max_depth': 4, 'min_samples_leaf': 4, 'min_samples_split': 3, 'n_estimators': 80}\n"
          ]
        }
      ]
    },
    {
      "cell_type": "code",
      "source": [
        "rf_model, rf_train_auc, rf_test_auc, rf_train_accuracy, rf_test_accuracy,rf_f1, rf_precision,rf_recall,rf_train_log, rf_test_log = check_scores(rf_optimal_model, X_train, X_test)"
      ],
      "metadata": {
        "colab": {
          "base_uri": "https://localhost:8080/"
        },
        "id": "JWgBFcnMwb42",
        "outputId": "4711f012-31ff-40c2-b8bf-9ecbf3f73a72"
      },
      "execution_count": null,
      "outputs": [
        {
          "output_type": "stream",
          "name": "stdout",
          "text": [
            "The accuracy on train dataset is 0.78125\n",
            "The accuracy on test dataset is 0.7285714285714285\n",
            "\n",
            "Train confusion matrix:\n",
            "[[401 158]\n",
            " [ 87 474]]\n",
            "\n",
            "Test confusion matrix:\n",
            "[[100  41]\n",
            " [ 35 104]]\n",
            "\n",
            "AUC on train data: 0.8556564274758529\n",
            "AUC on test data: 0.7635848767794274\n",
            "\n",
            "Train log loss: 0.5217245466174786\n",
            "Test log loss: 0.5873010902652513\n",
            "\n",
            "F score is: 0.7323943661971832\n",
            "Precision is: 0.7172413793103448\n",
            "Recall is: 0.7482014388489209\n"
          ]
        }
      ]
    },
    {
      "cell_type": "markdown",
      "source": [
        "##### 7.1.6 Adaboost:"
      ],
      "metadata": {
        "id": "RLe5-3hSw65Q"
      }
    },
    {
      "cell_type": "code",
      "source": [
        "adb_parameters ={\n",
        "    \"n_estimators\":[100,200,250,300],\n",
        "    \"learning_rate\":[0.1,0.2,0.5,1]\n",
        "}\n",
        "\n",
        "print(adb_parameters)\n",
        "\n",
        "adb_optimal_model = grid_search(AdaBoostClassifier(), adb_parameters, X_train, y_train)"
      ],
      "metadata": {
        "colab": {
          "base_uri": "https://localhost:8080/"
        },
        "id": "CN9nV8w8wmO9",
        "outputId": "54690c96-fa9c-420a-c180-25cec7fa668a"
      },
      "execution_count": null,
      "outputs": [
        {
          "output_type": "stream",
          "name": "stdout",
          "text": [
            "{'n_estimators': [100, 200, 250, 300], 'learning_rate': [0.1, 0.2, 0.5, 1]}\n",
            "Best parameters are: \n",
            " {'learning_rate': 0.2, 'n_estimators': 250}\n"
          ]
        }
      ]
    },
    {
      "cell_type": "code",
      "source": [
        "adb_model, adb_train_auc, adb_test_auc, adb_train_accuracy, adb_test_accuracy, adb_f1, adb_precision, adb_recall, adb_train_log, adb_test_log = check_scores(adb_optimal_model, X_train, X_test)"
      ],
      "metadata": {
        "colab": {
          "base_uri": "https://localhost:8080/"
        },
        "id": "E4SEvLdww-ui",
        "outputId": "6e5b4cc3-be46-464b-e063-843a2389e7d9"
      },
      "execution_count": null,
      "outputs": [
        {
          "output_type": "stream",
          "name": "stdout",
          "text": [
            "The accuracy on train dataset is 0.7946428571428571\n",
            "The accuracy on test dataset is 0.7428571428571429\n",
            "\n",
            "Train confusion matrix:\n",
            "[[426 133]\n",
            " [ 97 464]]\n",
            "\n",
            "Test confusion matrix:\n",
            "[[108  33]\n",
            " [ 39 100]]\n",
            "\n",
            "AUC on train data: 0.8696982452112412\n",
            "AUC on test data: 0.7835348742282768\n",
            "\n",
            "Train log loss: 0.682022727890281\n",
            "Test log loss: 0.6854147704932139\n",
            "\n",
            "F score is: 0.7352941176470588\n",
            "Precision is: 0.7518796992481203\n",
            "Recall is: 0.7194244604316546\n"
          ]
        }
      ]
    },
    {
      "cell_type": "markdown",
      "source": [
        "##### 7.1.7 Gradient boost:"
      ],
      "metadata": {
        "id": "MbKEPhSuxO9X"
      }
    },
    {
      "cell_type": "code",
      "source": [
        "gb_parameters ={\n",
        "    \"n_estimators\":[5,50,100,250],\n",
        "    \"max_depth\":[3,5,7,9],\n",
        "    \"min_samples_split\": [2,3,4],\n",
        "    \"min_samples_leaf\": [2,3,4],\n",
        "    \"learning_rate\":[0.01,0.1,0.5]\n",
        "}\n",
        "\n",
        "print(gb_parameters)\n",
        "\n",
        "gb_optimal_model = grid_search(GradientBoostingClassifier(), gb_parameters, X_train, y_train)"
      ],
      "metadata": {
        "colab": {
          "base_uri": "https://localhost:8080/"
        },
        "id": "yfkz9KjLxLtY",
        "outputId": "a3c0d5d6-5ba1-4e58-8d74-a5b6cbac0d1b"
      },
      "execution_count": null,
      "outputs": [
        {
          "output_type": "stream",
          "name": "stdout",
          "text": [
            "{'n_estimators': [5, 50, 100, 250], 'max_depth': [3, 5, 7, 9], 'min_samples_split': [2, 3, 4], 'min_samples_leaf': [2, 3, 4], 'learning_rate': [0.01, 0.1, 0.5]}\n",
            "Best parameters are: \n",
            " {'learning_rate': 0.1, 'max_depth': 5, 'min_samples_leaf': 4, 'min_samples_split': 3, 'n_estimators': 50}\n"
          ]
        }
      ]
    },
    {
      "cell_type": "code",
      "source": [
        "gb_model, gb_train_auc, gb_test_auc, gb_train_accuracy, gb_test_accuracy,gb_f1, gb_precision,gb_recall,gb_train_log, gb_test_log = check_scores(gb_optimal_model, X_train, X_test )"
      ],
      "metadata": {
        "colab": {
          "base_uri": "https://localhost:8080/"
        },
        "id": "EqRixv1sxRBn",
        "outputId": "2dd1070d-5175-483a-f035-b44bf47c0330"
      },
      "execution_count": null,
      "outputs": [
        {
          "output_type": "stream",
          "name": "stdout",
          "text": [
            "The accuracy on train dataset is 0.93125\n",
            "The accuracy on test dataset is 0.75\n",
            "\n",
            "Train confusion matrix:\n",
            "[[504  55]\n",
            " [ 22 539]]\n",
            "\n",
            "Test confusion matrix:\n",
            "[[108  33]\n",
            " [ 37 102]]\n",
            "\n",
            "AUC on train data: 0.9821029403792743\n",
            "AUC on test data: 0.8220572478187663\n",
            "\n",
            "Train log loss: 0.266167047012184\n",
            "Test log loss: 0.5264177534069044\n",
            "\n",
            "F score is: 0.7445255474452555\n",
            "Precision is: 0.7555555555555555\n",
            "Recall is: 0.7338129496402878\n"
          ]
        }
      ]
    },
    {
      "cell_type": "markdown",
      "source": [
        "##### 7.1.8 XGBoost:"
      ],
      "metadata": {
        "id": "vVRdurtNyRN3"
      }
    },
    {
      "cell_type": "code",
      "source": [
        "# Parameter grid for xgboost\n",
        "xgb_parameters ={\n",
        "    \"n_estimators\":[5,10,50,100],\n",
        "    \"max_depth\":[3,5,7],\n",
        "    \"min_samples_split\": [2,3,4],\n",
        "    \"min_samples_leaf\": [2,3,4],\n",
        "    \"learning_rate\":[0.01,0.1,0.5,1]\n",
        "}\n",
        "\n",
        "print(xgb_parameters)\n",
        "#finding the best model\n",
        "xgb_optimal_model = grid_search(XGBClassifier(), xgb_parameters, X_train, y_train)"
      ],
      "metadata": {
        "colab": {
          "base_uri": "https://localhost:8080/"
        },
        "id": "y06dInLzyOmB",
        "outputId": "de01f144-ff84-4e94-a9d3-2a464902d18d"
      },
      "execution_count": null,
      "outputs": [
        {
          "output_type": "stream",
          "name": "stdout",
          "text": [
            "{'n_estimators': [5, 10, 50, 100], 'max_depth': [3, 5, 7], 'min_samples_split': [2, 3, 4], 'min_samples_leaf': [2, 3, 4], 'learning_rate': [0.01, 0.1, 0.5, 1]}\n",
            "Best parameters are: \n",
            " {'learning_rate': 0.1, 'max_depth': 3, 'min_samples_leaf': 2, 'min_samples_split': 2, 'n_estimators': 50}\n"
          ]
        }
      ]
    },
    {
      "cell_type": "code",
      "source": [
        "xgb_model, xgb_train_auc, xgb_test_auc, xgb_train_accuracy, xgb_test_accuracy,xgb_f1, xgb_precision,xgb_recall,xgb_train_log, xgb_test_log= check_scores(xgb_optimal_model, X_train, X_test )"
      ],
      "metadata": {
        "colab": {
          "base_uri": "https://localhost:8080/"
        },
        "id": "Juh-dRfXyTe1",
        "outputId": "3de7188e-8195-4f8f-a1cc-b518eab55b6a"
      },
      "execution_count": null,
      "outputs": [
        {
          "output_type": "stream",
          "name": "stdout",
          "text": [
            "The accuracy on train dataset is 0.8178571428571428\n",
            "The accuracy on test dataset is 0.7321428571428571\n",
            "\n",
            "Train confusion matrix:\n",
            "[[427 132]\n",
            " [ 72 489]]\n",
            "\n",
            "Test confusion matrix:\n",
            "[[103  38]\n",
            " [ 37 102]]\n",
            "\n",
            "AUC on train data: 0.9064681328703217\n",
            "AUC on test data: 0.8013674167049339\n",
            "\n",
            "Train log loss: 0.423044423088764\n",
            "Test log loss: 0.5492107568973942\n",
            "\n",
            "F score is: 0.7311827956989246\n",
            "Precision is: 0.7285714285714285\n",
            "Recall is: 0.7338129496402878\n"
          ]
        }
      ]
    },
    {
      "cell_type": "markdown",
      "source": [
        "##### 7.1.9 Comparing metrics of all models"
      ],
      "metadata": {
        "id": "NTcK1jm8yijK"
      }
    },
    {
      "cell_type": "code",
      "source": [
        "scores_ = [(\"Logistic Regression\", lr_train_auc, lr_test_auc, lr_train_accuracy, lr_test_accuracy,lr_train_log, lr_test_log,lr_f1, lr_precision, lr_recall,),\n",
        "           (\"Gaussian Naive Bayes\", gnb_train_auc, gnb_test_auc, gnb_train_accuracy, gnb_test_accuracy,gnb_train_log, gnb_test_log, gnb_f1, gnb_precision, gnb_recall),\n",
        "           (\"knn\", knn_train_auc, knn_test_auc, knn_train_accuracy, knn_test_accuracy,knn_train_log, knn_test_log,knn_f1, knn_precision, knn_recall),\n",
        "           (\"SVC\", svc_train_auc, svc_test_auc, svc_train_accuracy, svc_test_accuracy,svc_train_log, svc_test_log,svc_f1, svc_precision, svc_recall),\n",
        "           (\"Random Forest\", rf_train_auc, rf_test_auc, rf_train_accuracy, rf_test_accuracy,rf_train_log, rf_test_log,rf_f1, rf_precision, rf_recall),\n",
        "           (\"AdaBoost\",  adb_train_auc, adb_test_auc, adb_train_accuracy, adb_test_accuracy, adb_train_log, adb_test_log, adb_f1, adb_precision, adb_recall),\n",
        "           (\"Gradient Boosting\",  gb_train_auc, gb_test_auc, gb_train_accuracy, gb_test_accuracy,gb_train_log, gb_test_log,gb_f1, gb_precision,gb_recall),\n",
        "           (\"XG Boost\", xgb_train_auc, xgb_test_auc, xgb_train_accuracy, xgb_test_accuracy,xgb_train_log, xgb_test_log,xgb_f1, xgb_precision, xgb_recall)]\n",
        "\n",
        "\n",
        "Scores_ =pd.DataFrame(data = scores_, columns=['Model Name', 'Train ROC', 'Test ROC', 'Train Accuracy', 'Test Accuracy', 'Train Log Loss','Test Log Loss','F-Score', 'Precision','Recall',])\n",
        "Scores_.set_index('Model Name', inplace = True)\n"
      ],
      "metadata": {
        "id": "yix4S-QYyglm"
      },
      "execution_count": null,
      "outputs": []
    },
    {
      "cell_type": "code",
      "source": [
        "Scores_"
      ],
      "metadata": {
        "colab": {
          "base_uri": "https://localhost:8080/",
          "height": 375
        },
        "id": "T1NhxEuIyo1F",
        "outputId": "16fd89cf-0a11-4125-c7ec-1a804a653c60"
      },
      "execution_count": null,
      "outputs": [
        {
          "output_type": "execute_result",
          "data": {
            "text/plain": [
              "                      Train ROC  Test ROC  Train Accuracy  Test Accuracy  \\\n",
              "Model Name                                                                 \n",
              "Logistic Regression    0.891285  0.841267        0.816964       0.785714   \n",
              "Gaussian Naive Bayes   0.781377  0.756977        0.734821       0.728571   \n",
              "knn                    1.000000  0.812669        1.000000       0.746429   \n",
              "SVC                    0.884478  0.832849        0.810714       0.750000   \n",
              "Random Forest          0.855656  0.763585        0.781250       0.728571   \n",
              "AdaBoost               0.869698  0.783535        0.794643       0.742857   \n",
              "Gradient Boosting      0.982103  0.822057        0.931250       0.750000   \n",
              "XG Boost               0.906468  0.801367        0.817857       0.732143   \n",
              "\n",
              "                      Train Log Loss  Test Log Loss   F-Score  Precision  \\\n",
              "Model Name                                                                 \n",
              "Logistic Regression     4.072054e-01       0.483262  0.776119   0.806202   \n",
              "Gaussian Naive Bayes    1.555160e+00       1.414280  0.737931   0.708609   \n",
              "knn                     3.609783e-10       3.149108  0.757679   0.720779   \n",
              "SVC                     4.219042e-01       0.493899  0.738806   0.767442   \n",
              "Random Forest           5.217245e-01       0.587301  0.732394   0.717241   \n",
              "AdaBoost                6.820227e-01       0.685415  0.735294   0.751880   \n",
              "Gradient Boosting       2.661670e-01       0.526418  0.744526   0.755556   \n",
              "XG Boost                4.230444e-01       0.549211  0.731183   0.728571   \n",
              "\n",
              "                        Recall  \n",
              "Model Name                      \n",
              "Logistic Regression   0.748201  \n",
              "Gaussian Naive Bayes  0.769784  \n",
              "knn                   0.798561  \n",
              "SVC                   0.712230  \n",
              "Random Forest         0.748201  \n",
              "AdaBoost              0.719424  \n",
              "Gradient Boosting     0.733813  \n",
              "XG Boost              0.733813  "
            ],
            "text/html": [
              "\n",
              "  <div id=\"df-19bc9803-372d-4379-a4c8-729c9665e924\">\n",
              "    <div class=\"colab-df-container\">\n",
              "      <div>\n",
              "<style scoped>\n",
              "    .dataframe tbody tr th:only-of-type {\n",
              "        vertical-align: middle;\n",
              "    }\n",
              "\n",
              "    .dataframe tbody tr th {\n",
              "        vertical-align: top;\n",
              "    }\n",
              "\n",
              "    .dataframe thead th {\n",
              "        text-align: right;\n",
              "    }\n",
              "</style>\n",
              "<table border=\"1\" class=\"dataframe\">\n",
              "  <thead>\n",
              "    <tr style=\"text-align: right;\">\n",
              "      <th></th>\n",
              "      <th>Train ROC</th>\n",
              "      <th>Test ROC</th>\n",
              "      <th>Train Accuracy</th>\n",
              "      <th>Test Accuracy</th>\n",
              "      <th>Train Log Loss</th>\n",
              "      <th>Test Log Loss</th>\n",
              "      <th>F-Score</th>\n",
              "      <th>Precision</th>\n",
              "      <th>Recall</th>\n",
              "    </tr>\n",
              "    <tr>\n",
              "      <th>Model Name</th>\n",
              "      <th></th>\n",
              "      <th></th>\n",
              "      <th></th>\n",
              "      <th></th>\n",
              "      <th></th>\n",
              "      <th></th>\n",
              "      <th></th>\n",
              "      <th></th>\n",
              "      <th></th>\n",
              "    </tr>\n",
              "  </thead>\n",
              "  <tbody>\n",
              "    <tr>\n",
              "      <th>Logistic Regression</th>\n",
              "      <td>0.891285</td>\n",
              "      <td>0.841267</td>\n",
              "      <td>0.816964</td>\n",
              "      <td>0.785714</td>\n",
              "      <td>4.072054e-01</td>\n",
              "      <td>0.483262</td>\n",
              "      <td>0.776119</td>\n",
              "      <td>0.806202</td>\n",
              "      <td>0.748201</td>\n",
              "    </tr>\n",
              "    <tr>\n",
              "      <th>Gaussian Naive Bayes</th>\n",
              "      <td>0.781377</td>\n",
              "      <td>0.756977</td>\n",
              "      <td>0.734821</td>\n",
              "      <td>0.728571</td>\n",
              "      <td>1.555160e+00</td>\n",
              "      <td>1.414280</td>\n",
              "      <td>0.737931</td>\n",
              "      <td>0.708609</td>\n",
              "      <td>0.769784</td>\n",
              "    </tr>\n",
              "    <tr>\n",
              "      <th>knn</th>\n",
              "      <td>1.000000</td>\n",
              "      <td>0.812669</td>\n",
              "      <td>1.000000</td>\n",
              "      <td>0.746429</td>\n",
              "      <td>3.609783e-10</td>\n",
              "      <td>3.149108</td>\n",
              "      <td>0.757679</td>\n",
              "      <td>0.720779</td>\n",
              "      <td>0.798561</td>\n",
              "    </tr>\n",
              "    <tr>\n",
              "      <th>SVC</th>\n",
              "      <td>0.884478</td>\n",
              "      <td>0.832849</td>\n",
              "      <td>0.810714</td>\n",
              "      <td>0.750000</td>\n",
              "      <td>4.219042e-01</td>\n",
              "      <td>0.493899</td>\n",
              "      <td>0.738806</td>\n",
              "      <td>0.767442</td>\n",
              "      <td>0.712230</td>\n",
              "    </tr>\n",
              "    <tr>\n",
              "      <th>Random Forest</th>\n",
              "      <td>0.855656</td>\n",
              "      <td>0.763585</td>\n",
              "      <td>0.781250</td>\n",
              "      <td>0.728571</td>\n",
              "      <td>5.217245e-01</td>\n",
              "      <td>0.587301</td>\n",
              "      <td>0.732394</td>\n",
              "      <td>0.717241</td>\n",
              "      <td>0.748201</td>\n",
              "    </tr>\n",
              "    <tr>\n",
              "      <th>AdaBoost</th>\n",
              "      <td>0.869698</td>\n",
              "      <td>0.783535</td>\n",
              "      <td>0.794643</td>\n",
              "      <td>0.742857</td>\n",
              "      <td>6.820227e-01</td>\n",
              "      <td>0.685415</td>\n",
              "      <td>0.735294</td>\n",
              "      <td>0.751880</td>\n",
              "      <td>0.719424</td>\n",
              "    </tr>\n",
              "    <tr>\n",
              "      <th>Gradient Boosting</th>\n",
              "      <td>0.982103</td>\n",
              "      <td>0.822057</td>\n",
              "      <td>0.931250</td>\n",
              "      <td>0.750000</td>\n",
              "      <td>2.661670e-01</td>\n",
              "      <td>0.526418</td>\n",
              "      <td>0.744526</td>\n",
              "      <td>0.755556</td>\n",
              "      <td>0.733813</td>\n",
              "    </tr>\n",
              "    <tr>\n",
              "      <th>XG Boost</th>\n",
              "      <td>0.906468</td>\n",
              "      <td>0.801367</td>\n",
              "      <td>0.817857</td>\n",
              "      <td>0.732143</td>\n",
              "      <td>4.230444e-01</td>\n",
              "      <td>0.549211</td>\n",
              "      <td>0.731183</td>\n",
              "      <td>0.728571</td>\n",
              "      <td>0.733813</td>\n",
              "    </tr>\n",
              "  </tbody>\n",
              "</table>\n",
              "</div>\n",
              "      <button class=\"colab-df-convert\" onclick=\"convertToInteractive('df-19bc9803-372d-4379-a4c8-729c9665e924')\"\n",
              "              title=\"Convert this dataframe to an interactive table.\"\n",
              "              style=\"display:none;\">\n",
              "        \n",
              "  <svg xmlns=\"http://www.w3.org/2000/svg\" height=\"24px\"viewBox=\"0 0 24 24\"\n",
              "       width=\"24px\">\n",
              "    <path d=\"M0 0h24v24H0V0z\" fill=\"none\"/>\n",
              "    <path d=\"M18.56 5.44l.94 2.06.94-2.06 2.06-.94-2.06-.94-.94-2.06-.94 2.06-2.06.94zm-11 1L8.5 8.5l.94-2.06 2.06-.94-2.06-.94L8.5 2.5l-.94 2.06-2.06.94zm10 10l.94 2.06.94-2.06 2.06-.94-2.06-.94-.94-2.06-.94 2.06-2.06.94z\"/><path d=\"M17.41 7.96l-1.37-1.37c-.4-.4-.92-.59-1.43-.59-.52 0-1.04.2-1.43.59L10.3 9.45l-7.72 7.72c-.78.78-.78 2.05 0 2.83L4 21.41c.39.39.9.59 1.41.59.51 0 1.02-.2 1.41-.59l7.78-7.78 2.81-2.81c.8-.78.8-2.07 0-2.86zM5.41 20L4 18.59l7.72-7.72 1.47 1.35L5.41 20z\"/>\n",
              "  </svg>\n",
              "      </button>\n",
              "      \n",
              "  <style>\n",
              "    .colab-df-container {\n",
              "      display:flex;\n",
              "      flex-wrap:wrap;\n",
              "      gap: 12px;\n",
              "    }\n",
              "\n",
              "    .colab-df-convert {\n",
              "      background-color: #E8F0FE;\n",
              "      border: none;\n",
              "      border-radius: 50%;\n",
              "      cursor: pointer;\n",
              "      display: none;\n",
              "      fill: #1967D2;\n",
              "      height: 32px;\n",
              "      padding: 0 0 0 0;\n",
              "      width: 32px;\n",
              "    }\n",
              "\n",
              "    .colab-df-convert:hover {\n",
              "      background-color: #E2EBFA;\n",
              "      box-shadow: 0px 1px 2px rgba(60, 64, 67, 0.3), 0px 1px 3px 1px rgba(60, 64, 67, 0.15);\n",
              "      fill: #174EA6;\n",
              "    }\n",
              "\n",
              "    [theme=dark] .colab-df-convert {\n",
              "      background-color: #3B4455;\n",
              "      fill: #D2E3FC;\n",
              "    }\n",
              "\n",
              "    [theme=dark] .colab-df-convert:hover {\n",
              "      background-color: #434B5C;\n",
              "      box-shadow: 0px 1px 3px 1px rgba(0, 0, 0, 0.15);\n",
              "      filter: drop-shadow(0px 1px 2px rgba(0, 0, 0, 0.3));\n",
              "      fill: #FFFFFF;\n",
              "    }\n",
              "  </style>\n",
              "\n",
              "      <script>\n",
              "        const buttonEl =\n",
              "          document.querySelector('#df-19bc9803-372d-4379-a4c8-729c9665e924 button.colab-df-convert');\n",
              "        buttonEl.style.display =\n",
              "          google.colab.kernel.accessAllowed ? 'block' : 'none';\n",
              "\n",
              "        async function convertToInteractive(key) {\n",
              "          const element = document.querySelector('#df-19bc9803-372d-4379-a4c8-729c9665e924');\n",
              "          const dataTable =\n",
              "            await google.colab.kernel.invokeFunction('convertToInteractive',\n",
              "                                                     [key], {});\n",
              "          if (!dataTable) return;\n",
              "\n",
              "          const docLinkHtml = 'Like what you see? Visit the ' +\n",
              "            '<a target=\"_blank\" href=https://colab.research.google.com/notebooks/data_table.ipynb>data table notebook</a>'\n",
              "            + ' to learn more about interactive tables.';\n",
              "          element.innerHTML = '';\n",
              "          dataTable['output_type'] = 'display_data';\n",
              "          await google.colab.output.renderOutput(dataTable, element);\n",
              "          const docLink = document.createElement('div');\n",
              "          docLink.innerHTML = docLinkHtml;\n",
              "          element.appendChild(docLink);\n",
              "        }\n",
              "      </script>\n",
              "    </div>\n",
              "  </div>\n",
              "  "
            ]
          },
          "metadata": {},
          "execution_count": 115
        }
      ]
    },
    {
      "cell_type": "markdown",
      "source": [
        "It is found that the F1-score (and therefore both precision and recall) increased dramatically from session 5. So imputing the missing values with \"missing\" constant, as well as SMOTE technique to oversampling the minority class, helps optimize the models. "
      ],
      "metadata": {
        "id": "wW-jeifyyyYp"
      }
    },
    {
      "cell_type": "markdown",
      "source": [
        "From the table, the model works best (after imputing the missing values with \"missing\" constant and oversampling the minority class with the SMOTE technique is Logistic Regression. It showed an AUC of 0.84, accuracy of 0.79, F-score of 0.78 (precision of 0.81 and recall of 0.75), and log loss of 0.48 for the testing dataset. Other models that work well are SVC and Gradient Boosting."
      ],
      "metadata": {
        "id": "OycIABLu0YQZ"
      }
    },
    {
      "cell_type": "markdown",
      "source": [
        "#### 7.2 Feature importance\n",
        "For some models, we can find the importance of features that are used in predicting. "
      ],
      "metadata": {
        "id": "qyzF4mCszC7w"
      }
    },
    {
      "cell_type": "markdown",
      "source": [
        "##### 7.2.1 Random Forest:\n",
        "The top 5 important features are \"Checking account_missing\", \"Duration\", \"Age\", \"Checking account_little\", and \"Saving accounts_missing\"."
      ],
      "metadata": {
        "id": "lyPdDw2i2eMl"
      }
    },
    {
      "cell_type": "code",
      "source": [
        "plot_feature_importance(rf_optimal_model, X_train)"
      ],
      "metadata": {
        "colab": {
          "base_uri": "https://localhost:8080/",
          "height": 615
        },
        "id": "IiEejNKCyqU8",
        "outputId": "2a0e5938-a8ca-4002-a23c-c8796673314a"
      },
      "execution_count": null,
      "outputs": [
        {
          "output_type": "display_data",
          "data": {
            "text/plain": [
              "<Figure size 1080x576 with 1 Axes>"
            ],
            "image/png": "[encoded data removed]"
          },
          "metadata": {
            "needs_background": "light"
          }
        }
      ]
    },
    {
      "cell_type": "markdown",
      "source": [
        "##### 7.2.2 Adaboost:\n",
        "The top 5 important features are \"Credit amount\", \"Duration\", \"Age\", \"Checking account_missing\", and \"Purpose_Radio/TV\"."
      ],
      "metadata": {
        "id": "2HhEDF6t2ylb"
      }
    },
    {
      "cell_type": "code",
      "source": [
        "plot_feature_importance(adb_optimal_model, X_train)"
      ],
      "metadata": {
        "colab": {
          "base_uri": "https://localhost:8080/",
          "height": 620
        },
        "id": "Z0oqWLi52KTE",
        "outputId": "cbf74745-7165-4e63-8b94-833114043cd3"
      },
      "execution_count": null,
      "outputs": [
        {
          "output_type": "display_data",
          "data": {
            "text/plain": [
              "<Figure size 1080x576 with 1 Axes>"
            ],
            "image/png": "[encoded data removed]"
          },
          "metadata": {
            "needs_background": "light"
          }
        }
      ]
    },
    {
      "cell_type": "markdown",
      "source": [
        "##### 7.2.3 Gradient boost:\n",
        "The top 5 important features are \"Checking account_missing\", \"Duration\", \"Credit amount\", \"Age\", and \"Saving accounts_missing\"."
      ],
      "metadata": {
        "id": "DHs6xicC3F0E"
      }
    },
    {
      "cell_type": "code",
      "source": [
        "plot_feature_importance(gb_optimal_model, X_train)"
      ],
      "metadata": {
        "colab": {
          "base_uri": "https://localhost:8080/",
          "height": 619
        },
        "id": "oMpAxx_P2wCR",
        "outputId": "8939de5d-3d31-4243-e57f-2f9f2812867e"
      },
      "execution_count": null,
      "outputs": [
        {
          "output_type": "display_data",
          "data": {
            "text/plain": [
              "<Figure size 1080x576 with 1 Axes>"
            ],
            "image/png": "[encoded data removed]"
          },
          "metadata": {
            "needs_background": "light"
          }
        }
      ]
    },
    {
      "cell_type": "markdown",
      "source": [
        "##### 7.2.3 XGBoost:\n",
        "Here \"Checking account_missing\" shows a predominent effect in predicting; other important features are \"Saving accounts_moderate\", \"Saving accounts_missing\", \"Duration\", \"Sex_male\", and \"Checking account_moderate\"."
      ],
      "metadata": {
        "id": "jDDGpLj13SRS"
      }
    },
    {
      "cell_type": "code",
      "source": [
        "plot_feature_importance(xgb_optimal_model, X_train)"
      ],
      "metadata": {
        "colab": {
          "base_uri": "https://localhost:8080/",
          "height": 619
        },
        "id": "23oVtOw23Ar9",
        "outputId": "b2733797-9f48-4109-c098-14a9f5c30d20"
      },
      "execution_count": null,
      "outputs": [
        {
          "output_type": "display_data",
          "data": {
            "text/plain": [
              "<Figure size 1080x576 with 1 Axes>"
            ],
            "image/png": "[encoded data removed]"
          },
          "metadata": {
            "needs_background": "light"
          }
        }
      ]
    },
    {
      "cell_type": "code",
      "source": [
        ""
      ],
      "metadata": {
        "id": "tH_xles93Cga"
      },
      "execution_count": null,
      "outputs": []
    }
  ]
}